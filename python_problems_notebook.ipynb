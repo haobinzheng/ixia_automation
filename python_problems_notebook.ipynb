{
 "cells": [
  {
   "cell_type": "code",
   "execution_count": 69,
   "id": "c6b52068",
   "metadata": {
    "scrolled": true
   },
   "outputs": [
    {
     "name": "stdout",
     "output_type": "stream",
     "text": [
      "yxfsdafdafdfdv\n",
      "yxvsffffddddaa\n",
      "yxfsdafdafdfdv vdfdfadfadsfxy\n",
      "fs\n",
      "fsdafdafdf\n",
      "{'v': [0], 'd': [1, 3, 6, 9], 'f': [2, 4, 7, 11], 'a': [5, 8], 's': [10], 'x': [12], 'y': [13]}\n",
      "0\n"
     ]
    }
   ],
   "source": [
    "#String manupilation\n",
    "s = \"vdfdfadfadsfxy\"\n",
    "ss = ''.join(reversed(s))\n",
    "print(ss)\n",
    "\n",
    "print(''.join(sorted(s,reverse=True)))\n",
    "print(s[::-1],s)\n",
    "print(s[-3:-5:-1])\n",
    "print(s[-3:1:-1])\n",
    "\n",
    "str_dict = {}\n",
    "for index,value in enumerate(s):\n",
    "    str_dict.setdefault(value,[]).append(index)\n",
    "print(str_dict)\n",
    "k_list = []\n",
    "for k,v in str_dict.items():\n",
    "    if len(v) == 1:\n",
    "        k_list.append(v[0])\n",
    "result = min(k_list)\n",
    "print(result)\n",
    "    \n",
    "#Write a Python function to find the first non-repeated character in a given string.\n"
   ]
  },
  {
   "cell_type": "code",
   "execution_count": 2,
   "id": "8e767040",
   "metadata": {},
   "outputs": [
    {
     "name": "stdout",
     "output_type": "stream",
     "text": [
      "[11, 22, 33]\n",
      "[11, 22, 33]\n",
      "['HELLO', 'WORLD', 'PYTHON']\n",
      "['HELLO', 'WORLD', 'PYTHON']\n",
      "[1, 4, 9, 16, 25]\n",
      "[1, 4, 9, 16, 25]\n"
     ]
    }
   ],
   "source": [
    "# Using for loop\n",
    "list1 = [1, 2, 3]\n",
    "list2 = [10, 20, 30]\n",
    "combined = list(map(lambda x,y: x+y,list1, list2))\n",
    "print(combined)\n",
    "\n",
    "# Using map function\n",
    "list1 = [1, 2, 3]\n",
    "list2 = [10, 20, 30]\n",
    "combined = map(lambda x, y: x+y, list1, list2)\n",
    "print(list(combined)) # [11, 22, 33]\n",
    "\n",
    "# Using for loop\n",
    "words = ['hello', 'world', 'python']\n",
    "upper_words = []\n",
    "for word in words:\n",
    "    upper_words.append(word.upper())\n",
    "print(upper_words) # ['HELLO', 'WORLD', 'PYTHON']\n",
    "\n",
    "# Using map function\n",
    "words = ['hello', 'world', 'python']\n",
    "upper_words = map(str.upper, words)\n",
    "print(list(upper_words)) # ['HELLO', 'WORLD', 'PYTHON']\n",
    "\n",
    "\n",
    "# Using for loop\n",
    "numbers = [1, 2, 3, 4, 5]\n",
    "squared_numbers = []\n",
    "for num in numbers:\n",
    "    squared_numbers.append(num ** 2)\n",
    "print(squared_numbers) # [1, 4, 9, 16, 25]\n",
    "\n",
    "# Using map function\n",
    "numbers = [1, 2, 3, 4, 5]\n",
    "squared_numbers = map(lambda x: x**2, numbers)\n",
    "print(list(squared_numbers)) # [1, 4, 9, 16, 25]\n"
   ]
  },
  {
   "cell_type": "code",
   "execution_count": 42,
   "id": "fb92de0d",
   "metadata": {},
   "outputs": [
    {
     "name": "stdout",
     "output_type": "stream",
     "text": [
      "First recurrence: Z\n"
     ]
    }
   ],
   "source": [
    "s = \"ZEqZAZYABACBCB\" #A is the first recurrence\n",
    "import heapq\n",
    "\n",
    "s = \"ZEqZAZYABACBCB\"\n",
    "\n",
    "seen = set()\n",
    "for c in s:\n",
    "    if c in seen:\n",
    "        print(\"First recurrence:\", c)\n",
    "        break\n",
    "    seen.add(c)\n",
    "\n"
   ]
  },
  {
   "cell_type": "code",
   "execution_count": 4,
   "id": "6b831356",
   "metadata": {
    "tags": []
   },
   "outputs": [
    {
     "name": "stdout",
     "output_type": "stream",
     "text": [
      "11111\n",
      "31\n",
      "[255, 255, 255, 254]\n",
      "[255, 255, 255, 254]\n",
      "255.255.255.254\n"
     ]
    }
   ],
   "source": [
    "final = []\n",
    "def ipmask(num):\n",
    "    if num > 32 or num < 0:\n",
    "        print(\"input number is invalid, return error\")\n",
    "        return False\n",
    "    final = []\n",
    "    if num <=8: \n",
    "        final.append(int(\"1\"*num +\"0\"*(8-num),2))\n",
    "        return final\n",
    "    num -= 8\n",
    "    final = ipmask(num)\n",
    "    final.insert(0,int(\"1\" * 8,2))\n",
    "    return final\n",
    "\n",
    "def ipmask2(num):\n",
    "    m = num // 8\n",
    "    r = num % 8\n",
    "    \n",
    "    result = [255 for i in range(m)]\n",
    "    result.append(int('1'*r + '0'*(8-r),2))\n",
    "    total_byte = len(result)\n",
    "    fill_byte = 4 - total_byte\n",
    "    for i in range(fill_byte):\n",
    "        result.append(0)\n",
    "    return result\n",
    "\n",
    "print(ipmask2(31))\n",
    "\n",
    "final = []\n",
    "result = ipmask(31)\n",
    "print(result)\n",
    "mask = '.'.join(map(str,result))\n",
    "print(mask)"
   ]
  },
  {
   "cell_type": "code",
   "execution_count": 70,
   "id": "1ef5a2eb",
   "metadata": {},
   "outputs": [
    {
     "name": "stdout",
     "output_type": "stream",
     "text": [
      "[9, 6, 5, 5, 5, 4, 3, 3, 2, 1, 1]\n",
      "[5, 4, 3, 2, 1]\n",
      "[1, 3, 4]\n",
      "1\n",
      "3\n",
      "5\n",
      "[1, 2, 3]\n",
      "[4, 5]\n",
      "[1, 5]\n",
      "[4]\n",
      "[4]\n",
      "[4]\n",
      "[2, 3, 4]\n",
      "[2, 4]\n"
     ]
    }
   ],
   "source": [
    "#list manipulation\n",
    "my_list = [3, 1, 4, 1, 5, 9, 2, 6, 5, 3, 5]\n",
    "my_list.sort()\n",
    "my_list.sort(reverse=True)\n",
    "print(my_list)   # Output: [1, 1, 2, 3, 3, 4, 5, 5, 5, 6, 9]\n",
    "my_list = [1, 2, 3, 4, 5]\n",
    "my_list.reverse()\n",
    "print(my_list)   # Output: [5, 4, 3, 2, 1]\n",
    "\n",
    "my_list = [1, 2, 3, 4]\n",
    "my_list.remove(2)\n",
    "print(my_list)   # Output: [1, 3, 4]\n",
    "\n",
    "my_list = [1, 2, 3, 4, 5]\n",
    "\n",
    "# iterate through the list in reverse order\n",
    "for i in my_list[::2]:\n",
    "    print(i)\n",
    "\n",
    "print(my_list[:3])\n",
    "print(my_list[3:])\n",
    "\n",
    "a = [1, 2, 3, 4, 5]\n",
    "first_and_last_a = a[::len(a)-1]\n",
    "print(first_and_last_a)   # Output: [1, 5]\n",
    "\n",
    "a = [1, 2, 3, 4, 5]\n",
    "print([a[-2]])\n",
    "second_to_last_a = a[-2:-1]\n",
    "print(second_to_last_a)   # Output: [4]\n",
    "\n",
    "second_to_last_a = a[-2:-3:-1]\n",
    "print(second_to_last_a)   # Output: [4]\n",
    "\n",
    "print(a[1:4])\n",
    "print(a[1:4:2])"
   ]
  },
  {
   "cell_type": "code",
   "execution_count": 10,
   "id": "c5478be2",
   "metadata": {},
   "outputs": [
    {
     "name": "stdout",
     "output_type": "stream",
     "text": [
      "[1, 2, 5, -3]\n",
      "[1, -1, 5]\n",
      "[1, -1, 8, -3]\n",
      "[5]\n",
      "[8, -3]\n"
     ]
    }
   ],
   "source": [
    "#find out all subsets \n",
    "\n",
    "a = [1,2,-1,5,10,22,5,8,-3]\n",
    "Y=5\n",
    "\n",
    "# size == 1: [1] [2] [-1] [5] [10] [22] [5] [8] [-3]\n",
    "# size ==2:  [1,2] [1,-1] [1,5] [1,10] [1,22] ....\n",
    "#            [2,-1] [2,5] [2,10] [2,22] [2,5]....\n",
    "# size ==3: \n",
    "\n",
    "array = [1,2,-1,5,10,22,8,-3]\n",
    "\n",
    "def sublist(array):\n",
    "    if len(array) == 0:\n",
    "        return [[]]\n",
    "    final = []\n",
    "    first = array[0]\n",
    "    rest = array[1:]\n",
    "    temp = sublist(rest)\n",
    "    for i in temp:\n",
    "        final.append([first] + i)\n",
    "    final.extend(temp)\n",
    "    return final\n",
    "\n",
    "subs = sublist(array)\n",
    "for sub in subs:\n",
    "    if sum(sub) == 5:\n",
    "        print(sub)  "
   ]
  },
  {
   "cell_type": "code",
   "execution_count": 13,
   "id": "3d358178",
   "metadata": {},
   "outputs": [
    {
     "name": "stdout",
     "output_type": "stream",
     "text": [
      "abcdefg\n",
      "abcdef\n",
      "abcdeg\n",
      "abcde\n",
      "abcdfg\n",
      "abcdf\n",
      "abcdg\n",
      "abcd\n",
      "abcefg\n",
      "abcef\n",
      "abceg\n",
      "abce\n",
      "abcfg\n",
      "abcf\n",
      "abcg\n",
      "abc\n",
      "abdefg\n",
      "abdef\n",
      "abdeg\n",
      "abde\n",
      "abdfg\n",
      "abdf\n",
      "abdg\n",
      "abd\n",
      "abefg\n",
      "abef\n",
      "abeg\n",
      "abe\n",
      "abfg\n",
      "abf\n",
      "abg\n",
      "ab\n",
      "acdefg\n",
      "acdef\n",
      "acdeg\n",
      "acde\n",
      "acdfg\n",
      "acdf\n",
      "acdg\n",
      "acd\n",
      "acefg\n",
      "acef\n",
      "aceg\n",
      "ace\n",
      "acfg\n",
      "acf\n",
      "acg\n",
      "ac\n",
      "adefg\n",
      "adef\n",
      "adeg\n",
      "ade\n",
      "adfg\n",
      "adf\n",
      "adg\n",
      "ad\n",
      "aefg\n",
      "aef\n",
      "aeg\n",
      "ae\n",
      "afg\n",
      "af\n",
      "ag\n",
      "a\n",
      "bcdefg\n",
      "bcdef\n",
      "bcdeg\n",
      "bcde\n",
      "bcdfg\n",
      "bcdf\n",
      "bcdg\n",
      "bcd\n",
      "bcefg\n",
      "bcef\n",
      "bceg\n",
      "bce\n",
      "bcfg\n",
      "bcf\n",
      "bcg\n",
      "bc\n",
      "bdefg\n",
      "bdef\n",
      "bdeg\n",
      "bde\n",
      "bdfg\n",
      "bdf\n",
      "bdg\n",
      "bd\n",
      "befg\n",
      "bef\n",
      "beg\n",
      "be\n",
      "bfg\n",
      "bf\n",
      "bg\n",
      "b\n",
      "cdefg\n",
      "cdef\n",
      "cdeg\n",
      "cde\n",
      "cdfg\n",
      "cdf\n",
      "cdg\n",
      "cd\n",
      "cefg\n",
      "cef\n",
      "ceg\n",
      "ce\n",
      "cfg\n",
      "cf\n",
      "cg\n",
      "c\n",
      "defg\n",
      "def\n",
      "deg\n",
      "de\n",
      "dfg\n",
      "df\n",
      "dg\n",
      "d\n",
      "efg\n",
      "ef\n",
      "eg\n",
      "e\n",
      "fg\n",
      "f\n",
      "g\n",
      "\n"
     ]
    }
   ],
   "source": [
    "#find out all subsets \n",
    "A = \"abcdefg\"\n",
    "\n",
    "# def subsets(array):\n",
    "#     if len(array) == 0:\n",
    "#         return [[]]\n",
    "#     final = []\n",
    "#     first = array[0]\n",
    "#     rest = array[1:]\n",
    "#     temp = subsets(rest)\n",
    "#     for i in temp:\n",
    "#         final.append([first] + i)\n",
    "#     final.extend(temp)\n",
    "#     return final\n",
    "# subs = sublist(A)\n",
    "# print(subs)\n",
    "\n",
    "def substr(mystr):\n",
    "    if mystr == '':\n",
    "        return [[]]\n",
    "    final = []\n",
    "    first = mystr[0]\n",
    "    rest = mystr[1:]\n",
    "    temp = substr(rest)\n",
    "    for s in temp:\n",
    "        final.append([first] + s)\n",
    "    final.extend(temp)\n",
    "    return final\n",
    "all_subs = substr(A)\n",
    "for ss in all_subs:\n",
    "    print(''.join(ss))"
   ]
  },
  {
   "cell_type": "code",
   "execution_count": 16,
   "id": "a915b640",
   "metadata": {},
   "outputs": [
    {
     "name": "stdout",
     "output_type": "stream",
     "text": [
      "[{'language': 'en-US', 'region': 'US', 'quoteType': 'EQUITY', 'typeDisp': 'Equity', 'quoteSourceName': 'Nasdaq Real Time Price', 'triggerable': True, 'customPriceAlertConfidence': 'HIGH', 'currency': 'USD', 'regularMarketChangePercent': 15.16691, 'exchange': 'NMS', 'fiftyTwoWeekLow': 2.98, 'fiftyTwoWeekHigh': 15.59, 'shortName': 'Dada Nexus Limited', 'averageAnalystRating': '1.5 - Strong Buy', 'longName': 'Dada Nexus Limited', 'financialCurrency': 'CNY', 'regularMarketOpen': 7.23, 'averageDailyVolume3Month': 2221772, 'averageDailyVolume10Day': 2473670, 'fiftyTwoWeekLowChange': 4.955, 'fiftyTwoWeekLowChangePercent': 1.6627517, 'fiftyTwoWeekRange': '2.98 - 15.59', 'fiftyTwoWeekHighChange': -7.655, 'fiftyTwoWeekHighChangePercent': -0.4910199, 'earningsTimestamp': 1678325400, 'earningsTimestampStart': 1684180800, 'earningsTimestampEnd': 1684526400, 'trailingAnnualDividendRate': 0.0, 'trailingAnnualDividendYield': 0.0, 'marketState': 'REGULAR', 'epsTrailingTwelveMonths': -1.15, 'epsForward': 0.69, 'epsCurrentYear': 0.09, 'priceEpsCurrentYear': 88.166664, 'sharesOutstanding': 255480992, 'bookValue': 27.398, 'fiftyDayAverage': 11.221, 'fiftyDayAverageChange': -3.2859998, 'fiftyDayAverageChangePercent': -0.29284376, 'twoHundredDayAverage': 7.566475, 'twoHundredDayAverageChange': 0.36852503, 'twoHundredDayAverageChangePercent': 0.04870498, 'marketCap': 2106448896, 'forwardPE': 11.5, 'priceToBook': 0.28961968, 'sourceInterval': 15, 'exchangeDataDelayedBy': 0, 'exchangeTimezoneName': 'America/New_York', 'exchangeTimezoneShortName': 'EDT', 'gmtOffSetMilliseconds': -14400000, 'ipoExpectedDate': '2020-06-05', 'esgPopulated': False, 'tradeable': False, 'cryptoTradeable': False, 'firstTradeDateMilliseconds': 1591363800000, 'priceHint': 2, 'regularMarketChange': 1.0450001, 'regularMarketTime': 1679596360, 'regularMarketPrice': 7.935, 'regularMarketDayHigh': 7.98, 'regularMarketDayRange': '7.13 - 7.98', 'regularMarketDayLow': 7.13, 'regularMarketVolume': 2266250, 'regularMarketPreviousClose': 6.89, 'bid': 7.94, 'ask': 7.96, 'bidSize': 11, 'askSize': 10, 'market': 'us_market', 'messageBoardId': 'finmb_304386563', 'fullExchangeName': 'NasdaqGS', 'displayName': 'Dada Nexus', 'symbol': 'DADA'}, {'language': 'en-US', 'region': 'US', 'quoteType': 'EQUITY', 'typeDisp': 'Equity', 'quoteSourceName': 'Nasdaq Real Time Price', 'triggerable': False, 'customPriceAlertConfidence': 'LOW', 'currency': 'USD', 'regularMarketChangePercent': 14.436285, 'exchange': 'NYQ', 'fiftyTwoWeekLow': 38.01, 'fiftyTwoWeekHigh': 63.24, 'shortName': 'Worthington Industries, Inc.', 'averageAnalystRating': '3.0 - Hold', 'longName': 'Worthington Industries, Inc.', 'financialCurrency': 'USD', 'regularMarketOpen': 57.44, 'averageDailyVolume3Month': 169447, 'averageDailyVolume10Day': 253610, 'fiftyTwoWeekLowChange': 22.79, 'fiftyTwoWeekLowChangePercent': 0.5995791, 'fiftyTwoWeekRange': '38.01 - 63.24', 'fiftyTwoWeekHighChange': -2.4400024, 'fiftyTwoWeekHighChangePercent': -0.03858321, 'dividendDate': 1680048000, 'earningsTimestamp': 1679576400, 'earningsTimestampStart': 1679576400, 'earningsTimestampEnd': 1679576400, 'trailingAnnualDividendRate': 0.0, 'trailingPE': 14.009216, 'trailingAnnualDividendYield': 0.0, 'marketState': 'REGULAR', 'epsTrailingTwelveMonths': 4.34, 'epsForward': 4.13, 'epsCurrentYear': 3.92, 'priceEpsCurrentYear': 15.510203, 'sharesOutstanding': 49707600, 'bookValue': 31.158, 'fiftyDayAverage': 57.3034, 'fiftyDayAverageChange': 3.496601, 'fiftyDayAverageChangePercent': 0.06101909, 'twoHundredDayAverage': 51.22305, 'twoHundredDayAverageChange': 9.57695, 'twoHundredDayAverageChangePercent': 0.18696564, 'marketCap': 3022222080, 'forwardPE': 14.721549, 'priceToBook': 1.9513447, 'sourceInterval': 15, 'exchangeDataDelayedBy': 0, 'exchangeTimezoneName': 'America/New_York', 'exchangeTimezoneShortName': 'EDT', 'gmtOffSetMilliseconds': -14400000, 'esgPopulated': False, 'tradeable': False, 'cryptoTradeable': False, 'firstTradeDateMilliseconds': 322151400000, 'priceHint': 2, 'regularMarketChange': 7.669998, 'regularMarketTime': 1679596350, 'regularMarketPrice': 60.8, 'regularMarketDayHigh': 63.24, 'regularMarketDayRange': '56.58 - 63.24', 'regularMarketDayLow': 56.58, 'regularMarketVolume': 374021, 'regularMarketPreviousClose': 53.13, 'bid': 61.0, 'ask': 61.27, 'bidSize': 8, 'askSize': 8, 'market': 'us_market', 'messageBoardId': 'finmb_314750', 'fullExchangeName': 'NYSE', 'displayName': 'Worthington Industries', 'symbol': 'WOR'}, {'language': 'en-US', 'region': 'US', 'quoteType': 'EQUITY', 'typeDisp': 'Equity', 'quoteSourceName': 'Delayed Quote', 'triggerable': False, 'customPriceAlertConfidence': 'LOW', 'currency': 'USD', 'regularMarketChangePercent': 12.215989, 'exchange': 'PNK', 'fiftyTwoWeekLow': 1.0, 'fiftyTwoWeekHigh': 2.02, 'shortName': 'MELROSE INDUSTRIES PLC', 'longName': 'Melrose Industries PLC', 'financialCurrency': 'GBP', 'regularMarketOpen': 1.98, 'averageDailyVolume3Month': 11430, 'averageDailyVolume10Day': 10150, 'fiftyTwoWeekLowChange': 1.02, 'fiftyTwoWeekLowChangePercent': 1.02, 'fiftyTwoWeekRange': '1.0 - 2.02', 'fiftyTwoWeekHighChange': 0.0, 'fiftyTwoWeekHighChangePercent': 0.0, 'dividendDate': 1558310400, 'trailingAnnualDividendRate': 0.023, 'trailingAnnualDividendYield': 0.012777068, 'marketState': 'REGULAR', 'epsTrailingTwelveMonths': -0.07, 'sharesOutstanding': 4054429952, 'bookValue': 1.752, 'fiftyDayAverage': 1.7478, 'fiftyDayAverageChange': 0.2722, 'fiftyDayAverageChangePercent': 0.15573864, 'twoHundredDayAverage': 1.6094, 'twoHundredDayAverageChange': 0.41059995, 'twoHundredDayAverageChangePercent': 0.2551261, 'marketCap': 8552397312, 'priceToBook': 1.152968, 'sourceInterval': 15, 'exchangeDataDelayedBy': 0, 'exchangeTimezoneName': 'America/New_York', 'exchangeTimezoneShortName': 'EDT', 'gmtOffSetMilliseconds': -14400000, 'esgPopulated': False, 'tradeable': False, 'cryptoTradeable': False, 'firstTradeDateMilliseconds': 1217338200000, 'priceHint': 4, 'regularMarketChange': 0.21990001, 'regularMarketTime': 1679588742, 'regularMarketPrice': 2.02, 'regularMarketDayHigh': 2.02, 'regularMarketDayRange': '1.98 - 2.02', 'regularMarketDayLow': 1.98, 'regularMarketVolume': 51015, 'regularMarketPreviousClose': 1.8001, 'bid': 0.0, 'ask': 0.0, 'bidSize': 0, 'askSize': 0, 'market': 'us_market', 'messageBoardId': 'finmb_8539114', 'fullExchangeName': 'Other OTC', 'displayName': 'Melrose Industries', 'symbol': 'MLSPF'}, {'language': 'en-US', 'region': 'US', 'quoteType': 'EQUITY', 'typeDisp': 'Equity', 'quoteSourceName': 'Nasdaq Real Time Price', 'triggerable': False, 'customPriceAlertConfidence': 'LOW', 'currency': 'USD', 'regularMarketChangePercent': 11.504949, 'exchange': 'NGM', 'fiftyTwoWeekLow': 8.408, 'fiftyTwoWeekHigh': 45.15, 'shortName': 'GDS Holdings Limited', 'averageAnalystRating': '2.0 - Buy', 'longName': 'GDS Holdings Limited', 'financialCurrency': 'CNY', 'regularMarketOpen': 17.99, 'averageDailyVolume3Month': 1264574, 'averageDailyVolume10Day': 1229870, 'fiftyTwoWeekLowChange': 10.782001, 'fiftyTwoWeekLowChangePercent': 1.2823502, 'fiftyTwoWeekRange': '8.408 - 45.15', 'fiftyTwoWeekHighChange': -25.960001, 'fiftyTwoWeekHighChangePercent': -0.57497233, 'earningsTimestamp': 1678881600, 'earningsTimestampStart': 1684267200, 'earningsTimestampEnd': 1684785600, 'trailingAnnualDividendRate': 0.0, 'trailingAnnualDividendYield': 0.0, 'marketState': 'REGULAR', 'epsTrailingTwelveMonths': -1.25, 'epsForward': -1.06, 'epsCurrentYear': -1.26, 'priceEpsCurrentYear': -15.230159, 'sharesOutstanding': 190554000, 'bookValue': 125.524, 'fiftyDayAverage': 21.088, 'fiftyDayAverageChange': -1.8979988, 'fiftyDayAverageChangePercent': -0.09000374, 'twoHundredDayAverage': 21.92145, 'twoHundredDayAverageChange': -2.7314491, 'twoHundredDayAverageChangePercent': -0.12460166, 'marketCap': 3656731392, 'forwardPE': -18.103775, 'priceToBook': 0.15287913, 'sourceInterval': 15, 'exchangeDataDelayedBy': 0, 'exchangeTimezoneName': 'America/New_York', 'exchangeTimezoneShortName': 'EDT', 'gmtOffSetMilliseconds': -14400000, 'esgPopulated': False, 'tradeable': False, 'cryptoTradeable': False, 'firstTradeDateMilliseconds': 1478093400000, 'priceHint': 2, 'regularMarketChange': 1.9800014, 'regularMarketTime': 1679596355, 'regularMarketPrice': 19.19, 'regularMarketDayHigh': 20.1999, 'regularMarketDayRange': '17.8 - 20.1999', 'regularMarketDayLow': 17.8, 'regularMarketVolume': 1501803, 'regularMarketPreviousClose': 17.21, 'bid': 19.21, 'ask': 19.21, 'bidSize': 8, 'askSize': 12, 'market': 'us_market', 'messageBoardId': 'finmb_403751487', 'fullExchangeName': 'NasdaqGM', 'displayName': 'GDS', 'symbol': 'GDS'}, {'language': 'en-US', 'region': 'US', 'quoteType': 'EQUITY', 'typeDisp': 'Equity', 'quoteSourceName': 'Delayed Quote', 'triggerable': False, 'customPriceAlertConfidence': 'LOW', 'currency': 'USD', 'regularMarketChangePercent': 11.0722, 'exchange': 'PNK', 'fiftyTwoWeekLow': 13.51, 'fiftyTwoWeekHigh': 23.51, 'shortName': 'LENOVO GROUP LIMITED ADR EACH 1', 'averageAnalystRating': '3.0 - Hold', 'longName': 'Lenovo Group Limited', 'financialCurrency': 'USD', 'regularMarketOpen': 20.4, 'averageDailyVolume3Month': 50155, 'averageDailyVolume10Day': 79710, 'fiftyTwoWeekLowChange': 7.1049995, 'fiftyTwoWeekLowChangePercent': 0.5259067, 'fiftyTwoWeekRange': '13.51 - 23.51', 'fiftyTwoWeekHighChange': -2.8950005, 'fiftyTwoWeekHighChangePercent': -0.123139106, 'dividendDate': 1671148800, 'trailingAnnualDividendRate': 0.049, 'trailingPE': 6.2469697, 'trailingAnnualDividendYield': 0.0026400862, 'marketState': 'REGULAR', 'epsTrailingTwelveMonths': 3.3, 'epsForward': 1.06, 'sharesOutstanding': 606406976, 'bookValue': 7.88, 'fiftyDayAverage': 17.2846, 'fiftyDayAverageChange': 3.3304005, 'fiftyDayAverageChangePercent': 0.19268022, 'twoHundredDayAverage': 16.8872, 'twoHundredDayAverageChange': 3.7278004, 'twoHundredDayAverageChangePercent': 0.2207471, 'marketCap': 12516624384, 'forwardPE': 19.448114, 'priceToBook': 2.6161168, 'sourceInterval': 15, 'exchangeDataDelayedBy': 0, 'exchangeTimezoneName': 'America/New_York', 'exchangeTimezoneShortName': 'EDT', 'gmtOffSetMilliseconds': -14400000, 'esgPopulated': False, 'tradeable': False, 'cryptoTradeable': False, 'firstTradeDateMilliseconds': 913041000000, 'priceHint': 2, 'regularMarketChange': 2.0550003, 'regularMarketTime': 1679595092, 'regularMarketPrice': 20.615, 'regularMarketDayHigh': 20.81, 'regularMarketDayRange': '20.4 - 20.81', 'regularMarketDayLow': 20.4, 'regularMarketVolume': 68313, 'regularMarketPreviousClose': 18.56, 'bid': 0.0, 'ask': 0.0, 'bidSize': 0, 'askSize': 0, 'market': 'us_market', 'messageBoardId': 'finmb_410120', 'fullExchangeName': 'Other OTC', 'symbol': 'LNVGY'}, {'language': 'en-US', 'region': 'US', 'quoteType': 'EQUITY', 'typeDisp': 'Equity', 'quoteSourceName': 'Delayed Quote', 'triggerable': False, 'customPriceAlertConfidence': 'LOW', 'currency': 'USD', 'regularMarketChangePercent': 10.000002, 'exchange': 'PNK', 'fiftyTwoWeekLow': 0.3, 'fiftyTwoWeekHigh': 0.6, 'shortName': 'CEMEX S.A.B. DE C.V.', 'longName': 'CEMEX, S.A.B. de C.V.', 'financialCurrency': 'USD', 'regularMarketOpen': 0.55, 'averageDailyVolume3Month': 312952, 'averageDailyVolume10Day': 43160, 'fiftyTwoWeekLowChange': 0.25, 'fiftyTwoWeekLowChangePercent': 0.8333333, 'fiftyTwoWeekRange': '0.3 - 0.6', 'fiftyTwoWeekHighChange': -0.050000012, 'fiftyTwoWeekHighChangePercent': -0.08333335, 'trailingAnnualDividendRate': 0.0, 'trailingPE': 13.750001, 'trailingAnnualDividendYield': 0.0, 'marketState': 'REGULAR', 'epsTrailingTwelveMonths': 0.04, 'sharesOutstanding': 14487799808, 'bookValue': 0.725, 'fiftyDayAverage': 0.4894, 'fiftyDayAverageChange': 0.060600013, 'fiftyDayAverageChangePercent': 0.12382512, 'twoHundredDayAverage': 0.4194, 'twoHundredDayAverageChange': 0.1306, 'twoHundredDayAverageChangePercent': 0.31139725, 'marketCap': 7980665344, 'priceToBook': 0.7586207, 'sourceInterval': 15, 'exchangeDataDelayedBy': 0, 'exchangeTimezoneName': 'America/New_York', 'exchangeTimezoneShortName': 'EDT', 'gmtOffSetMilliseconds': -14400000, 'esgPopulated': False, 'tradeable': False, 'cryptoTradeable': False, 'firstTradeDateMilliseconds': 1234535400000, 'priceHint': 4, 'regularMarketChange': 0.050000012, 'regularMarketTime': 1679589290, 'regularMarketPrice': 0.55, 'regularMarketDayHigh': 0.55, 'regularMarketDayRange': '0.55 - 0.55', 'regularMarketDayLow': 0.55, 'regularMarketVolume': 225437, 'regularMarketPreviousClose': 0.5, 'bid': 0.0, 'ask': 0.0, 'bidSize': 0, 'askSize': 0, 'market': 'us_market', 'messageBoardId': 'finmb_404061', 'fullExchangeName': 'Other OTC', 'symbol': 'CXMSF'}, {'language': 'en-US', 'region': 'US', 'quoteType': 'EQUITY', 'typeDisp': 'Equity', 'quoteSourceName': 'Nasdaq Real Time Price', 'triggerable': False, 'customPriceAlertConfidence': 'LOW', 'currency': 'USD', 'regularMarketChangePercent': 8.845029, 'exchange': 'NYQ', 'fiftyTwoWeekLow': 15.44, 'fiftyTwoWeekHigh': 31.94, 'shortName': 'On Holding AG', 'averageAnalystRating': '2.0 - Buy', 'longName': 'On Holding AG', 'financialCurrency': 'CHF', 'regularMarketOpen': 28.17, 'averageDailyVolume3Month': 2906901, 'averageDailyVolume10Day': 6342320, 'fiftyTwoWeekLowChange': 14.340001, 'fiftyTwoWeekLowChangePercent': 0.9287566, 'fiftyTwoWeekRange': '15.44 - 31.94', 'fiftyTwoWeekHighChange': -2.1599998, 'fiftyTwoWeekHighChangePercent': -0.0676268, 'earningsTimestamp': 1679400000, 'earningsTimestampStart': 1679400000, 'earningsTimestampEnd': 1679400000, 'trailingAnnualDividendRate': 0.0, 'trailingAnnualDividendYield': 0.0, 'marketState': 'REGULAR', 'epsTrailingTwelveMonths': -0.53, 'epsForward': 0.74, 'epsCurrentYear': 0.51, 'priceEpsCurrentYear': 58.39216, 'sharesOutstanding': 281976000, 'bookValue': 3.026, 'fiftyDayAverage': 21.967, 'fiftyDayAverageChange': 7.8130016, 'fiftyDayAverageChangePercent': 0.35566995, 'twoHundredDayAverage': 19.52485, 'twoHundredDayAverageChange': 10.25515, 'twoHundredDayAverageChangePercent': 0.5252358, 'marketCap': 9425966080, 'forwardPE': 40.243244, 'priceToBook': 9.841375, 'sourceInterval': 15, 'exchangeDataDelayedBy': 0, 'exchangeTimezoneName': 'America/New_York', 'exchangeTimezoneShortName': 'EDT', 'gmtOffSetMilliseconds': -14400000, 'ipoExpectedDate': '2021-09-15', 'esgPopulated': False, 'tradeable': False, 'cryptoTradeable': False, 'firstTradeDateMilliseconds': 1631712600000, 'priceHint': 2, 'regularMarketChange': 2.42, 'regularMarketTime': 1679596358, 'regularMarketPrice': 29.78, 'regularMarketDayHigh': 31.94, 'regularMarketDayRange': '27.61 - 31.94', 'regularMarketDayLow': 27.61, 'regularMarketVolume': 14337547, 'regularMarketPreviousClose': 27.36, 'bid': 29.85, 'ask': 29.8, 'bidSize': 9, 'askSize': 8, 'market': 'us_market', 'messageBoardId': 'finmb_1679037270', 'fullExchangeName': 'NYSE', 'symbol': 'ONON'}, {'language': 'en-US', 'region': 'US', 'quoteType': 'EQUITY', 'typeDisp': 'Equity', 'quoteSourceName': 'Delayed Quote', 'triggerable': False, 'customPriceAlertConfidence': 'LOW', 'currency': 'USD', 'regularMarketChangePercent': 8.843546, 'exchange': 'PNK', 'fiftyTwoWeekLow': 4.125, 'fiftyTwoWeekHigh': 12.82, 'shortName': 'HELLOFRESH SE UNSPON ADS EACH R', 'longName': 'HelloFresh SE', 'financialCurrency': 'EUR', 'regularMarketOpen': 4.4225, 'averageDailyVolume3Month': 28147, 'averageDailyVolume10Day': 43852, 'fiftyTwoWeekLowChange': 0.6750002, 'fiftyTwoWeekLowChangePercent': 0.16363642, 'fiftyTwoWeekRange': '4.125 - 12.82', 'fiftyTwoWeekHighChange': -8.0199995, 'fiftyTwoWeekHighChangePercent': -0.625585, 'trailingAnnualDividendRate': 0.0, 'trailingPE': 30.000002, 'trailingAnnualDividendYield': 0.0, 'marketState': 'REGULAR', 'epsTrailingTwelveMonths': 0.16, 'sharesOutstanding': 686785984, 'bookValue': 1.40025, 'fiftyDayAverage': 5.76396, 'fiftyDayAverageChange': -0.9639597, 'fiftyDayAverageChangePercent': -0.16723914, 'twoHundredDayAverage': 6.2658105, 'twoHundredDayAverageChange': -1.4658103, 'twoHundredDayAverageChangePercent': -0.23393786, 'marketCap': 3348988928, 'priceToBook': 3.4279594, 'sourceInterval': 15, 'exchangeDataDelayedBy': 0, 'exchangeTimezoneName': 'America/New_York', 'exchangeTimezoneShortName': 'EDT', 'gmtOffSetMilliseconds': -14400000, 'esgPopulated': False, 'tradeable': False, 'cryptoTradeable': False, 'firstTradeDateMilliseconds': 1618925400000, 'priceHint': 4, 'regularMarketChange': 0.39000034, 'regularMarketTime': 1679593499, 'regularMarketPrice': 4.8, 'regularMarketDayHigh': 4.85, 'regularMarketDayRange': '4.3875 - 4.85', 'regularMarketDayLow': 4.3875, 'regularMarketVolume': 15514, 'regularMarketPreviousClose': 4.41, 'market': 'us_market', 'messageBoardId': 'finmb_315460452', 'fullExchangeName': 'Other OTC', 'symbol': 'HELFY'}, {'language': 'en-US', 'region': 'US', 'quoteType': 'EQUITY', 'typeDisp': 'Equity', 'quoteSourceName': 'Nasdaq Real Time Price', 'triggerable': False, 'customPriceAlertConfidence': 'LOW', 'currency': 'USD', 'regularMarketChangePercent': 8.637363, 'exchange': 'NYQ', 'fiftyTwoWeekLow': 10.16, 'fiftyTwoWeekHigh': 30.92, 'shortName': 'C3.ai, Inc.', 'averageAnalystRating': '3.1 - Hold', 'longName': 'C3.ai, Inc.', 'financialCurrency': 'USD', 'regularMarketOpen': 23.0, 'averageDailyVolume3Month': 18445089, 'averageDailyVolume10Day': 12104150, 'fiftyTwoWeekLowChange': 14.555, 'fiftyTwoWeekLowChangePercent': 1.4325788, 'fiftyTwoWeekRange': '10.16 - 30.92', 'fiftyTwoWeekHighChange': -6.205, 'fiftyTwoWeekHighChangePercent': -0.20067917, 'earningsTimestamp': 1677794400, 'earningsTimestampStart': 1685444340, 'earningsTimestampEnd': 1685966400, 'trailingAnnualDividendRate': 0.0, 'trailingAnnualDividendYield': 0.0, 'marketState': 'REGULAR', 'epsTrailingTwelveMonths': -2.5, 'epsForward': -0.34, 'epsCurrentYear': -0.47, 'priceEpsCurrentYear': -52.585106, 'sharesOutstanding': 108710000, 'bookValue': 8.458, 'fiftyDayAverage': 20.5392, 'fiftyDayAverageChange': 4.1758003, 'fiftyDayAverageChangePercent': 0.2033088, 'twoHundredDayAverage': 16.7286, 'twoHundredDayAverageChange': 7.9864006, 'twoHundredDayAverageChangePercent': 0.47741, 'marketCap': 2773270272, 'forwardPE': -72.69118, 'priceToBook': 2.9220855, 'sourceInterval': 15, 'exchangeDataDelayedBy': 0, 'exchangeTimezoneName': 'America/New_York', 'exchangeTimezoneShortName': 'EDT', 'gmtOffSetMilliseconds': -14400000, 'ipoExpectedDate': '2020-12-09', 'esgPopulated': False, 'tradeable': False, 'cryptoTradeable': False, 'firstTradeDateMilliseconds': 1607524200000, 'priceHint': 2, 'regularMarketChange': 1.9650002, 'regularMarketTime': 1679596365, 'regularMarketPrice': 24.715, 'regularMarketDayHigh': 25.95, 'regularMarketDayRange': '23.0 - 25.95', 'regularMarketDayLow': 23.0, 'regularMarketVolume': 15191679, 'regularMarketPreviousClose': 22.75, 'bid': 25.09, 'ask': 25.11, 'bidSize': 12, 'askSize': 11, 'market': 'us_market', 'messageBoardId': 'finmb_24249083', 'fullExchangeName': 'NYSE', 'displayName': 'C3.ai', 'symbol': 'AI'}, {'language': 'en-US', 'region': 'US', 'quoteType': 'EQUITY', 'typeDisp': 'Equity', 'quoteSourceName': 'Delayed Quote', 'triggerable': False, 'customPriceAlertConfidence': 'LOW', 'currency': 'USD', 'regularMarketChangePercent': 8.333327, 'exchange': 'PNK', 'fiftyTwoWeekLow': 14.99, 'fiftyTwoWeekHigh': 23.02, 'shortName': 'TOSHIBA CORP UNSP ADR EACH REP ', 'longName': 'Toshiba Corporation', 'financialCurrency': 'JPY', 'regularMarketOpen': 17.15, 'averageDailyVolume3Month': 55011, 'averageDailyVolume10Day': 62020, 'fiftyTwoWeekLowChange': 2.3649998, 'fiftyTwoWeekLowChangePercent': 0.15777184, 'fiftyTwoWeekRange': '14.99 - 23.02', 'fiftyTwoWeekHighChange': -5.665001, 'fiftyTwoWeekHighChangePercent': -0.2460904, 'dividendDate': 1551657600, 'trailingAnnualDividendRate': 130.0, 'trailingPE': 12.052082, 'trailingAnnualDividendYield': 8.114856, 'marketState': 'REGULAR', 'epsTrailingTwelveMonths': 1.44, 'sharesOutstanding': 865270016, 'bookValue': 1373.816, 'fiftyDayAverage': 16.485, 'fiftyDayAverageChange': 0.86999893, 'fiftyDayAverageChangePercent': 0.05277518, 'twoHundredDayAverage': 17.9399, 'twoHundredDayAverageChange': -0.5848999, 'twoHundredDayAverageChangePercent': -0.032603297, 'marketCap': 15016760320, 'priceToBook': 0.012632695, 'sourceInterval': 15, 'exchangeDataDelayedBy': 0, 'exchangeTimezoneName': 'America/New_York', 'exchangeTimezoneShortName': 'EDT', 'gmtOffSetMilliseconds': -14400000, 'esgPopulated': False, 'tradeable': False, 'cryptoTradeable': False, 'firstTradeDateMilliseconds': 1262701800000, 'priceHint': 2, 'regularMarketChange': 1.3349991, 'regularMarketTime': 1679594973, 'regularMarketPrice': 17.355, 'regularMarketDayHigh': 17.49, 'regularMarketDayRange': '17.15 - 17.49', 'regularMarketDayLow': 17.15, 'regularMarketVolume': 56400, 'regularMarketPreviousClose': 16.02, 'bid': 0.0, 'ask': 0.0, 'bidSize': 0, 'askSize': 0, 'market': 'us_market', 'messageBoardId': 'finmb_873792', 'fullExchangeName': 'Other OTC', 'symbol': 'TOSYY'}, {'language': 'en-US', 'region': 'US', 'quoteType': 'EQUITY', 'typeDisp': 'Equity', 'quoteSourceName': 'Delayed Quote', 'triggerable': False, 'customPriceAlertConfidence': 'LOW', 'currency': 'USD', 'regularMarketChangePercent': 7.9432225, 'exchange': 'PNK', 'fiftyTwoWeekLow': 28.7, 'fiftyTwoWeekHigh': 54.15, 'shortName': 'MEITUAN', 'longName': 'Meituan', 'financialCurrency': 'CNY', 'regularMarketOpen': 35.71, 'averageDailyVolume3Month': 160247, 'averageDailyVolume10Day': 144750, 'fiftyTwoWeekLowChange': 7.040001, 'fiftyTwoWeekLowChangePercent': 0.2452962, 'fiftyTwoWeekRange': '28.7 - 54.15', 'fiftyTwoWeekHighChange': -18.41, 'fiftyTwoWeekHighChangePercent': -0.33998153, 'trailingAnnualDividendRate': 0.0, 'trailingAnnualDividendYield': 0.0, 'marketState': 'REGULAR', 'epsTrailingTwelveMonths': -1.07, 'sharesOutstanding': 3094589952, 'bookValue': 41.292, 'fiftyDayAverage': 38.6058, 'fiftyDayAverageChange': -2.865799, 'fiftyDayAverageChangePercent': -0.07423234, 'twoHundredDayAverage': 42.64961, 'twoHundredDayAverageChange': -6.909607, 'twoHundredDayAverageChangePercent': -0.16200869, 'marketCap': 110600650752, 'priceToBook': 0.865543, 'sourceInterval': 15, 'exchangeDataDelayedBy': 0, 'exchangeTimezoneName': 'America/New_York', 'exchangeTimezoneShortName': 'EDT', 'gmtOffSetMilliseconds': -14400000, 'prevName': 'Meituan Dianping', 'nameChangeDate': '2023-03-22', 'esgPopulated': False, 'tradeable': False, 'cryptoTradeable': False, 'firstTradeDateMilliseconds': 1572877800000, 'priceHint': 2, 'regularMarketChange': 2.630001, 'regularMarketTime': 1679595309, 'regularMarketPrice': 35.74, 'regularMarketDayHigh': 36.43, 'regularMarketDayRange': '35.7 - 36.43', 'regularMarketDayLow': 35.7, 'regularMarketVolume': 295904, 'regularMarketPreviousClose': 33.11, 'market': 'us_market', 'messageBoardId': 'finmb_114128173', 'fullExchangeName': 'Other OTC', 'symbol': 'MPNGY'}, {'language': 'en-US', 'region': 'US', 'quoteType': 'EQUITY', 'typeDisp': 'Equity', 'quoteSourceName': 'Nasdaq Real Time Price', 'triggerable': True, 'customPriceAlertConfidence': 'HIGH', 'currency': 'USD', 'regularMarketChangePercent': 7.408468, 'exchange': 'NMS', 'fiftyTwoWeekLow': 10.02, 'fiftyTwoWeekHigh': 27.51, 'shortName': 'Weibo Corporation', 'averageAnalystRating': '2.1 - Buy', 'longName': 'Weibo Corporation', 'financialCurrency': 'USD', 'regularMarketOpen': 18.4, 'averageDailyVolume3Month': 1433223, 'averageDailyVolume10Day': 846410, 'fiftyTwoWeekLowChange': 8.754999, 'fiftyTwoWeekLowChangePercent': 0.87375236, 'fiftyTwoWeekRange': '10.02 - 27.51', 'fiftyTwoWeekHighChange': -8.735001, 'fiftyTwoWeekHighChangePercent': -0.31752092, 'earningsTimestamp': 1677668400, 'earningsTimestampStart': 1685449800, 'earningsTimestampEnd': 1685968200, 'trailingAnnualDividendRate': 0.0, 'trailingPE': 52.152775, 'trailingAnnualDividendYield': 0.0, 'marketState': 'REGULAR', 'epsTrailingTwelveMonths': 0.36, 'epsForward': 2.53, 'epsCurrentYear': 2.25, 'priceEpsCurrentYear': 8.344444, 'sharesOutstanding': 236562000, 'bookValue': 14.229, 'fiftyDayAverage': 20.6652, 'fiftyDayAverageChange': -1.8901997, 'fiftyDayAverageChangePercent': -0.09146777, 'twoHundredDayAverage': 18.6471, 'twoHundredDayAverageChange': 0.12789917, 'twoHundredDayAverageChangePercent': 0.006858931, 'marketCap': 4474851840, 'forwardPE': 7.4209485, 'priceToBook': 1.3194883, 'sourceInterval': 15, 'exchangeDataDelayedBy': 0, 'exchangeTimezoneName': 'America/New_York', 'exchangeTimezoneShortName': 'EDT', 'gmtOffSetMilliseconds': -14400000, 'esgPopulated': False, 'tradeable': False, 'cryptoTradeable': False, 'firstTradeDateMilliseconds': 1397741400000, 'priceHint': 2, 'regularMarketChange': 1.2950001, 'regularMarketTime': 1679596356, 'regularMarketPrice': 18.775, 'regularMarketDayHigh': 19.005, 'regularMarketDayRange': '18.3 - 19.005', 'regularMarketDayLow': 18.3, 'regularMarketVolume': 934500, 'regularMarketPreviousClose': 17.48, 'bid': 18.83, 'ask': 18.84, 'bidSize': 8, 'askSize': 12, 'market': 'us_market', 'messageBoardId': 'finmb_260426678', 'fullExchangeName': 'NasdaqGS', 'displayName': 'Weibo', 'symbol': 'WB'}, {'language': 'en-US', 'region': 'US', 'quoteType': 'EQUITY', 'typeDisp': 'Equity', 'quoteSourceName': 'Delayed Quote', 'triggerable': False, 'customPriceAlertConfidence': 'LOW', 'currency': 'USD', 'regularMarketChangePercent': 7.5435176, 'exchange': 'PNK', 'fiftyTwoWeekLow': 4.83, 'fiftyTwoWeekHigh': 9.37, 'shortName': 'RECRUIT HOLDINGS CO LTD UNSPON ', 'longName': 'Recruit Holdings Co., Ltd.', 'financialCurrency': 'JPY', 'regularMarketOpen': 5.52, 'averageDailyVolume3Month': 592410, 'averageDailyVolume10Day': 923280, 'fiftyTwoWeekLowChange': 0.73, 'fiftyTwoWeekLowChangePercent': 0.15113872, 'fiftyTwoWeekRange': '4.83 - 9.37', 'fiftyTwoWeekHighChange': -3.81, 'fiftyTwoWeekHighChangePercent': -0.40661687, 'trailingAnnualDividendRate': 21.5, 'trailingPE': 20.592592, 'trailingAnnualDividendYield': 4.1586075, 'marketState': 'REGULAR', 'epsTrailingTwelveMonths': 0.27, 'sharesOutstanding': 7895580160, 'bookValue': 198.9758, 'fiftyDayAverage': 5.904, 'fiftyDayAverageChange': -0.34399986, 'fiftyDayAverageChangePercent': -0.058265563, 'twoHundredDayAverage': 6.233035, 'twoHundredDayAverageChange': -0.67303514, 'twoHundredDayAverageChangePercent': -0.10797872, 'marketCap': 44818046976, 'priceToBook': 0.027943097, 'sourceInterval': 15, 'exchangeDataDelayedBy': 0, 'exchangeTimezoneName': 'America/New_York', 'exchangeTimezoneShortName': 'EDT', 'gmtOffSetMilliseconds': -14400000, 'esgPopulated': False, 'tradeable': False, 'cryptoTradeable': False, 'firstTradeDateMilliseconds': 1526391000000, 'priceHint': 2, 'regularMarketChange': 0.38999987, 'regularMarketTime': 1679595343, 'regularMarketPrice': 5.56, 'regularMarketDayHigh': 5.58, 'regularMarketDayRange': '5.52 - 5.58', 'regularMarketDayLow': 5.52, 'regularMarketVolume': 362354, 'regularMarketPreviousClose': 5.17, 'bid': 0.0, 'ask': 0.0, 'bidSize': 0, 'askSize': 0, 'market': 'us_market', 'messageBoardId': 'finmb_2862877', 'fullExchangeName': 'Other OTC', 'symbol': 'RCRUY'}, {'language': 'en-US', 'region': 'US', 'quoteType': 'EQUITY', 'typeDisp': 'Equity', 'quoteSourceName': 'Nasdaq Real Time Price', 'triggerable': False, 'customPriceAlertConfidence': 'LOW', 'currency': 'USD', 'regularMarketChangePercent': 7.0788035, 'exchange': 'NYQ', 'fiftyTwoWeekLow': 24.78, 'fiftyTwoWeekHigh': 40.92, 'shortName': 'KB Home', 'averageAnalystRating': '2.7 - Hold', 'longName': 'KB Home', 'financialCurrency': 'USD', 'regularMarketOpen': 39.5, 'averageDailyVolume3Month': 1546049, 'averageDailyVolume10Day': 2038050, 'fiftyTwoWeekLowChange': 14.624998, 'fiftyTwoWeekLowChangePercent': 0.5901936, 'fiftyTwoWeekRange': '24.78 - 40.92', 'fiftyTwoWeekHighChange': -1.5149994, 'fiftyTwoWeekHighChangePercent': -0.037023447, 'dividendDate': 1676505600, 'earningsTimestamp': 1679518800, 'earningsTimestampStart': 1687258740, 'earningsTimestampEnd': 1687780800, 'trailingAnnualDividendRate': 0.6, 'trailingPE': 4.200959, 'trailingAnnualDividendYield': 0.01630435, 'marketState': 'REGULAR', 'epsTrailingTwelveMonths': 9.38, 'epsForward': 4.72, 'epsCurrentYear': 4.67, 'priceEpsCurrentYear': 8.4379015, 'sharesOutstanding': 82096800, 'bookValue': 43.586, 'fiftyDayAverage': 36.2766, 'fiftyDayAverageChange': 3.128399, 'fiftyDayAverageChangePercent': 0.08623738, 'twoHundredDayAverage': 31.54475, 'twoHundredDayAverageChange': 7.8602486, 'twoHundredDayAverageChangePercent': 0.24917771, 'marketCap': 3235024384, 'forwardPE': 8.348517, 'priceToBook': 0.9040747, 'sourceInterval': 15, 'exchangeDataDelayedBy': 0, 'exchangeTimezoneName': 'America/New_York', 'exchangeTimezoneShortName': 'EDT', 'gmtOffSetMilliseconds': -14400000, 'esgPopulated': False, 'tradeable': False, 'cryptoTradeable': False, 'firstTradeDateMilliseconds': 523287000000, 'priceHint': 2, 'regularMarketChange': 2.6049995, 'regularMarketTime': 1679596348, 'regularMarketPrice': 39.405, 'regularMarketDayHigh': 40.5199, 'regularMarketDayRange': '38.83 - 40.5199', 'regularMarketDayLow': 38.83, 'regularMarketVolume': 4099370, 'regularMarketPreviousClose': 36.8, 'bid': 39.52, 'ask': 39.58, 'bidSize': 11, 'askSize': 8, 'market': 'us_market', 'messageBoardId': 'finmb_283234', 'fullExchangeName': 'NYSE', 'symbol': 'KBH'}, {'language': 'en-US', 'region': 'US', 'quoteType': 'EQUITY', 'typeDisp': 'Equity', 'quoteSourceName': 'Nasdaq Real Time Price', 'triggerable': True, 'customPriceAlertConfidence': 'HIGH', 'currency': 'USD', 'regularMarketChangePercent': 6.9003057, 'exchange': 'NMS', 'fiftyTwoWeekLow': 162.71, 'fiftyTwoWeekHigh': 396.5, 'shortName': 'Netflix, Inc.', 'averageAnalystRating': '2.3 - Buy', 'longName': 'Netflix, Inc.', 'financialCurrency': 'USD', 'regularMarketOpen': 304.68, 'averageDailyVolume3Month': 7684308, 'averageDailyVolume10Day': 6522050, 'fiftyTwoWeekLowChange': 151.46999, 'fiftyTwoWeekLowChangePercent': 0.93091995, 'fiftyTwoWeekRange': '162.71 - 396.5', 'fiftyTwoWeekHighChange': -82.32001, 'fiftyTwoWeekHighChangePercent': -0.20761666, 'earningsTimestamp': 1681848000, 'earningsTimestampStart': 1681848000, 'earningsTimestampEnd': 1681848000, 'trailingAnnualDividendRate': 0.0, 'trailingPE': 33.31707, 'trailingAnnualDividendYield': 0.0, 'marketState': 'REGULAR', 'epsTrailingTwelveMonths': 9.43, 'epsForward': 14.38, 'epsCurrentYear': 11.48, 'priceEpsCurrentYear': 27.367596, 'sharesOutstanding': 445347008, 'bookValue': 46.654, 'fiftyDayAverage': 333.145, 'fiftyDayAverageChange': -18.964996, 'fiftyDayAverageChangePercent': -0.056927156, 'twoHundredDayAverage': 266.86874, 'twoHundredDayAverageChange': 47.31125, 'twoHundredDayAverageChangePercent': 0.17728284, 'marketCap': 139919114240, 'forwardPE': 21.8484, 'priceToBook': 6.7342563, 'sourceInterval': 15, 'exchangeDataDelayedBy': 0, 'exchangeTimezoneName': 'America/New_York', 'exchangeTimezoneShortName': 'EDT', 'gmtOffSetMilliseconds': -14400000, 'esgPopulated': False, 'tradeable': False, 'cryptoTradeable': False, 'firstTradeDateMilliseconds': 1022160600000, 'priceHint': 2, 'regularMarketChange': 20.279999, 'regularMarketTime': 1679596363, 'regularMarketPrice': 314.18, 'regularMarketDayHigh': 322.78, 'regularMarketDayRange': '304.14 - 322.78', 'regularMarketDayLow': 304.14, 'regularMarketVolume': 11690574, 'regularMarketPreviousClose': 293.9, 'bid': 316.16, 'ask': 316.59, 'bidSize': 9, 'askSize': 8, 'market': 'us_market', 'messageBoardId': 'finmb_32012', 'fullExchangeName': 'NasdaqGS', 'displayName': 'Netflix', 'symbol': 'NFLX'}, {'language': 'en-US', 'region': 'US', 'quoteType': 'EQUITY', 'typeDisp': 'Equity', 'quoteSourceName': 'Nasdaq Real Time Price', 'triggerable': False, 'customPriceAlertConfidence': 'LOW', 'currency': 'USD', 'regularMarketChangePercent': 6.7426467, 'exchange': 'NYQ', 'fiftyTwoWeekLow': 242.8, 'fiftyTwoWeekHigh': 345.3, 'shortName': 'Accenture plc', 'averageAnalystRating': '2.1 - Buy', 'longName': 'Accenture plc', 'financialCurrency': 'USD', 'regularMarketOpen': 259.45, 'averageDailyVolume3Month': 2227632, 'averageDailyVolume10Day': 3520280, 'fiftyTwoWeekLowChange': 27.547104, 'fiftyTwoWeekLowChangePercent': 0.113455944, 'fiftyTwoWeekRange': '242.8 - 345.3', 'fiftyTwoWeekHighChange': -74.95288, 'fiftyTwoWeekHighChangePercent': -0.21706598, 'dividendDate': 1676419200, 'earningsTimestamp': 1679568240, 'earningsTimestampStart': 1679568240, 'earningsTimestampEnd': 1679568240, 'trailingAnnualDividendRate': 4.18, 'trailingPE': 24.487963, 'trailingAnnualDividendYield': 0.016504126, 'marketState': 'REGULAR', 'epsTrailingTwelveMonths': 11.04, 'epsForward': 12.49, 'epsCurrentYear': 11.45, 'priceEpsCurrentYear': 23.611101, 'sharesOutstanding': 629740032, 'bookValue': 36.5, 'fiftyDayAverage': 272.308, 'fiftyDayAverageChange': -1.960907, 'fiftyDayAverageChangePercent': -0.0072010625, 'twoHundredDayAverage': 280.2257, 'twoHundredDayAverageChange': -9.878601, 'twoHundredDayAverageChangePercent': -0.035252303, 'marketCap': 170385719296, 'forwardPE': 21.645084, 'priceToBook': 7.40677, 'sourceInterval': 15, 'exchangeDataDelayedBy': 0, 'exchangeTimezoneName': 'America/New_York', 'exchangeTimezoneShortName': 'EDT', 'gmtOffSetMilliseconds': -14400000, 'esgPopulated': False, 'tradeable': False, 'cryptoTradeable': False, 'firstTradeDateMilliseconds': 995549400000, 'priceHint': 2, 'regularMarketChange': 17.077103, 'regularMarketTime': 1679596347, 'regularMarketPrice': 270.3471, 'regularMarketDayHigh': 274.605, 'regularMarketDayRange': '259.3 - 274.605', 'regularMarketDayLow': 259.3, 'regularMarketVolume': 3218267, 'regularMarketPreviousClose': 253.27, 'bid': 271.15, 'ask': 271.16, 'bidSize': 9, 'askSize': 22, 'market': 'us_market', 'messageBoardId': 'finmb_972190', 'fullExchangeName': 'NYSE', 'displayName': 'Accenture', 'symbol': 'ACN'}, {'language': 'en-US', 'region': 'US', 'quoteType': 'EQUITY', 'typeDisp': 'Equity', 'quoteSourceName': 'Nasdaq Real Time Price', 'triggerable': False, 'customPriceAlertConfidence': 'LOW', 'currency': 'USD', 'regularMarketChangePercent': 6.50217, 'exchange': 'NYQ', 'fiftyTwoWeekLow': 20.2, 'fiftyTwoWeekHigh': 32.17, 'shortName': 'BellRing Brands, Inc.', 'averageAnalystRating': '1.9 - Buy', 'longName': 'BellRing Brands, Inc.', 'financialCurrency': 'USD', 'regularMarketOpen': 31.62, 'averageDailyVolume3Month': 956827, 'averageDailyVolume10Day': 891810, 'fiftyTwoWeekLowChange': 11.74, 'fiftyTwoWeekLowChangePercent': 0.5811881, 'fiftyTwoWeekRange': '20.2 - 32.17', 'fiftyTwoWeekHighChange': -0.22999763, 'fiftyTwoWeekHighChangePercent': -0.007149445, 'earningsTimestamp': 1659695400, 'earningsTimestampStart': 1675285200, 'earningsTimestampEnd': 1675717200, 'trailingAnnualDividendRate': 0.0, 'trailingPE': 31.94, 'trailingAnnualDividendYield': 0.0, 'marketState': 'REGULAR', 'epsTrailingTwelveMonths': 1.0, 'epsForward': 1.44, 'epsCurrentYear': 1.22, 'priceEpsCurrentYear': 26.180328, 'sharesOutstanding': 133573000, 'bookValue': -2.772, 'fiftyDayAverage': 29.4108, 'fiftyDayAverageChange': 2.5291996, 'fiftyDayAverageChangePercent': 0.08599561, 'twoHundredDayAverage': 25.49315, 'twoHundredDayAverageChange': 6.44685, 'twoHundredDayAverageChangePercent': 0.25288555, 'marketCap': 4350259712, 'forwardPE': 22.180555, 'priceToBook': -11.522367, 'sourceInterval': 15, 'exchangeDataDelayedBy': 0, 'exchangeTimezoneName': 'America/New_York', 'exchangeTimezoneShortName': 'EDT', 'gmtOffSetMilliseconds': -14400000, 'esgPopulated': False, 'tradeable': False, 'cryptoTradeable': False, 'firstTradeDateMilliseconds': 1571405400000, 'priceHint': 2, 'regularMarketChange': 1.9500008, 'regularMarketTime': 1679596354, 'regularMarketPrice': 31.94, 'regularMarketDayHigh': 32.17, 'regularMarketDayRange': '31.27 - 32.17', 'regularMarketDayLow': 31.27, 'regularMarketVolume': 871686, 'regularMarketPreviousClose': 29.99, 'bid': 31.95, 'ask': 31.96, 'bidSize': 8, 'askSize': 8, 'market': 'us_market', 'messageBoardId': 'finmb_632289716', 'fullExchangeName': 'NYSE', 'displayName': 'BellRing Brands', 'symbol': 'BRBR'}, {'language': 'en-US', 'region': 'US', 'quoteType': 'EQUITY', 'typeDisp': 'Equity', 'quoteSourceName': 'Nasdaq Real Time Price', 'triggerable': False, 'customPriceAlertConfidence': 'LOW', 'currency': 'USD', 'regularMarketChangePercent': 6.45119, 'exchange': 'NYQ', 'fiftyTwoWeekLow': 40.665, 'fiftyTwoWeekHigh': 136.43, 'shortName': 'Sea Limited', 'averageAnalystRating': '2.0 - Buy', 'longName': 'Sea Limited', 'financialCurrency': 'USD', 'regularMarketOpen': 79.66, 'averageDailyVolume3Month': 5456125, 'averageDailyVolume10Day': 5085420, 'fiftyTwoWeekLowChange': 42.004997, 'fiftyTwoWeekLowChangePercent': 1.0329521, 'fiftyTwoWeekRange': '40.665 - 136.43', 'fiftyTwoWeekHighChange': -53.759995, 'fiftyTwoWeekHighChangePercent': -0.3940482, 'dividendDate': 1488326400, 'earningsTimestamp': 1678192200, 'earningsTimestampStart': 1684153800, 'earningsTimestampEnd': 1684499400, 'trailingAnnualDividendRate': 0.0, 'trailingAnnualDividendYield': 0.0, 'marketState': 'REGULAR', 'epsTrailingTwelveMonths': -2.94, 'epsForward': 2.31, 'epsCurrentYear': 1.72, 'priceEpsCurrentYear': 48.063953, 'sharesOutstanding': 561737984, 'bookValue': 10.201, 'fiftyDayAverage': 67.4114, 'fiftyDayAverageChange': 15.258598, 'fiftyDayAverageChangePercent': 0.22635041, 'twoHundredDayAverage': 64.24225, 'twoHundredDayAverageChange': 18.42775, 'twoHundredDayAverageChangePercent': 0.28684783, 'marketCap': 46438879232, 'forwardPE': 35.78788, 'priceToBook': 8.104107, 'sourceInterval': 15, 'exchangeDataDelayedBy': 0, 'exchangeTimezoneName': 'America/New_York', 'exchangeTimezoneShortName': 'EDT', 'gmtOffSetMilliseconds': -14400000, 'esgPopulated': False, 'tradeable': False, 'cryptoTradeable': False, 'firstTradeDateMilliseconds': 1508506200000, 'priceHint': 2, 'regularMarketChange': 5.0099945, 'regularMarketTime': 1679596365, 'regularMarketPrice': 82.67, 'regularMarketDayHigh': 85.2, 'regularMarketDayRange': '79.0 - 85.2', 'regularMarketDayLow': 79.0, 'regularMarketVolume': 5941452, 'regularMarketPreviousClose': 77.66, 'bid': 82.77, 'ask': 82.7, 'bidSize': 13, 'askSize': 11, 'market': 'us_market', 'messageBoardId': 'finmb_426181371', 'fullExchangeName': 'NYSE', 'displayName': 'Sea', 'symbol': 'SE'}, {'language': 'en-US', 'region': 'US', 'quoteType': 'EQUITY', 'typeDisp': 'Equity', 'quoteSourceName': 'Nasdaq Real Time Price', 'triggerable': False, 'customPriceAlertConfidence': 'LOW', 'currency': 'USD', 'regularMarketChangePercent': 6.6534867, 'exchange': 'NGM', 'fiftyTwoWeekLow': 73.1, 'fiftyTwoWeekHigh': 270.915, 'shortName': 'SiTime Corporation', 'averageAnalystRating': '1.8 - Buy', 'longName': 'SiTime Corporation', 'financialCurrency': 'USD', 'regularMarketOpen': 133.99, 'averageDailyVolume3Month': 246779, 'averageDailyVolume10Day': 288730, 'fiftyTwoWeekLowChange': 67.159996, 'fiftyTwoWeekLowChangePercent': 0.9187414, 'fiftyTwoWeekRange': '73.1 - 270.915', 'fiftyTwoWeekHighChange': -130.65501, 'fiftyTwoWeekHighChangePercent': -0.48227307, 'earningsTimestamp': 1675288800, 'earningsTimestampStart': 1683025140, 'earningsTimestampEnd': 1683547200, 'trailingAnnualDividendRate': 0.0, 'trailingPE': 134.86539, 'trailingAnnualDividendYield': 0.0, 'marketState': 'REGULAR', 'epsTrailingTwelveMonths': 1.04, 'epsForward': 2.71, 'epsCurrentYear': 1.32, 'priceEpsCurrentYear': 106.25757, 'sharesOutstanding': 21701600, 'bookValue': 32.646, 'fiftyDayAverage': 122.8428, 'fiftyDayAverageChange': 17.417198, 'fiftyDayAverageChangePercent': 0.14178444, 'twoHundredDayAverage': 120.84865, 'twoHundredDayAverageChange': 19.411346, 'twoHundredDayAverageChangePercent': 0.16062526, 'marketCap': 3043866368, 'forwardPE': 51.756454, 'priceToBook': 4.2963915, 'sourceInterval': 15, 'exchangeDataDelayedBy': 0, 'exchangeTimezoneName': 'America/New_York', 'exchangeTimezoneShortName': 'EDT', 'gmtOffSetMilliseconds': -14400000, 'esgPopulated': False, 'tradeable': False, 'cryptoTradeable': False, 'firstTradeDateMilliseconds': 1574260200000, 'priceHint': 2, 'regularMarketChange': 8.75, 'regularMarketTime': 1679596325, 'regularMarketPrice': 140.26, 'regularMarketDayHigh': 142.27, 'regularMarketDayRange': '133.5 - 142.27', 'regularMarketDayLow': 133.5, 'regularMarketVolume': 192482, 'regularMarketPreviousClose': 131.51, 'bid': 140.76, 'ask': 141.13, 'bidSize': 8, 'askSize': 8, 'market': 'us_market', 'messageBoardId': 'finmb_23813923', 'fullExchangeName': 'NasdaqGM', 'displayName': 'SiTime', 'symbol': 'SITM'}, {'language': 'en-US', 'region': 'US', 'quoteType': 'EQUITY', 'typeDisp': 'Equity', 'quoteSourceName': 'Delayed Quote', 'triggerable': False, 'customPriceAlertConfidence': 'LOW', 'currency': 'USD', 'regularMarketChangePercent': 6.5937557, 'exchange': 'PNK', 'fiftyTwoWeekLow': 24.75, 'fiftyTwoWeekHigh': 52.88, 'shortName': 'TENCENT HOLDINGS LIMITED UNSP A', 'averageAnalystRating': '3.0 - Hold', 'longName': 'Tencent Holdings Limited', 'financialCurrency': 'CNY', 'regularMarketOpen': 47.74, 'averageDailyVolume3Month': 3634144, 'averageDailyVolume10Day': 4218680, 'fiftyTwoWeekLowChange': 23.004002, 'fiftyTwoWeekLowChangePercent': 0.9294546, 'fiftyTwoWeekRange': '24.75 - 52.88', 'fiftyTwoWeekHighChange': -5.1259995, 'fiftyTwoWeekHighChangePercent': -0.09693645, 'dividendDate': 1655769600, 'trailingAnnualDividendRate': 0.0, 'trailingPE': 17.302174, 'trailingAnnualDividendYield': 0.0, 'marketState': 'REGULAR', 'epsTrailingTwelveMonths': 2.76, 'epsForward': 2.0, 'epsCurrentYear': 2.0, 'priceEpsCurrentYear': 23.877, 'sharesOutstanding': 9568079872, 'bookValue': 79.229, 'fiftyDayAverage': 46.9934, 'fiftyDayAverageChange': 0.76060104, 'fiftyDayAverageChangePercent': 0.016185274, 'twoHundredDayAverage': 40.912, 'twoHundredDayAverageChange': 6.842003, 'twoHundredDayAverageChangePercent': 0.16723707, 'marketCap': 456914108416, 'forwardPE': 23.877, 'priceToBook': 0.6027339, 'sourceInterval': 15, 'exchangeDataDelayedBy': 0, 'exchangeTimezoneName': 'America/New_York', 'exchangeTimezoneShortName': 'EDT', 'gmtOffSetMilliseconds': -14400000, 'esgPopulated': False, 'tradeable': False, 'cryptoTradeable': False, 'firstTradeDateMilliseconds': 1262701800000, 'priceHint': 2, 'regularMarketChange': 2.9540024, 'regularMarketTime': 1679595461, 'regularMarketPrice': 47.754, 'regularMarketDayHigh': 48.47, 'regularMarketDayRange': '47.65 - 48.47', 'regularMarketDayLow': 47.65, 'regularMarketVolume': 3857158, 'regularMarketPreviousClose': 44.8, 'bid': 0.0, 'ask': 0.0, 'bidSize': 0, 'askSize': 0, 'market': 'us_market', 'messageBoardId': 'finmb_11042136', 'fullExchangeName': 'Other OTC', 'displayName': 'Tencent', 'symbol': 'TCEHY'}, {'language': 'en-US', 'region': 'US', 'quoteType': 'EQUITY', 'typeDisp': 'Equity', 'quoteSourceName': 'Delayed Quote', 'triggerable': False, 'customPriceAlertConfidence': 'LOW', 'currency': 'USD', 'regularMarketChangePercent': 6.5526786, 'exchange': 'PNK', 'fiftyTwoWeekLow': 73.31, 'fiftyTwoWeekHigh': 114.79602, 'shortName': 'SANOFI', 'averageAnalystRating': '1.0 - Strong Buy', 'longName': 'Sanofi', 'financialCurrency': 'EUR', 'regularMarketOpen': 103.08, 'averageDailyVolume3Month': 23362, 'averageDailyVolume10Day': 13390, 'fiftyTwoWeekLowChange': 30.760002, 'fiftyTwoWeekLowChangePercent': 0.4195881, 'fiftyTwoWeekRange': '73.31 - 114.79602', 'fiftyTwoWeekHighChange': -10.726021, 'fiftyTwoWeekHighChangePercent': -0.093435474, 'dividendDate': 1526342400, 'trailingAnnualDividendRate': 3.56, 'trailingPE': 14.256164, 'trailingAnnualDividendYield': 0.03644927, 'marketState': 'REGULAR', 'epsTrailingTwelveMonths': 7.3, 'epsForward': 9.72, 'epsCurrentYear': 8.91, 'priceEpsCurrentYear': 11.680135, 'sharesOutstanding': 1248720000, 'bookValue': 59.701, 'fiftyDayAverage': 96.1738, 'fiftyDayAverageChange': 7.896202, 'fiftyDayAverageChangePercent': 0.08210347, 'twoHundredDayAverage': 91.75355, 'twoHundredDayAverageChange': 12.316452, 'twoHundredDayAverageChangePercent': 0.13423407, 'marketCap': 129954291712, 'forwardPE': 10.70679, 'priceToBook': 1.7431868, 'sourceInterval': 15, 'exchangeDataDelayedBy': 0, 'exchangeTimezoneName': 'America/New_York', 'exchangeTimezoneShortName': 'EDT', 'gmtOffSetMilliseconds': -14400000, 'esgPopulated': False, 'tradeable': False, 'cryptoTradeable': False, 'firstTradeDateMilliseconds': 1207747800000, 'priceHint': 2, 'regularMarketChange': 6.4000015, 'regularMarketTime': 1679586617, 'regularMarketPrice': 104.07, 'regularMarketDayHigh': 104.07, 'regularMarketDayRange': '103.08 - 104.07', 'regularMarketDayLow': 103.08, 'regularMarketVolume': 45477, 'regularMarketPreviousClose': 97.67, 'bid': 0.0, 'ask': 0.0, 'bidSize': 0, 'askSize': 0, 'market': 'us_market', 'messageBoardId': 'finmb_687130', 'fullExchangeName': 'Other OTC', 'symbol': 'SNYNF'}, {'language': 'en-US', 'region': 'US', 'quoteType': 'EQUITY', 'typeDisp': 'Equity', 'quoteSourceName': 'Delayed Quote', 'triggerable': False, 'customPriceAlertConfidence': 'LOW', 'currency': 'USD', 'regularMarketChangePercent': 6.524631, 'exchange': 'PNK', 'fiftyTwoWeekLow': 14.09, 'fiftyTwoWeekHigh': 51.45, 'shortName': 'BOMBARDIER INC', 'averageAnalystRating': '2.0 - Buy', 'longName': 'Bombardier Inc.', 'financialCurrency': 'USD', 'regularMarketOpen': 47.81, 'averageDailyVolume3Month': 24245, 'averageDailyVolume10Day': 17060, 'fiftyTwoWeekLowChange': 33.91, 'fiftyTwoWeekLowChangePercent': 2.4066713, 'fiftyTwoWeekRange': '14.09 - 51.45', 'fiftyTwoWeekHighChange': -3.4500008, 'fiftyTwoWeekHighChangePercent': -0.067055404, 'dividendDate': 1419984000, 'earningsTimestamp': 1682596800, 'earningsTimestampStart': 1682596800, 'earningsTimestampEnd': 1682596800, 'trailingAnnualDividendRate': 0.0, 'trailingAnnualDividendYield': 0.0, 'marketState': 'REGULAR', 'epsTrailingTwelveMonths': -1.73, 'epsForward': 3.63, 'epsCurrentYear': 1.81, 'priceEpsCurrentYear': 26.519339, 'sharesOutstanding': 82225600, 'bookValue': -33.041, 'fiftyDayAverage': 46.8168, 'fiftyDayAverageChange': 1.1832008, 'fiftyDayAverageChangePercent': 0.025272997, 'twoHundredDayAverage': 31.01365, 'twoHundredDayAverageChange': 16.98635, 'twoHundredDayAverageChangePercent': 0.5477056, 'marketCap': 4543147008, 'forwardPE': 13.22314, 'priceToBook': -1.4527406, 'sourceInterval': 15, 'exchangeDataDelayedBy': 0, 'exchangeTimezoneName': 'America/New_York', 'exchangeTimezoneShortName': 'EDT', 'gmtOffSetMilliseconds': -14400000, 'esgPopulated': False, 'tradeable': False, 'cryptoTradeable': False, 'firstTradeDateMilliseconds': 1234535400000, 'priceHint': 2, 'regularMarketChange': 2.9399986, 'regularMarketTime': 1679593007, 'regularMarketPrice': 48.0, 'regularMarketDayHigh': 49.434, 'regularMarketDayRange': '46.5 - 49.434', 'regularMarketDayLow': 46.5, 'regularMarketVolume': 34354, 'regularMarketPreviousClose': 45.06, 'bid': 0.0, 'ask': 0.0, 'bidSize': 0, 'askSize': 0, 'market': 'us_market', 'messageBoardId': 'finmb_695204', 'fullExchangeName': 'Other OTC', 'symbol': 'BDRBF'}, {'language': 'en-US', 'region': 'US', 'quoteType': 'EQUITY', 'typeDisp': 'Equity', 'quoteSourceName': 'Delayed Quote', 'triggerable': False, 'customPriceAlertConfidence': 'LOW', 'currency': 'USD', 'regularMarketChangePercent': 6.451613, 'exchange': 'PNK', 'fiftyTwoWeekLow': 0.7, 'fiftyTwoWeekHigh': 1.26, 'shortName': 'GENTING BERHAD', 'longName': 'Genting Berhad', 'financialCurrency': 'MYR', 'regularMarketOpen': 1.03, 'averageDailyVolume3Month': 11, 'averageDailyVolume10Day': 10, 'fiftyTwoWeekLowChange': 0.29000002, 'fiftyTwoWeekLowChangePercent': 0.41428575, 'fiftyTwoWeekRange': '0.7 - 1.26', 'fiftyTwoWeekHighChange': -0.26999998, 'fiftyTwoWeekHighChangePercent': -0.2142857, 'dividendDate': 1649376000, 'trailingAnnualDividendRate': 0.16, 'trailingAnnualDividendYield': 0.17204301, 'marketState': 'REGULAR', 'epsTrailingTwelveMonths': -0.02, 'sharesOutstanding': 3850579968, 'bookValue': 8.226, 'fiftyDayAverage': 0.9884, 'fiftyDayAverageChange': 0.0016000271, 'fiftyDayAverageChangePercent': 0.0016188052, 'twoHundredDayAverage': 0.99045, 'twoHundredDayAverageChange': -0.00045001507, 'twoHundredDayAverageChangePercent': -0.00045435413, 'marketCap': 4131062272, 'priceToBook': 0.120350115, 'sourceInterval': 15, 'exchangeDataDelayedBy': 0, 'exchangeTimezoneName': 'America/New_York', 'exchangeTimezoneShortName': 'EDT', 'gmtOffSetMilliseconds': -14400000, 'esgPopulated': False, 'tradeable': False, 'cryptoTradeable': False, 'firstTradeDateMilliseconds': 1287149400000, 'priceHint': 4, 'regularMarketChange': 0.060000002, 'regularMarketTime': 1679578748, 'regularMarketPrice': 0.99, 'regularMarketDayHigh': 1.03, 'regularMarketDayRange': '0.99 - 1.03', 'regularMarketDayLow': 0.99, 'regularMarketVolume': 29360, 'regularMarketPreviousClose': 0.93, 'bid': 0.0, 'ask': 0.0, 'bidSize': 0, 'askSize': 0, 'market': 'us_market', 'messageBoardId': 'finmb_873942', 'fullExchangeName': 'Other OTC', 'symbol': 'GEBHF'}, {'language': 'en-US', 'region': 'US', 'quoteType': 'EQUITY', 'typeDisp': 'Equity', 'quoteSourceName': 'Nasdaq Real Time Price', 'triggerable': True, 'customPriceAlertConfidence': 'HIGH', 'currency': 'USD', 'regularMarketChangePercent': 6.4220195, 'exchange': 'NMS', 'fiftyTwoWeekLow': 4.185, 'fiftyTwoWeekHigh': 9.21, 'shortName': 'Chindata Group Holdings Limited', 'longName': 'Chindata Group Holdings Limited', 'financialCurrency': 'CNY', 'regularMarketOpen': 6.77, 'averageDailyVolume3Month': 1237401, 'averageDailyVolume10Day': 1224900, 'fiftyTwoWeekLowChange': 2.775, 'fiftyTwoWeekLowChangePercent': 0.6630825, 'fiftyTwoWeekRange': '4.185 - 9.21', 'fiftyTwoWeekHighChange': -2.25, 'fiftyTwoWeekHighChangePercent': -0.24429968, 'earningsTimestamp': 1678878000, 'earningsTimestampStart': 1684931400, 'earningsTimestampEnd': 1685363400, 'trailingAnnualDividendRate': 0.0, 'trailingPE': 26.769232, 'trailingAnnualDividendYield': 0.0, 'marketState': 'REGULAR', 'epsTrailingTwelveMonths': 0.26, 'epsForward': 0.47, 'sharesOutstanding': 364928000, 'bookValue': 29.976, 'fiftyDayAverage': 7.7538, 'fiftyDayAverageChange': -0.7937999, 'fiftyDayAverageChangePercent': -0.1023756, 'twoHundredDayAverage': 7.46405, 'twoHundredDayAverageChange': -0.5040498, 'twoHundredDayAverageChangePercent': -0.067530334, 'marketCap': 2539898880, 'forwardPE': 14.808511, 'priceToBook': 0.23218575, 'sourceInterval': 15, 'exchangeDataDelayedBy': 0, 'exchangeTimezoneName': 'America/New_York', 'exchangeTimezoneShortName': 'EDT', 'gmtOffSetMilliseconds': -14400000, 'ipoExpectedDate': '2020-09-30', 'esgPopulated': False, 'tradeable': False, 'cryptoTradeable': False, 'firstTradeDateMilliseconds': 1601472600000, 'priceHint': 2, 'regularMarketChange': 0.42000008, 'regularMarketTime': 1679596186, 'regularMarketPrice': 6.96, 'regularMarketDayHigh': 7.22, 'regularMarketDayRange': '6.745 - 7.22', 'regularMarketDayLow': 6.745, 'regularMarketVolume': 773768, 'regularMarketPreviousClose': 6.54, 'bid': 7.0, 'ask': 7.0, 'bidSize': 13, 'askSize': 10, 'market': 'us_market', 'messageBoardId': 'finmb_687560251', 'fullExchangeName': 'NasdaqGS', 'displayName': 'Chindata', 'symbol': 'CD'}, {'language': 'en-US', 'region': 'US', 'quoteType': 'EQUITY', 'typeDisp': 'Equity', 'quoteSourceName': 'Nasdaq Real Time Price', 'triggerable': True, 'customPriceAlertConfidence': 'HIGH', 'currency': 'USD', 'regularMarketChangePercent': 6.292272, 'exchange': 'NMS', 'fiftyTwoWeekLow': 36.91, 'fiftyTwoWeekHigh': 58.1, 'shortName': 'Sanofi', 'averageAnalystRating': '1.5 - Strong Buy', 'longName': 'Sanofi', 'financialCurrency': 'EUR', 'regularMarketOpen': 52.01, 'averageDailyVolume3Month': 1895723, 'averageDailyVolume10Day': 1411150, 'fiftyTwoWeekLowChange': 14.950001, 'fiftyTwoWeekLowChangePercent': 0.4050393, 'fiftyTwoWeekRange': '36.91 - 58.1', 'fiftyTwoWeekHighChange': -6.239998, 'fiftyTwoWeekHighChangePercent': -0.107401, 'dividendDate': 1687478400, 'trailingAnnualDividendRate': 3.56, 'trailingPE': 14.247252, 'trailingAnnualDividendYield': 0.07296577, 'marketState': 'REGULAR', 'epsTrailingTwelveMonths': 3.64, 'epsForward': 4.98, 'epsCurrentYear': 4.45, 'priceEpsCurrentYear': 11.653934, 'sharesOutstanding': 2497430016, 'bookValue': 29.8505, 'fiftyDayAverage': 47.9786, 'fiftyDayAverageChange': 3.881401, 'fiftyDayAverageChangePercent': 0.08089859, 'twoHundredDayAverage': 45.892, 'twoHundredDayAverageChange': 5.9680023, 'twoHundredDayAverageChangePercent': 0.1300445, 'marketCap': 129516724224, 'forwardPE': 10.413654, 'priceToBook': 1.7373244, 'sourceInterval': 15, 'exchangeDataDelayedBy': 0, 'exchangeTimezoneName': 'America/New_York', 'exchangeTimezoneShortName': 'EDT', 'gmtOffSetMilliseconds': -14400000, 'esgPopulated': False, 'tradeable': False, 'cryptoTradeable': False, 'firstTradeDateMilliseconds': 1025530200000, 'priceHint': 2, 'regularMarketChange': 3.0699997, 'regularMarketTime': 1679596360, 'regularMarketPrice': 51.86, 'regularMarketDayHigh': 52.3, 'regularMarketDayRange': '51.4 - 52.3', 'regularMarketDayLow': 51.4, 'regularMarketVolume': 5249554, 'regularMarketPreviousClose': 48.79, 'bid': 51.93, 'ask': 51.97, 'bidSize': 8, 'askSize': 8, 'market': 'us_market', 'messageBoardId': 'finmb_687130', 'fullExchangeName': 'NasdaqGS', 'symbol': 'SNY'}]\n"
     ]
    }
   ],
   "source": [
    "from yahooquery import Screener\n",
    "from yahooquery import Ticker\n",
    "\n",
    "s = Screener()\n",
    "# View available screeners along with description and nice name\n",
    "#s.SCREENERS\n",
    "\n",
    "# or just view list of keys\n",
    "#print(s.available_screeners)\n",
    "\n",
    "# Stocks ordered in descending order by intraday trade volume \n",
    "data = s.get_screeners(['most_actives', 'day_gainers', 'day_losers','top_stocks_owned_by_cathie_wood'])\n",
    "#print(data)\n",
    "# is equivalent to\n",
    "data = s.get_screeners('most_actives day_gainers day_losers top_stocks_owned_by_cathie_wood')\n",
    "\n",
    "#print(data['most_actives']['quotes'])\n",
    "print(data['day_gainers']['quotes'])\n",
    "#print(data['top_stocks_owned_by_cathie_wood']['quotes'])\n",
    "#print(data['day_losers']['quotes'])\n",
    "\n",
    "#msft = Ticker('MSFT')\n",
    "#print(dir(msft))\n",
    "#print(msft.quotes['MSFT'])\n",
    "#print(msft.financial_data)"
   ]
  },
  {
   "cell_type": "code",
   "execution_count": 18,
   "id": "5d9e36b2",
   "metadata": {},
   "outputs": [
    {
     "name": "stdout",
     "output_type": "stream",
     "text": [
      "[2, 4, 6, 8, 10]\n",
      "['ABC', 'CDE']\n"
     ]
    }
   ],
   "source": [
    "a = ['abc',\"cde\"]\n",
    "c = [1,2,3,4,5]\n",
    "cc = map(lambda x: x*2,c)\n",
    "print(list(cc))\n",
    "b = list(map(str.upper, a))\n",
    "print(b)"
   ]
  },
  {
   "cell_type": "code",
   "execution_count": 76,
   "id": "318dfa95",
   "metadata": {},
   "outputs": [
    {
     "name": "stdout",
     "output_type": "stream",
     "text": [
      "9\n"
     ]
    }
   ],
   "source": [
    "s = \"abefsfdersxyozyfdfwbmaoera\"\n",
    "\n",
    "def length_of_longest_substring(s):\n",
    "    max_len = 0\n",
    "    left = 0\n",
    "    chars = set()\n",
    "    for right in range(len(s)):\n",
    "        while s[right] in chars:\n",
    "            chars.remove(s[left])\n",
    "            left += 1\n",
    "        chars.add(s[right])\n",
    "        max_len = max(max_len, right - left + 1)\n",
    "    return max_len\n",
    "\n",
    "print(length_of_longest_substring(s))"
   ]
  },
  {
   "cell_type": "code",
   "execution_count": 60,
   "id": "45ccb1a6",
   "metadata": {
    "scrolled": true
   },
   "outputs": [
    {
     "name": "stdout",
     "output_type": "stream",
     "text": [
      "07abcddeeghpuy\n",
      "edegu0cpbdy7ha\n",
      "[1, 4, 5, 8, 10]\n",
      "['__add__', '__class__', '__contains__', '__delattr__', '__delitem__', '__dir__', '__doc__', '__eq__', '__format__', '__ge__', '__getattribute__', '__getitem__', '__gt__', '__hash__', '__iadd__', '__imul__', '__init__', '__init_subclass__', '__iter__', '__le__', '__len__', '__lt__', '__mul__', '__ne__', '__new__', '__reduce__', '__reduce_ex__', '__repr__', '__reversed__', '__rmul__', '__setattr__', '__setitem__', '__sizeof__', '__str__', '__subclasshook__', 'append', 'clear', 'copy', 'count', 'extend', 'index', 'insert', 'pop', 'remove', 'reverse', 'sort']\n",
      "[5, 10, 8, 4, 1]\n",
      "None\n",
      "[{'name': 'Jane', 'age': 30}, {'name': 'John', 'age': 95}]\n"
     ]
    }
   ],
   "source": [
    "#reverse and sort are different for string and list.  String is not \n",
    "a = \"ah7ydbpc0ugede\"\n",
    "print(\"\".join(sorted(a)))\n",
    "print(\"\".join(reversed(a)))\n",
    "b = [1,4,8,10,5]\n",
    "print(sorted(b))\n",
    "print(dir(b))\n",
    "b.reverse()\n",
    "print(b)\n",
    "print(b.reverse()) # this will print out None, at the reverse() will make change in place, but will not return anything. \n",
    "dictlist = [{\"name\": \"John\", \"age\": 95}, {\"name\": \"Jane\", \"age\": 30}]\n",
    "newlist = sorted(dictlist,key=lambda x: x[\"age\"])\n",
    "print(newlist)\n",
    "\n",
    "\n"
   ]
  },
  {
   "cell_type": "code",
   "execution_count": 71,
   "id": "6281f382",
   "metadata": {},
   "outputs": [
    {
     "name": "stdout",
     "output_type": "stream",
     "text": [
      "[{'name': 'Jane', 'age': 30}, {'name': 'John', 'age': 95}]\n"
     ]
    }
   ],
   "source": [
    "dictlist = [{\"name\": \"John\", \"age\": 95}, {\"name\": \"Jane\", \"age\": 30}]\n",
    "newlist = sorted(dictlist,key=lambda x:x[\"age\"])\n",
    "print(newlist)\n"
   ]
  },
  {
   "cell_type": "code",
   "execution_count": 78,
   "id": "7f8aa959",
   "metadata": {},
   "outputs": [
    {
     "name": "stdout",
     "output_type": "stream",
     "text": [
      "9\n",
      "9\n"
     ]
    }
   ],
   "source": [
    "#find the longest none repeative sub_string\n",
    "s = \"abcabcdabcdefghabcdef\"\n",
    "s = \"abefsfdersxyozyfdfwbmaoera\"\n",
    "result = []\n",
    "\n",
    "def max_none_repeat(s):\n",
    "    max_len = 0\n",
    "    for i in s:\n",
    "        if i not in result:\n",
    "            result.append(i)\n",
    "        else:\n",
    "            sub_len = len(result)\n",
    "            if max_len < sub_len:\n",
    "                max_len = sub_len\n",
    "            while i in result:\n",
    "                result.pop(0)\n",
    "            result.append(i)\n",
    "    return max(max_len,len(result))\n",
    "\n",
    "print(max_none_repeat(s))\n",
    "        \n",
    "\n",
    "s = \"abefsfdersxyozyfdfwbmaoera\"\n",
    "\n",
    "def length_of_longest_substring(s):\n",
    "    max_len = 0\n",
    "    left = 0\n",
    "    chars = set()\n",
    "    for right in range(len(s)):\n",
    "        while s[right] in chars:\n",
    "            chars.remove(s[left])\n",
    "            left += 1\n",
    "        chars.add(s[right])\n",
    "        max_len = max(max_len, right - left + 1)\n",
    "    return max_len\n",
    "\n",
    "print(length_of_longest_substring(s))"
   ]
  },
  {
   "cell_type": "code",
   "execution_count": 75,
   "id": "0cff377f",
   "metadata": {},
   "outputs": [
    {
     "name": "stdout",
     "output_type": "stream",
     "text": [
      "['foo', 'bar', 'hello', 'world']\n"
     ]
    }
   ],
   "source": [
    "strings = [\"hello\", \"world\", \"foo\", \"bar\"]\n",
    "def sort_by_length(strings):\n",
    "    return sorted(strings, key=len)\n",
    "\n",
    "print(sort_by_length(strings))"
   ]
  },
  {
   "cell_type": "code",
   "execution_count": 94,
   "id": "5eae8464",
   "metadata": {},
   "outputs": [
    {
     "ename": "TypeError",
     "evalue": "'int' object is not callable",
     "output_type": "error",
     "traceback": [
      "\u001b[0;31m---------------------------------------------------------------------------\u001b[0m",
      "\u001b[0;31mTypeError\u001b[0m                                 Traceback (most recent call last)",
      "\u001b[0;32m/var/folders/55/grjl95j95bd8qg9ps99471bc0000gn/T/ipykernel_24185/1842199668.py\u001b[0m in \u001b[0;36m<module>\u001b[0;34m\u001b[0m\n\u001b[0;32m----> 1\u001b[0;31m \u001b[0mbb\u001b[0m \u001b[0;34m=\u001b[0m \u001b[0mmax\u001b[0m\u001b[0;34m(\u001b[0m\u001b[0;34m[\u001b[0m\u001b[0;36m1\u001b[0m\u001b[0;34m,\u001b[0m\u001b[0;36m2\u001b[0m\u001b[0;34m]\u001b[0m\u001b[0;34m)\u001b[0m\u001b[0;34m\u001b[0m\u001b[0;34m\u001b[0m\u001b[0m\n\u001b[0m\u001b[1;32m      2\u001b[0m \u001b[0mprint\u001b[0m\u001b[0;34m(\u001b[0m\u001b[0mbb\u001b[0m\u001b[0;34m)\u001b[0m\u001b[0;34m\u001b[0m\u001b[0;34m\u001b[0m\u001b[0m\n\u001b[1;32m      3\u001b[0m \u001b[0marray\u001b[0m \u001b[0;34m=\u001b[0m \u001b[0;34m[\u001b[0m\u001b[0;34m-\u001b[0m\u001b[0;36m2\u001b[0m\u001b[0;34m,\u001b[0m \u001b[0;36m1\u001b[0m\u001b[0;34m,\u001b[0m \u001b[0;34m-\u001b[0m\u001b[0;36m3\u001b[0m\u001b[0;34m,\u001b[0m \u001b[0;36m4\u001b[0m\u001b[0;34m,\u001b[0m \u001b[0;34m-\u001b[0m\u001b[0;36m1\u001b[0m\u001b[0;34m,\u001b[0m \u001b[0;36m2\u001b[0m\u001b[0;34m,\u001b[0m \u001b[0;36m1\u001b[0m\u001b[0;34m,\u001b[0m \u001b[0;34m-\u001b[0m\u001b[0;36m5\u001b[0m\u001b[0;34m,\u001b[0m \u001b[0;36m4\u001b[0m\u001b[0;34m]\u001b[0m\u001b[0;34m\u001b[0m\u001b[0;34m\u001b[0m\u001b[0m\n\u001b[1;32m      4\u001b[0m \u001b[0mmax_num\u001b[0m \u001b[0;34m=\u001b[0m \u001b[0;36m0\u001b[0m\u001b[0;34m\u001b[0m\u001b[0;34m\u001b[0m\u001b[0m\n\u001b[1;32m      5\u001b[0m \u001b[0mmax_arry\u001b[0m \u001b[0;34m=\u001b[0m \u001b[0;34m[\u001b[0m\u001b[0;34m]\u001b[0m\u001b[0;34m\u001b[0m\u001b[0;34m\u001b[0m\u001b[0m\n",
      "\u001b[0;31mTypeError\u001b[0m: 'int' object is not callable"
     ]
    }
   ],
   "source": [
    "bb = max([1,2])\n",
    "print(bb)\n",
    "array = [-2, 1, -3, 4, -1, 2, 1, -5, 4]\n",
    "max_num = 0\n",
    "max_arry = []\n",
    "for i in range(len(array)):\n",
    "    for j in range(i,len(array)):\n",
    "        if sum(array[i:j]) > max_num:\n",
    "            max_num = sum(array[i:j])\n",
    "            max_array = array[i:j]\n",
    "\n",
    "print(max_num)\n",
    "print(max_array)\n",
    "\n",
    "def max_subarray_sum(arr):\n",
    "    max_sum = arr[0] # initialize the maximum sum as the first element of the array\n",
    "    curr_sum = arr[0] # initialize the current sum as the first element of the array\n",
    "    \n",
    "    for i in range(1, len(arr)):\n",
    "        # If adding the current element to the current sum increases the sum, then include it\n",
    "        curr_sum += arr[i]\n",
    "        \n",
    "        # If the current sum is greater than the maximum sum so far, update the maximum sum\n",
    "        max_sum = max(max_sum, curr_sum)\n",
    "    \n",
    "    return max_sum\n",
    "\n",
    "print(max_subarray_sum(array))\n",
    "    "
   ]
  },
  {
   "cell_type": "code",
   "execution_count": 95,
   "id": "0d814a88",
   "metadata": {},
   "outputs": [
    {
     "ename": "TypeError",
     "evalue": "'int' object is not callable",
     "output_type": "error",
     "traceback": [
      "\u001b[0;31m---------------------------------------------------------------------------\u001b[0m",
      "\u001b[0;31mTypeError\u001b[0m                                 Traceback (most recent call last)",
      "\u001b[0;32m/var/folders/55/grjl95j95bd8qg9ps99471bc0000gn/T/ipykernel_24185/2136925212.py\u001b[0m in \u001b[0;36m<module>\u001b[0;34m\u001b[0m\n\u001b[1;32m     14\u001b[0m \u001b[0mn\u001b[0m \u001b[0;34m=\u001b[0m \u001b[0;36m8\u001b[0m\u001b[0;34m\u001b[0m\u001b[0;34m\u001b[0m\u001b[0m\n\u001b[1;32m     15\u001b[0m \u001b[0mprices\u001b[0m \u001b[0;34m=\u001b[0m \u001b[0;34m[\u001b[0m\u001b[0;36m1\u001b[0m\u001b[0;34m,\u001b[0m \u001b[0;36m5\u001b[0m\u001b[0;34m,\u001b[0m \u001b[0;36m8\u001b[0m\u001b[0;34m,\u001b[0m \u001b[0;36m9\u001b[0m\u001b[0;34m,\u001b[0m \u001b[0;36m10\u001b[0m\u001b[0;34m,\u001b[0m \u001b[0;36m17\u001b[0m\u001b[0;34m,\u001b[0m \u001b[0;36m17\u001b[0m\u001b[0;34m,\u001b[0m \u001b[0;36m20\u001b[0m\u001b[0;34m]\u001b[0m\u001b[0;34m\u001b[0m\u001b[0;34m\u001b[0m\u001b[0m\n\u001b[0;32m---> 16\u001b[0;31m \u001b[0mprint\u001b[0m\u001b[0;34m(\u001b[0m\u001b[0mrod_cutting\u001b[0m\u001b[0;34m(\u001b[0m\u001b[0mn\u001b[0m\u001b[0;34m,\u001b[0m \u001b[0mprices\u001b[0m\u001b[0;34m)\u001b[0m\u001b[0;34m)\u001b[0m \u001b[0;31m# Output: 22\u001b[0m\u001b[0;34m\u001b[0m\u001b[0;34m\u001b[0m\u001b[0m\n\u001b[0m\u001b[1;32m     17\u001b[0m \u001b[0;34m\u001b[0m\u001b[0m\n",
      "\u001b[0;32m/var/folders/55/grjl95j95bd8qg9ps99471bc0000gn/T/ipykernel_24185/2136925212.py\u001b[0m in \u001b[0;36mrod_cutting\u001b[0;34m(n, prices)\u001b[0m\n\u001b[1;32m      6\u001b[0m     \u001b[0;32mfor\u001b[0m \u001b[0mi\u001b[0m \u001b[0;32min\u001b[0m \u001b[0mrange\u001b[0m\u001b[0;34m(\u001b[0m\u001b[0;36m1\u001b[0m\u001b[0;34m,\u001b[0m \u001b[0mn\u001b[0m \u001b[0;34m+\u001b[0m \u001b[0;36m1\u001b[0m\u001b[0;34m)\u001b[0m\u001b[0;34m:\u001b[0m\u001b[0;34m\u001b[0m\u001b[0;34m\u001b[0m\u001b[0m\n\u001b[1;32m      7\u001b[0m         \u001b[0;32mfor\u001b[0m \u001b[0mj\u001b[0m \u001b[0;32min\u001b[0m \u001b[0mrange\u001b[0m\u001b[0;34m(\u001b[0m\u001b[0mi\u001b[0m\u001b[0;34m)\u001b[0m\u001b[0;34m:\u001b[0m\u001b[0;34m\u001b[0m\u001b[0;34m\u001b[0m\u001b[0m\n\u001b[0;32m----> 8\u001b[0;31m             \u001b[0mtable\u001b[0m\u001b[0;34m[\u001b[0m\u001b[0mi\u001b[0m\u001b[0;34m]\u001b[0m \u001b[0;34m=\u001b[0m \u001b[0mmax\u001b[0m\u001b[0;34m(\u001b[0m\u001b[0mtable\u001b[0m\u001b[0;34m[\u001b[0m\u001b[0mi\u001b[0m\u001b[0;34m]\u001b[0m\u001b[0;34m,\u001b[0m \u001b[0mprices\u001b[0m\u001b[0;34m[\u001b[0m\u001b[0mj\u001b[0m\u001b[0;34m]\u001b[0m \u001b[0;34m+\u001b[0m \u001b[0mtable\u001b[0m\u001b[0;34m[\u001b[0m\u001b[0mi\u001b[0m \u001b[0;34m-\u001b[0m \u001b[0mj\u001b[0m \u001b[0;34m-\u001b[0m \u001b[0;36m1\u001b[0m\u001b[0;34m]\u001b[0m\u001b[0;34m)\u001b[0m\u001b[0;34m\u001b[0m\u001b[0;34m\u001b[0m\u001b[0m\n\u001b[0m\u001b[1;32m      9\u001b[0m \u001b[0;34m\u001b[0m\u001b[0m\n\u001b[1;32m     10\u001b[0m     \u001b[0;31m# Return the maximum revenue for the rod of length n\u001b[0m\u001b[0;34m\u001b[0m\u001b[0;34m\u001b[0m\u001b[0;34m\u001b[0m\u001b[0m\n",
      "\u001b[0;31mTypeError\u001b[0m: 'int' object is not callable"
     ]
    }
   ],
   "source": [
    "#Rod Cutting: Given a rod of length n and a list of prices for rods of different lengths, \n",
    "#determine the maximum revenue that can be obtained by cutting the rod into pieces and selling \n",
    "#the pieces. For example, if the rod length is 8 and the prices for lengths 1, 2, 3, 4, 5, 6, 7, \n",
    "#and 8 are 1, 5, 8, 9, 10, 17, 17, and 20 respectively, the maximum revenue is 22 \n",
    "#(cutting the rod into pieces of length 2 and 6).\n",
    "def rod_cutting(n, prices):\n",
    "    # Create a table to store the maximum revenue for each rod length\n",
    "    table = [0] * (n + 1)\n",
    "\n",
    "    # Fill the table using bottom-up dynamic programming\n",
    "    for i in range(1, n + 1):\n",
    "        for j in range(i):\n",
    "            table[i] = max(table[i], prices[j] + table[i - j - 1])\n",
    "\n",
    "    # Return the maximum revenue for the rod of length n\n",
    "    return table[n]\n",
    "\n",
    "# Example usage:\n",
    "n = 8\n",
    "prices = [1, 5, 8, 9, 10, 17, 17, 20]\n",
    "print(rod_cutting(n, prices)) # Output: 22\n",
    "\n"
   ]
  },
  {
   "cell_type": "code",
   "execution_count": 3,
   "id": "41747c96",
   "metadata": {},
   "outputs": [
    {
     "name": "stdout",
     "output_type": "stream",
     "text": [
      "0\n",
      "0\n",
      "0\n",
      "1\n",
      "1\n",
      "1\n",
      "1\n",
      "1\n",
      "1\n",
      "1\n",
      "2\n",
      "2\n",
      "1\n",
      "1\n",
      "2\n",
      "2\n",
      "2\n",
      "2\n",
      "1\n",
      "1\n",
      "2\n",
      "2\n",
      "3\n",
      "3\n",
      "1\n",
      "2\n",
      "2\n",
      "2\n",
      "3\n",
      "3\n",
      "1\n",
      "2\n",
      "2\n",
      "3\n",
      "3\n",
      "4\n",
      "1\n",
      "2\n",
      "2\n",
      "3\n",
      "4\n",
      "4\n",
      "4\n"
     ]
    }
   ],
   "source": [
    "def longest_common_subsequence(first_string, second_string):\n",
    "    m, n = len(first_string), len(second_string)\n",
    "    L = [[0] * (n+1) for _ in range(m+1)]\n",
    "\n",
    "    for i in range(1, m+1):\n",
    "        for j in range(1, n+1):\n",
    "            if first_string[i-1] == second_string[j-1]:\n",
    "                L[i][j] = L[i-1][j-1] + 1\n",
    "            else:\n",
    "                L[i][j] = max(L[i-1][j], L[i][j-1])\n",
    "            print(L[i][j])\n",
    "    return L[m][n]\n",
    "print(longest_common_subsequence(\"ABCBDAB\", \"BDCABA\"))"
   ]
  },
  {
   "cell_type": "code",
   "execution_count": 6,
   "id": "658d5635",
   "metadata": {},
   "outputs": [
    {
     "name": "stdout",
     "output_type": "stream",
     "text": [
      "[IPv4Network('192.168.1.0/24'), IPv4Network('192.168.2.0/23'), IPv4Network('192.168.4.0/23')]\n"
     ]
    }
   ],
   "source": [
    "import ipaddress\n",
    "\n",
    "ip1 = ipaddress.IPv4Network('192.168.5.0/24')\n",
    "ip2 = ipaddress.IPv4Network('192.168.1.0/24')\n",
    "\n",
    "summarized_networks = list(ipaddress.summarize_address_range(ip2.network_address, ip1.broadcast_address))\n",
    "\n",
    "print(summarized_networks)\n"
   ]
  },
  {
   "cell_type": "code",
   "execution_count": 11,
   "id": "b1a32a34",
   "metadata": {},
   "outputs": [
    {
     "name": "stdout",
     "output_type": "stream",
     "text": [
      "['192.168.200.0', '192.168.220.0', '192.182.200.0', '192.174.200.0']\n",
      ".101\n"
     ]
    },
    {
     "ename": "ValueError",
     "evalue": "invalid literal for int() with base 2: '.101'",
     "output_type": "error",
     "traceback": [
      "\u001b[0;31m---------------------------------------------------------------------------\u001b[0m",
      "\u001b[0;31mValueError\u001b[0m                                Traceback (most recent call last)",
      "\u001b[0;32m/var/folders/55/grjl95j95bd8qg9ps99471bc0000gn/T/ipykernel_70678/7238554.py\u001b[0m in \u001b[0;36m<module>\u001b[0;34m\u001b[0m\n\u001b[1;32m     69\u001b[0m \u001b[0mip_list\u001b[0m \u001b[0;34m=\u001b[0m \u001b[0;34m[\u001b[0m\u001b[0;34m'192.168.200.0'\u001b[0m\u001b[0;34m,\u001b[0m\u001b[0;34m'192.168.220.0'\u001b[0m\u001b[0;34m,\u001b[0m\u001b[0;34m'192.182.200.0'\u001b[0m\u001b[0;34m,\u001b[0m\u001b[0;34m'192.174.200.0'\u001b[0m\u001b[0;34m]\u001b[0m\u001b[0;34m\u001b[0m\u001b[0;34m\u001b[0m\u001b[0m\n\u001b[1;32m     70\u001b[0m \u001b[0mprint\u001b[0m \u001b[0;34m(\u001b[0m\u001b[0mip_list\u001b[0m\u001b[0;34m)\u001b[0m\u001b[0;34m\u001b[0m\u001b[0;34m\u001b[0m\u001b[0m\n\u001b[0;32m---> 71\u001b[0;31m \u001b[0maggregation\u001b[0m\u001b[0;34m(\u001b[0m\u001b[0mip_list\u001b[0m\u001b[0;34m)\u001b[0m\u001b[0;34m\u001b[0m\u001b[0;34m\u001b[0m\u001b[0m\n\u001b[0m\u001b[1;32m     72\u001b[0m \u001b[0mip_list\u001b[0m \u001b[0;34m=\u001b[0m \u001b[0;34m[\u001b[0m\u001b[0;34m'200.168.15.0'\u001b[0m\u001b[0;34m,\u001b[0m\u001b[0;34m'192.168.20.0'\u001b[0m\u001b[0;34m,\u001b[0m\u001b[0;34m'192.182.200.0'\u001b[0m\u001b[0;34m,\u001b[0m\u001b[0;34m'192.174.200.0'\u001b[0m\u001b[0;34m]\u001b[0m\u001b[0;34m\u001b[0m\u001b[0;34m\u001b[0m\u001b[0m\n\u001b[1;32m     73\u001b[0m \u001b[0mprint\u001b[0m \u001b[0;34m(\u001b[0m\u001b[0mip_list\u001b[0m\u001b[0;34m)\u001b[0m\u001b[0;34m\u001b[0m\u001b[0;34m\u001b[0m\u001b[0m\n",
      "\u001b[0;32m/var/folders/55/grjl95j95bd8qg9ps99471bc0000gn/T/ipykernel_70678/7238554.py\u001b[0m in \u001b[0;36maggregation\u001b[0;34m(ip_l)\u001b[0m\n\u001b[1;32m     53\u001b[0m         \u001b[0mip1\u001b[0m \u001b[0;34m=\u001b[0m \u001b[0mmask\u001b[0m\u001b[0;34m[\u001b[0m\u001b[0mhigh\u001b[0m\u001b[0;34m:\u001b[0m\u001b[0mlen\u001b[0m\u001b[0;34m(\u001b[0m\u001b[0mmask\u001b[0m\u001b[0;34m)\u001b[0m\u001b[0;34m]\u001b[0m\u001b[0;34m\u001b[0m\u001b[0;34m\u001b[0m\u001b[0m\n\u001b[1;32m     54\u001b[0m         \u001b[0mprint\u001b[0m\u001b[0;34m(\u001b[0m\u001b[0mip1\u001b[0m\u001b[0;34m)\u001b[0m\u001b[0;34m\u001b[0m\u001b[0;34m\u001b[0m\u001b[0m\n\u001b[0;32m---> 55\u001b[0;31m         \u001b[0mipi\u001b[0m \u001b[0;34m=\u001b[0m \u001b[0mint\u001b[0m\u001b[0;34m(\u001b[0m\u001b[0mip1\u001b[0m\u001b[0;34m,\u001b[0m\u001b[0;36m2\u001b[0m\u001b[0;34m)\u001b[0m\u001b[0;34m\u001b[0m\u001b[0;34m\u001b[0m\u001b[0m\n\u001b[0m\u001b[1;32m     56\u001b[0m         \u001b[0;31m#print ip_mask\u001b[0m\u001b[0;34m\u001b[0m\u001b[0;34m\u001b[0m\u001b[0;34m\u001b[0m\u001b[0m\n\u001b[1;32m     57\u001b[0m         \u001b[0mip_mask\u001b[0m \u001b[0;34m+=\u001b[0m \u001b[0mstr\u001b[0m\u001b[0;34m(\u001b[0m\u001b[0mipi\u001b[0m\u001b[0;34m)\u001b[0m\u001b[0;34m\u001b[0m\u001b[0;34m\u001b[0m\u001b[0m\n",
      "\u001b[0;31mValueError\u001b[0m: invalid literal for int() with base 2: '.101'"
     ]
    }
   ],
   "source": [
    "def aggregation(ip_l):\n",
    "\tip_list=[]\n",
    "\tfor ip in ip_l:\n",
    "\t\tsub = ip.split('.')\n",
    "\n",
    "\t\tip1 = \"{0:b}\".format(int(sub[0]))\n",
    "\t\tif len(ip1)< 8:\n",
    "\t\t\tip1 = '0'*(8-len(ip1)) + ip1\n",
    "\t\tip2 = \"{0:b}\".format(int(sub[1]))\n",
    "\t\tif len(ip2)< 8:\n",
    "\t\t\tip2 = '0'*(8-len(ip2)) + ip2\n",
    "\t\tip3 = \"{0:b}\".format(int(sub[2]))\n",
    "\t\tif len(ip3)< 8:\n",
    "\t\t\tip3 = '0'*(8-len(ip3)) + ip3\n",
    "\t\tip4 = \"{0:b}\".format(int(sub[3]))\n",
    "\t\tif len(ip4)< 8:\n",
    "\t\t\tip4 = '0'*(8-len(ip4)) + ip4\n",
    "\t\ts = ip1+'.'+ip2+'.'+ip3+'.'+ip4\n",
    "\t\tip_list.append(s)\n",
    "\tlength = 0\n",
    "\tlongest = 0\n",
    "\t#print ip_list\n",
    "\ts = ip_list[0]\n",
    "\tfor j in range(len(s)):\n",
    "\t\tfor i in range(1,len(ip_list)):\n",
    "\t\t#\tprint ip_list[0][j], ip_list[i][j]\n",
    "\t\t\tif ip_list[0][j] != ip_list[i][j]:\n",
    "\t\t\t\t#print \"here\"\n",
    "\t\t\t\tlongest = 1\n",
    "\t\t\t\tbreak\n",
    "\t\tif longest == 1:\n",
    "\t\t\tbreak\n",
    "\t\telse:\n",
    "\t\t\tlength +=1\n",
    "\t#print \"longest length = %d\" %length\n",
    "\tipx = ip_list[0]\n",
    "\tmask = ipx[:length]\n",
    "\n",
    "\t#print mask\n",
    "\tip_mask = ''\n",
    "\tlow = 0\n",
    "\thigh = 0\n",
    "\twhile length >= 8:\n",
    "\t\thigh = low + 8\n",
    "\t\tip1 = mask[low:high]\n",
    "\t\tipi = int(ip1,2)\n",
    "\t#\tprint \"octet:\"\n",
    "\t#\tprint ipi\n",
    "\t\tip_mask += (str(ipi) +'.')\n",
    "\t\tlength -= 8\n",
    "\t\tlow = high\n",
    "\n",
    "\tip1 = mask[high:len(mask)]\n",
    "\tprint(ip1)\n",
    "\tipi = int(ip1,2)\n",
    "\t#print ip_mask\n",
    "\tip_mask += str(ipi)\n",
    "\tii = ip_mask.split('.')\n",
    "\tl = len(ii)\n",
    "\t#print \"l=%d\"%l\n",
    "\tfor i in range(4-l):\n",
    "\t\tif i == 4-l-1:\n",
    "\t\t\tip_mask += (str(ipi) + '.' + '0')\n",
    "\t\telse:\n",
    "\t\t\tip_mask += (str(ipi) + '.' + '0'+'.')\n",
    "\tprint(ip_mask,len(ip_mask))\n",
    "\n",
    "\n",
    "ip_list = ['192.168.200.0','192.168.220.0','192.182.200.0','192.174.200.0']\n",
    "print (ip_list)\n",
    "aggregation(ip_list)\n",
    "ip_list = ['200.168.15.0','192.168.20.0','192.182.200.0','192.174.200.0']\n",
    "print (ip_list)\n",
    "aggregation(ip_list)\n",
    "ip_list = ['200.168.15.0','192.140.20.0','183.182.200.0','172.174.200.0']\n",
    "print (ip_list)\n",
    "aggregation(ip_list)\n",
    "ip_list = ['127.168.15.0','232.140.20.0','224.182.200.0','172.174.200.0']\n",
    "print (ip_list)\n",
    "aggregation(ip_list)\n",
    "ip_list = ['10.1.57.0','10.1.59.0','10.1.61.0']\n",
    "print (ip_list)\n",
    "aggregation(ip_list)\n"
   ]
  },
  {
   "cell_type": "code",
   "execution_count": 13,
   "id": "b3828b85",
   "metadata": {},
   "outputs": [
    {
     "name": "stdout",
     "output_type": "stream",
     "text": [
      "1100\n",
      "1100\n",
      "\n",
      "\n",
      "\n",
      "[12, 0, 0, 0]\n"
     ]
    }
   ],
   "source": [
    "ip_list = ['192.168.200.0','192.168.220.0','192.182.200.0','192.174.200.0']\n",
    "\n",
    "ip_list = ['200.168.15.0','192.140.20.0','183.182.200.0','172.174.200.0']\n",
    "\n",
    "def aggregate_ip(ip_list):\n",
    "    ip_list_bits = []\n",
    "    for ip in ip_list:\n",
    "        ip_bits = [bin(int(byte))[2:] for byte in ip.split(\".\")]\n",
    "        ip_bits = [bits + \"0\"*(8-len(bits)) for bits in ip_bits]\n",
    "        ip_list_bits.append(\"\".join(ip_bits))\n",
    "    stop = False\n",
    "    longest = 0\n",
    "    for i in range(len(ip_list_bits[0])):\n",
    "        for j in range(1,len(ip_list_bits)):\n",
    "            if ip_list_bits[0][i] != ip_list_bits[j][i]:\n",
    "                stop = True\n",
    "                break\n",
    "            else:\n",
    "                longest += 1\n",
    "        if stop == True:\n",
    "            break\n",
    "    result_bits = ip_list_bits[0][:longest]\n",
    "    print(result_bits)\n",
    "    result_ip_list = []\n",
    "    counter = 0\n",
    "    while counter < 4:\n",
    "        current = result_bits[8*counter:8*(counter+1)]\n",
    "        print(c\n",
    "        counter +=1 \n",
    "        if len(current)> 0:\n",
    "            result_ip_list.append(int(current,2))\n",
    "        else:\n",
    "            result_ip_list.append(0)\n",
    "    print(result_ip_list)\n",
    "\n",
    "aggregate_ip(ip_list)\n",
    "        "
   ]
  },
  {
   "cell_type": "code",
   "execution_count": 4,
   "id": "8b1bac6d",
   "metadata": {},
   "outputs": [
    {
     "name": "stdout",
     "output_type": "stream",
     "text": [
      "10\n"
     ]
    }
   ],
   "source": [
    "a = 0\n",
    "stop = False\n",
    "for i in range(100):\n",
    "    for j in range(1000):\n",
    "        if a == 10:\n",
    "            print(a)\n",
    "            stop = True\n",
    "            break\n",
    "        else:\n",
    "            a += 1\n",
    "    if stop == True:\n",
    "        break"
   ]
  },
  {
   "cell_type": "code",
   "execution_count": 18,
   "id": "77b0994f",
   "metadata": {},
   "outputs": [
    {
     "name": "stdout",
     "output_type": "stream",
     "text": [
      "0 0\n",
      "0 1\n",
      "0 2\n",
      "0 3\n",
      "0 4\n",
      "1 0\n",
      "1 1\n",
      "1 2\n",
      "1 3\n",
      "1 4\n",
      "2 0\n",
      "2 1\n",
      "2 2\n"
     ]
    }
   ],
   "source": [
    "for i in range(5):\n",
    "    for j in range(5):\n",
    "        if i == 2 and j == 3:\n",
    "            break  # Break out of the inner loop only\n",
    "        print(i, j)\n",
    "    else:\n",
    "        continue  # Continue if the inner loop wasn't broken\n",
    "    break  # Break out of both loops\n"
   ]
  },
  {
   "cell_type": "code",
   "execution_count": 11,
   "id": "7d0675eb",
   "metadata": {},
   "outputs": [
    {
     "name": "stdout",
     "output_type": "stream",
     "text": [
      "15\n"
     ]
    }
   ],
   "source": [
    "print(int(\"1111\",2))"
   ]
  },
  {
   "cell_type": "code",
   "execution_count": 14,
   "id": "80a9638e",
   "metadata": {},
   "outputs": [
    {
     "ename": "SyntaxError",
     "evalue": "invalid syntax (664856945.py, line 4)",
     "output_type": "error",
     "traceback": [
      "\u001b[0;36m  File \u001b[0;32m\"/var/folders/55/grjl95j95bd8qg9ps99471bc0000gn/T/ipykernel_78763/664856945.py\"\u001b[0;36m, line \u001b[0;32m4\u001b[0m\n\u001b[0;31m    print(sorted_list)\u001b[0m\n\u001b[0m        ^\u001b[0m\n\u001b[0;31mSyntaxError\u001b[0m\u001b[0;31m:\u001b[0m invalid syntax\n"
     ]
    }
   ],
   "source": [
    "mylist = [{\"name\":\"tome\",\"age\":20},{\"name\":\"Mary\",\"age\":25},{\"name\":\"John\",\"age\":30},{\"name\":\"mike\",\"age\":5}]\n",
    "print(mylist)\n",
    "sorted_list = sorted(mylist,key=lambda x: (x[\"name\"])\n",
    "print(sorted_list)\n",
    "            "
   ]
  },
  {
   "cell_type": "code",
   "execution_count": 16,
   "id": "b291d43d",
   "metadata": {},
   "outputs": [
    {
     "name": "stdout",
     "output_type": "stream",
     "text": [
      "Do you want to continue to show switch poe inline(Y/N)?:y\n",
      "Do you want to continue to show switch poe inline(Y/N)?:y\n",
      "Do you want to continue to show switch poe inline(Y/N)?:Y\n",
      "Do you want to continue to show switch poe inline(Y/N)?:n\n"
     ]
    }
   ],
   "source": [
    "\t\twhile True:\n",
    "\t\t\tkeyin = input(\"Do you want to continue to show switch poe inline(Y/N)?:\")\n",
    "\t\t\tif keyin.upper() == \"Y\":\n",
    "\t\t\t\tcontinue\n",
    "\t\t\telif keyin.upper() == \"N\":\n",
    "\t\t\t\tbreak\n",
    "\t\t\telse:\n",
    "\t\t\t\tcontinue"
   ]
  },
  {
   "cell_type": "code",
   "execution_count": null,
   "id": "42276880",
   "metadata": {},
   "outputs": [],
   "source": []
  }
 ],
 "metadata": {
  "kernelspec": {
   "display_name": "Python 3 (ipykernel)",
   "language": "python",
   "name": "python3"
  },
  "language_info": {
   "codemirror_mode": {
    "name": "ipython",
    "version": 3
   },
   "file_extension": ".py",
   "mimetype": "text/x-python",
   "name": "python",
   "nbconvert_exporter": "python",
   "pygments_lexer": "ipython3",
   "version": "3.7.2"
  }
 },
 "nbformat": 4,
 "nbformat_minor": 5
}
