{
 "cells": [
  {
   "cell_type": "code",
   "execution_count": 9,
   "id": "6f6d5623",
   "metadata": {},
   "outputs": [
    {
     "name": "stdout",
     "output_type": "stream",
     "text": [
      "edcba\n"
     ]
    }
   ],
   "source": [
    "s = \"abcde\"\n",
    "ss = ''.join(reversed(s))\n",
    "print(ss)"
   ]
  },
  {
   "cell_type": "code",
   "execution_count": 10,
   "id": "04a93e9a",
   "metadata": {},
   "outputs": [
    {
     "name": "stdout",
     "output_type": "stream",
     "text": [
      "[1, 2, 5, -3]\n",
      "[1, -1, 5]\n",
      "[1, -1, 8, -3]\n",
      "[5]\n",
      "[8, -3]\n"
     ]
    }
   ],
   "source": [
    "a = [1,2,-1,5,10,22,5,8,-3]\n",
    "Y=5\n",
    "\n",
    "# size == 1: [1] [2] [-1] [5] [10] [22] [5] [8] [-3]\n",
    "# size ==2:  [1,2] [1,-1] [1,5] [1,10] [1,22] ....\n",
    "#            [2,-1] [2,5] [2,10] [2,22] [2,5]....\n",
    "# size ==3: \n",
    "\n",
    "array = [1,2,-1,5,10,22,8,-3]\n",
    "\n",
    "def sublist(array):\n",
    "    if len(array) == 0:\n",
    "        return [[]]\n",
    "    final = []\n",
    "    first = array[0]\n",
    "    rest = array[1:]\n",
    "    temp = sublist(rest)\n",
    "    for i in temp:\n",
    "        final.append([first] + i)\n",
    "    final.extend(temp)\n",
    "    return final\n",
    "\n",
    "subs = sublist(array)\n",
    "for sub in subs:\n",
    "    if sum(sub) == 5:\n",
    "        print(sub)  "
   ]
  },
  {
   "cell_type": "code",
   "execution_count": 13,
   "id": "6b183360",
   "metadata": {},
   "outputs": [
    {
     "name": "stdout",
     "output_type": "stream",
     "text": [
      "[['a', 'b', 'c', 'd', 'e', 'f', 'g'], ['a', 'b', 'c', 'd', 'e', 'f'], ['a', 'b', 'c', 'd', 'e', 'g'], ['a', 'b', 'c', 'd', 'e'], ['a', 'b', 'c', 'd', 'f', 'g'], ['a', 'b', 'c', 'd', 'f'], ['a', 'b', 'c', 'd', 'g'], ['a', 'b', 'c', 'd'], ['a', 'b', 'c', 'e', 'f', 'g'], ['a', 'b', 'c', 'e', 'f'], ['a', 'b', 'c', 'e', 'g'], ['a', 'b', 'c', 'e'], ['a', 'b', 'c', 'f', 'g'], ['a', 'b', 'c', 'f'], ['a', 'b', 'c', 'g'], ['a', 'b', 'c'], ['a', 'b', 'd', 'e', 'f', 'g'], ['a', 'b', 'd', 'e', 'f'], ['a', 'b', 'd', 'e', 'g'], ['a', 'b', 'd', 'e'], ['a', 'b', 'd', 'f', 'g'], ['a', 'b', 'd', 'f'], ['a', 'b', 'd', 'g'], ['a', 'b', 'd'], ['a', 'b', 'e', 'f', 'g'], ['a', 'b', 'e', 'f'], ['a', 'b', 'e', 'g'], ['a', 'b', 'e'], ['a', 'b', 'f', 'g'], ['a', 'b', 'f'], ['a', 'b', 'g'], ['a', 'b'], ['a', 'c', 'd', 'e', 'f', 'g'], ['a', 'c', 'd', 'e', 'f'], ['a', 'c', 'd', 'e', 'g'], ['a', 'c', 'd', 'e'], ['a', 'c', 'd', 'f', 'g'], ['a', 'c', 'd', 'f'], ['a', 'c', 'd', 'g'], ['a', 'c', 'd'], ['a', 'c', 'e', 'f', 'g'], ['a', 'c', 'e', 'f'], ['a', 'c', 'e', 'g'], ['a', 'c', 'e'], ['a', 'c', 'f', 'g'], ['a', 'c', 'f'], ['a', 'c', 'g'], ['a', 'c'], ['a', 'd', 'e', 'f', 'g'], ['a', 'd', 'e', 'f'], ['a', 'd', 'e', 'g'], ['a', 'd', 'e'], ['a', 'd', 'f', 'g'], ['a', 'd', 'f'], ['a', 'd', 'g'], ['a', 'd'], ['a', 'e', 'f', 'g'], ['a', 'e', 'f'], ['a', 'e', 'g'], ['a', 'e'], ['a', 'f', 'g'], ['a', 'f'], ['a', 'g'], ['a'], ['b', 'c', 'd', 'e', 'f', 'g'], ['b', 'c', 'd', 'e', 'f'], ['b', 'c', 'd', 'e', 'g'], ['b', 'c', 'd', 'e'], ['b', 'c', 'd', 'f', 'g'], ['b', 'c', 'd', 'f'], ['b', 'c', 'd', 'g'], ['b', 'c', 'd'], ['b', 'c', 'e', 'f', 'g'], ['b', 'c', 'e', 'f'], ['b', 'c', 'e', 'g'], ['b', 'c', 'e'], ['b', 'c', 'f', 'g'], ['b', 'c', 'f'], ['b', 'c', 'g'], ['b', 'c'], ['b', 'd', 'e', 'f', 'g'], ['b', 'd', 'e', 'f'], ['b', 'd', 'e', 'g'], ['b', 'd', 'e'], ['b', 'd', 'f', 'g'], ['b', 'd', 'f'], ['b', 'd', 'g'], ['b', 'd'], ['b', 'e', 'f', 'g'], ['b', 'e', 'f'], ['b', 'e', 'g'], ['b', 'e'], ['b', 'f', 'g'], ['b', 'f'], ['b', 'g'], ['b'], ['c', 'd', 'e', 'f', 'g'], ['c', 'd', 'e', 'f'], ['c', 'd', 'e', 'g'], ['c', 'd', 'e'], ['c', 'd', 'f', 'g'], ['c', 'd', 'f'], ['c', 'd', 'g'], ['c', 'd'], ['c', 'e', 'f', 'g'], ['c', 'e', 'f'], ['c', 'e', 'g'], ['c', 'e'], ['c', 'f', 'g'], ['c', 'f'], ['c', 'g'], ['c'], ['d', 'e', 'f', 'g'], ['d', 'e', 'f'], ['d', 'e', 'g'], ['d', 'e'], ['d', 'f', 'g'], ['d', 'f'], ['d', 'g'], ['d'], ['e', 'f', 'g'], ['e', 'f'], ['e', 'g'], ['e'], ['f', 'g'], ['f'], ['g'], []]\n"
     ]
    }
   ],
   "source": [
    "A = \"abcdefg\"\n",
    "\n",
    "def subsets(array):\n",
    "    if len(array) == 0:\n",
    "        return [[]]\n",
    "    final = []\n",
    "    first = array[0]\n",
    "    rest = array[1:]\n",
    "    temp = subsets(rest)\n",
    "    for i in temp:\n",
    "        final.append([first] + i)\n",
    "    final.extend(temp)\n",
    "    return final\n",
    "subs = sublist(A)\n",
    "print(subs)"
   ]
  },
  {
   "cell_type": "code",
   "execution_count": null,
   "id": "4367c167",
   "metadata": {},
   "outputs": [],
   "source": []
  }
 ],
 "metadata": {
  "kernelspec": {
   "display_name": "Python 3 (ipykernel)",
   "language": "python",
   "name": "python3"
  },
  "language_info": {
   "codemirror_mode": {
    "name": "ipython",
    "version": 3
   },
   "file_extension": ".py",
   "mimetype": "text/x-python",
   "name": "python",
   "nbconvert_exporter": "python",
   "pygments_lexer": "ipython3",
   "version": "3.7.2"
  }
 },
 "nbformat": 4,
 "nbformat_minor": 5
}
