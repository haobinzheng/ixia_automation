{
 "cells": [
  {
   "cell_type": "code",
   "execution_count": 53,
   "id": "c6b52068",
   "metadata": {
    "scrolled": true
   },
   "outputs": [
    {
     "name": "stdout",
     "output_type": "stream",
     "text": [
      "fsdafdafdfd\n",
      "sffffddddaa\n",
      "fsdafdafdfd dfdfadfadsf\n",
      "da\n",
      "dafdafd\n"
     ]
    }
   ],
   "source": [
    "#String manupilation\n",
    "s = \"dfdfadfadsf\"\n",
    "ss = ''.join(reversed(s))\n",
    "print(ss)\n",
    "\n",
    "print(''.join(sorted(s,reverse=True)))\n",
    "print(s[::-1],s)\n",
    "print(s[-3:-5:-1])\n",
    "print(s[-3:1:-1])"
   ]
  },
  {
   "cell_type": "code",
   "execution_count": 42,
   "id": "fb92de0d",
   "metadata": {},
   "outputs": [
    {
     "name": "stdout",
     "output_type": "stream",
     "text": [
      "First recurrence: Z\n"
     ]
    }
   ],
   "source": [
    "s = \"ZEqZAZYABACBCB\" #A is the first recurrence\n",
    "import heapq\n",
    "\n",
    "s = \"ZEqZAZYABACBCB\"\n",
    "\n",
    "seen = set()\n",
    "for c in s:\n",
    "    if c in seen:\n",
    "        print(\"First recurrence:\", c)\n",
    "        break\n",
    "    seen.add(c)\n",
    "\n"
   ]
  },
  {
   "cell_type": "code",
   "execution_count": 84,
   "id": "6b831356",
   "metadata": {},
   "outputs": [
    {
     "name": "stdout",
     "output_type": "stream",
     "text": [
      "11111\n",
      "31\n",
      "[255, 255, 255, 254]\n",
      "255.255.255.254\n"
     ]
    }
   ],
   "source": [
    "s = '1' *5\n",
    "print(s)\n",
    "print(int(s,2))\n",
    "final = []\n",
    "def ipmask(num):\n",
    "    if num > 32 or num < 0:\n",
    "        print(\"input number is invalid, return error\")\n",
    "        return False\n",
    "    final = []\n",
    "    if num <=8: \n",
    "        final.append(int(\"1\"*num +\"0\"*(8-num),2))\n",
    "        return final\n",
    "    num -= 8\n",
    "    final = ipmask(num)\n",
    "    final.insert(0,int(\"1\" * 8,2))\n",
    "    return final\n",
    "\n",
    "final = []\n",
    "result = ipmask(31)\n",
    "print(result)\n",
    "mask = '.'.join(map(str,result))\n",
    "print(mask)"
   ]
  },
  {
   "cell_type": "code",
   "execution_count": 38,
   "id": "1ef5a2eb",
   "metadata": {},
   "outputs": [
    {
     "name": "stdout",
     "output_type": "stream",
     "text": [
      "[1, 1, 2, 3, 3, 4, 5, 5, 5, 6, 9]\n",
      "[5, 4, 3, 2, 1]\n",
      "[1, 3, 4]\n",
      "1\n",
      "3\n",
      "5\n",
      "[1, 2, 3]\n",
      "[4, 5]\n",
      "[1, 5]\n",
      "[4]\n",
      "[2, 3, 4]\n",
      "[2, 4]\n"
     ]
    }
   ],
   "source": [
    "#list manipulation\n",
    "my_list = [3, 1, 4, 1, 5, 9, 2, 6, 5, 3, 5]\n",
    "my_list.sort()\n",
    "print(my_list)   # Output: [1, 1, 2, 3, 3, 4, 5, 5, 5, 6, 9]\n",
    "my_list = [1, 2, 3, 4, 5]\n",
    "my_list.reverse()\n",
    "print(my_list)   # Output: [5, 4, 3, 2, 1]\n",
    "\n",
    "my_list = [1, 2, 3, 4]\n",
    "my_list.remove(2)\n",
    "print(my_list)   # Output: [1, 3, 4]\n",
    "\n",
    "my_list = [1, 2, 3, 4, 5]\n",
    "\n",
    "# iterate through the list in reverse order\n",
    "for i in my_list[::2]:\n",
    "    print(i)\n",
    "\n",
    "print(my_list[:3])\n",
    "print(my_list[3:])\n",
    "\n",
    "a = [1, 2, 3, 4, 5]\n",
    "first_and_last_a = a[::len(a)-1]\n",
    "print(first_and_last_a)   # Output: [1, 5]\n",
    "\n",
    "a = [1, 2, 3, 4, 5]\n",
    "second_to_last_a = a[-2:-1]\n",
    "print(second_to_last_a)   # Output: [4]\n",
    "print(a[1:4])\n",
    "print(a[1:4:2])"
   ]
  },
  {
   "cell_type": "code",
   "execution_count": 10,
   "id": "c5478be2",
   "metadata": {},
   "outputs": [
    {
     "name": "stdout",
     "output_type": "stream",
     "text": [
      "[1, 2, 5, -3]\n",
      "[1, -1, 5]\n",
      "[1, -1, 8, -3]\n",
      "[5]\n",
      "[8, -3]\n"
     ]
    }
   ],
   "source": [
    "#find out all subsets \n",
    "\n",
    "a = [1,2,-1,5,10,22,5,8,-3]\n",
    "Y=5\n",
    "\n",
    "# size == 1: [1] [2] [-1] [5] [10] [22] [5] [8] [-3]\n",
    "# size ==2:  [1,2] [1,-1] [1,5] [1,10] [1,22] ....\n",
    "#            [2,-1] [2,5] [2,10] [2,22] [2,5]....\n",
    "# size ==3: \n",
    "\n",
    "array = [1,2,-1,5,10,22,8,-3]\n",
    "\n",
    "def sublist(array):\n",
    "    if len(array) == 0:\n",
    "        return [[]]\n",
    "    final = []\n",
    "    first = array[0]\n",
    "    rest = array[1:]\n",
    "    temp = sublist(rest)\n",
    "    for i in temp:\n",
    "        final.append([first] + i)\n",
    "    final.extend(temp)\n",
    "    return final\n",
    "\n",
    "subs = sublist(array)\n",
    "for sub in subs:\n",
    "    if sum(sub) == 5:\n",
    "        print(sub)  "
   ]
  },
  {
   "cell_type": "code",
   "execution_count": 13,
   "id": "3d358178",
   "metadata": {},
   "outputs": [
    {
     "name": "stdout",
     "output_type": "stream",
     "text": [
      "[['a', 'b', 'c', 'd', 'e', 'f', 'g'], ['a', 'b', 'c', 'd', 'e', 'f'], ['a', 'b', 'c', 'd', 'e', 'g'], ['a', 'b', 'c', 'd', 'e'], ['a', 'b', 'c', 'd', 'f', 'g'], ['a', 'b', 'c', 'd', 'f'], ['a', 'b', 'c', 'd', 'g'], ['a', 'b', 'c', 'd'], ['a', 'b', 'c', 'e', 'f', 'g'], ['a', 'b', 'c', 'e', 'f'], ['a', 'b', 'c', 'e', 'g'], ['a', 'b', 'c', 'e'], ['a', 'b', 'c', 'f', 'g'], ['a', 'b', 'c', 'f'], ['a', 'b', 'c', 'g'], ['a', 'b', 'c'], ['a', 'b', 'd', 'e', 'f', 'g'], ['a', 'b', 'd', 'e', 'f'], ['a', 'b', 'd', 'e', 'g'], ['a', 'b', 'd', 'e'], ['a', 'b', 'd', 'f', 'g'], ['a', 'b', 'd', 'f'], ['a', 'b', 'd', 'g'], ['a', 'b', 'd'], ['a', 'b', 'e', 'f', 'g'], ['a', 'b', 'e', 'f'], ['a', 'b', 'e', 'g'], ['a', 'b', 'e'], ['a', 'b', 'f', 'g'], ['a', 'b', 'f'], ['a', 'b', 'g'], ['a', 'b'], ['a', 'c', 'd', 'e', 'f', 'g'], ['a', 'c', 'd', 'e', 'f'], ['a', 'c', 'd', 'e', 'g'], ['a', 'c', 'd', 'e'], ['a', 'c', 'd', 'f', 'g'], ['a', 'c', 'd', 'f'], ['a', 'c', 'd', 'g'], ['a', 'c', 'd'], ['a', 'c', 'e', 'f', 'g'], ['a', 'c', 'e', 'f'], ['a', 'c', 'e', 'g'], ['a', 'c', 'e'], ['a', 'c', 'f', 'g'], ['a', 'c', 'f'], ['a', 'c', 'g'], ['a', 'c'], ['a', 'd', 'e', 'f', 'g'], ['a', 'd', 'e', 'f'], ['a', 'd', 'e', 'g'], ['a', 'd', 'e'], ['a', 'd', 'f', 'g'], ['a', 'd', 'f'], ['a', 'd', 'g'], ['a', 'd'], ['a', 'e', 'f', 'g'], ['a', 'e', 'f'], ['a', 'e', 'g'], ['a', 'e'], ['a', 'f', 'g'], ['a', 'f'], ['a', 'g'], ['a'], ['b', 'c', 'd', 'e', 'f', 'g'], ['b', 'c', 'd', 'e', 'f'], ['b', 'c', 'd', 'e', 'g'], ['b', 'c', 'd', 'e'], ['b', 'c', 'd', 'f', 'g'], ['b', 'c', 'd', 'f'], ['b', 'c', 'd', 'g'], ['b', 'c', 'd'], ['b', 'c', 'e', 'f', 'g'], ['b', 'c', 'e', 'f'], ['b', 'c', 'e', 'g'], ['b', 'c', 'e'], ['b', 'c', 'f', 'g'], ['b', 'c', 'f'], ['b', 'c', 'g'], ['b', 'c'], ['b', 'd', 'e', 'f', 'g'], ['b', 'd', 'e', 'f'], ['b', 'd', 'e', 'g'], ['b', 'd', 'e'], ['b', 'd', 'f', 'g'], ['b', 'd', 'f'], ['b', 'd', 'g'], ['b', 'd'], ['b', 'e', 'f', 'g'], ['b', 'e', 'f'], ['b', 'e', 'g'], ['b', 'e'], ['b', 'f', 'g'], ['b', 'f'], ['b', 'g'], ['b'], ['c', 'd', 'e', 'f', 'g'], ['c', 'd', 'e', 'f'], ['c', 'd', 'e', 'g'], ['c', 'd', 'e'], ['c', 'd', 'f', 'g'], ['c', 'd', 'f'], ['c', 'd', 'g'], ['c', 'd'], ['c', 'e', 'f', 'g'], ['c', 'e', 'f'], ['c', 'e', 'g'], ['c', 'e'], ['c', 'f', 'g'], ['c', 'f'], ['c', 'g'], ['c'], ['d', 'e', 'f', 'g'], ['d', 'e', 'f'], ['d', 'e', 'g'], ['d', 'e'], ['d', 'f', 'g'], ['d', 'f'], ['d', 'g'], ['d'], ['e', 'f', 'g'], ['e', 'f'], ['e', 'g'], ['e'], ['f', 'g'], ['f'], ['g'], []]\n"
     ]
    }
   ],
   "source": [
    "#find out all subsets \n",
    "A = \"abcdefg\"\n",
    "\n",
    "def subsets(array):\n",
    "    if len(array) == 0:\n",
    "        return [[]]\n",
    "    final = []\n",
    "    first = array[0]\n",
    "    rest = array[1:]\n",
    "    temp = subsets(rest)\n",
    "    for i in temp:\n",
    "        final.append([first] + i)\n",
    "    final.extend(temp)\n",
    "    return final\n",
    "subs = sublist(A)\n",
    "print(subs)"
   ]
  },
  {
   "cell_type": "code",
   "execution_count": 13,
   "id": "b96dc8d5",
   "metadata": {},
   "outputs": [
    {
     "name": "stdout",
     "output_type": "stream",
     "text": [
      "['CHUNK', 'CORPORATE_EVENTS', 'FUNDAMENTALS_OPTIONS', 'FUNDAMENTALS_TIME_ARGS', 'INTERVALS', 'MODULES', 'PERIODS', '_CONFIG', '_FUND_DETAILS', '_MODULES_DICT', '_STYLE_BOX', '_VIZ_CONFIG', '__class__', '__delattr__', '__dict__', '__dir__', '__doc__', '__eq__', '__format__', '__ge__', '__getattribute__', '__gt__', '__hash__', '__init__', '__init_subclass__', '__le__', '__lt__', '__module__', '__ne__', '__new__', '__reduce__', '__reduce_ex__', '__repr__', '__setattr__', '__sizeof__', '__str__', '__subclasshook__', '__weakref__', '_adjust_ohlc', '_async_requests', '_chunk_symbols', '_construct_data', '_construct_params', '_construct_urls', '_country', '_default_query_params', '_financials', '_financials_dataframes', '_format_data', '_fund_holdings', '_get_data', '_get_symbol', '_historical_data_to_dataframe', '_history_1m', '_option_dataframe', '_quote_summary', '_quote_summary_dataframe', '_symbols', '_sync_requests', '_to_dataframe', '_validate_response', 'all_financial_data', 'all_modules', 'asset_profile', 'balance_sheet', 'calendar_events', 'cash_flow', 'company_officers', 'corporate_events', 'corporate_guidance', 'country', 'crumb', 'default_query_params', 'dividend_history', 'earning_history', 'earnings', 'earnings_trend', 'esg_scores', 'financial_data', 'formatted', 'fund_bond_holdings', 'fund_bond_ratings', 'fund_category_holdings', 'fund_equity_holdings', 'fund_holding_info', 'fund_ownership', 'fund_performance', 'fund_profile', 'fund_sector_weightings', 'fund_top_holdings', 'get_financial_data', 'get_modules', 'grading_history', 'history', 'income_statement', 'index_trend', 'industry_trend', 'insider_holders', 'insider_transactions', 'institution_ownership', 'invalid_symbols', 'key_stats', 'login', 'major_holders', 'news', 'option_chain', 'p_all_financial_data', 'p_balance_sheet', 'p_cash_flow', 'p_company_360', 'p_corporate_events', 'p_fair_value', 'p_get_financial_data', 'p_ideas', 'p_income_statement', 'p_portal', 'p_reports', 'p_technical_events', 'p_technical_insights', 'p_valuation_measures', 'p_value_analyzer', 'p_value_analyzer_drilldown', 'page_views', 'price', 'progress', 'quote_type', 'quotes', 'recommendation_trend', 'recommendations', 'sec_filings', 'session', 'share_purchase_activity', 'summary_detail', 'summary_profile', 'symbols', 'technical_insights', 'validation', 'valuation_measures']\n",
      "{'MSFT': {'maxAge': 86400, 'currentPrice': 261.93, 'targetHighPrice': 348.0, 'targetLowPrice': 212.0, 'targetMeanPrice': 285.89, 'targetMedianPrice': 285.0, 'recommendationMean': 1.9, 'recommendationKey': 'buy', 'numberOfAnalystOpinions': 45, 'totalCash': 99495002112, 'totalCashPerShare': 13.366, 'ebitda': 97945001984, 'totalDebt': 77984997376, 'quickRatio': 1.656, 'currentRatio': 1.931, 'totalRevenue': 204093997056, 'debtToEquity': 42.583, 'revenuePerShare': 27.327, 'returnOnAssets': 0.14826, 'returnOnEquity': 0.39312, 'grossProfits': 135620000000, 'freeCashflow': 44613373952, 'operatingCashflow': 84385996800, 'earningsGrowth': -0.113, 'revenueGrowth': 0.02, 'grossMargins': 0.68160003, 'ebitdaMargins': 0.4799, 'operatingMargins': 0.40969002, 'profitMargins': 0.33048, 'financialCurrency': 'USD'}}\n"
     ]
    }
   ],
   "source": [
    "from yahooquery import Ticker\n",
    "\n",
    "msft = Ticker('MSFT')\n",
    "print(dir(msft))\n",
    "#print(msft.quotes['MSFT'])\n",
    "print(msft.financial_data)\n"
   ]
  },
  {
   "cell_type": "code",
   "execution_count": 14,
   "id": "a915b640",
   "metadata": {},
   "outputs": [
    {
     "name": "stdout",
     "output_type": "stream",
     "text": [
      "['advertising_agencies', 'aerospace_defense', 'aggressive_small_caps', 'agricultural_inputs', 'airlines', 'airports_air_services', 'all_cryptocurrencies_au', 'all_cryptocurrencies_ca', 'all_cryptocurrencies_eu', 'all_cryptocurrencies_gb', 'all_cryptocurrencies_in', 'all_cryptocurrencies_us', 'aluminum', 'analyst_strong_buy_stocks', 'apparel_manufacturing', 'apparel_retail', 'asset_management', 'auto_manufacturers', 'auto_parts', 'auto_truck_dealerships', 'banks_diversified', 'banks_regional', 'bearish_stocks_right_now', 'best_hist_performance_etfs', 'best_hist_performance_etfs_asia', 'best_hist_performance_etfs_europe', 'best_hist_performance_mutual_funds', 'best_hist_performance_mutual_funds_asia', 'best_hist_performance_mutual_funds_europe', 'beverages_brewers', 'beverages_non_alcoholic', 'beverages_wineries_distilleries', 'biotechnology', 'bond_etfs', 'bond_mutual_funds', 'bond_mutual_funds_asia', 'bond_mutual_funds_europe', 'broadcasting', 'building_materials', 'building_products_equipment', 'bullish_stocks_right_now', 'business_equipment_supplies', 'capital_markets', 'cheapest_etfs', 'cheapest_etfs_asia', 'cheapest_etfs_europe', 'cheapest_mutual_funds', 'cheapest_mutual_funds_asia', 'cheapest_mutual_funds_europe', 'chemicals', 'coking_coal', 'commodity_etfs', 'commodity_etfs_asia', 'commodity_etfs_europe', 'commodity_mutual_funds', 'communication_equipment', 'community_sentiment_most_bearish', 'community_sentiment_most_bullish', 'computer_hardware', 'confectioners', 'conglomerates', 'conservative_foreign_funds', 'consulting_services', 'consumer_electronics', 'copper', 'credit_services', 'day_gainers', 'day_gainers_americas', 'day_gainers_asia', 'day_gainers_au', 'day_gainers_br', 'day_gainers_ca', 'day_gainers_cryptocurrencies', 'day_gainers_de', 'day_gainers_dji', 'day_gainers_es', 'day_gainers_etfs', 'day_gainers_etfs_asia', 'day_gainers_etfs_europe', 'day_gainers_europe', 'day_gainers_fr', 'day_gainers_gb', 'day_gainers_hk', 'day_gainers_in', 'day_gainers_it', 'day_gainers_mutual_funds', 'day_gainers_mutual_funds_asia', 'day_gainers_mutual_funds_europe', 'day_gainers_ndx', 'day_gainers_nz', 'day_gainers_options', 'day_gainers_sg', 'day_losers', 'day_losers_americas', 'day_losers_asia', 'day_losers_au', 'day_losers_br', 'day_losers_ca', 'day_losers_cryptocurrencies', 'day_losers_de', 'day_losers_dji', 'day_losers_es', 'day_losers_etfs', 'day_losers_etfs_asia', 'day_losers_etfs_europe', 'day_losers_europe', 'day_losers_fr', 'day_losers_gb', 'day_losers_hk', 'day_losers_in', 'day_losers_it', 'day_losers_mutual_funds', 'day_losers_mutual_funds_asia', 'day_losers_mutual_funds_europe', 'day_losers_ndx', 'day_losers_nz', 'day_losers_options', 'day_losers_sg', 'department_stores', 'diagnostics_research', 'discount_stores', 'drug_manufacturers_general', 'drug_manufacturers_specialty_generic', 'education_training_services', 'electrical_equipment_parts', 'electronic_components', 'electronic_gaming_multimedia', 'electronics_computer_distribution', 'engineering_construction', 'entertainment', 'equity_mutual_funds', 'farm_heavy_construction_machinery', 'farm_products', 'fifty_two_wk_gainers', 'fifty_two_wk_gainers_asia', 'fifty_two_wk_gainers_cryptocurrencies', 'fifty_two_wk_gainers_etfs', 'fifty_two_wk_gainers_etfs_asia', 'fifty_two_wk_gainers_etfs_europe', 'fifty_two_wk_gainers_europe', 'fifty_two_wk_gainers_mutual_funds', 'fifty_two_wk_gainers_mutual_funds_asia', 'fifty_two_wk_gainers_mutual_funds_europe', 'fifty_two_wk_losers', 'fifty_two_wk_losers_asia', 'fifty_two_wk_losers_cryptocurrencies', 'fifty_two_wk_losers_etfs', 'fifty_two_wk_losers_etfs_asia', 'fifty_two_wk_losers_etfs_europe', 'fifty_two_wk_losers_europe', 'fifty_two_wk_losers_mutual_funds', 'fifty_two_wk_losers_mutual_funds_asia', 'fifty_two_wk_losers_mutual_funds_europe', 'financial_conglomerates', 'financial_data_stock_exchanges', 'food_distribution', 'footwear_accessories', 'furnishings_fixtures_appliances', 'gambling', 'gold', 'grocery_stores', 'growth_technology_stocks', 'health_information_services', 'healthcare_plans', 'high_growth_large_etfs', 'high_growth_large_mutual_funds', 'high_yield_bond', 'high_yield_high_return', 'high_yield_high_return_asia', 'high_yield_high_return_europe', 'home_improvement_retail', 'household_personal_products', 'industrial_distribution', 'information_technology_services', 'infrastructure_operations', 'insurance_brokers', 'insurance_diversified', 'insurance_life', 'insurance_property_casualty', 'insurance_reinsurance', 'insurance_specialty', 'integrated_freight_logistics', 'internet_content_information', 'internet_retail', 'large_blend_etfs', 'large_blend_mutual_funds', 'largest_market_cap', 'largest_market_cap_asia', 'largest_market_cap_cryptocurrencies', 'largest_market_cap_europe', 'latest_analyst_upgraded_stocks', 'leisure', 'lodging', 'low_risk_mutual_funds', 'low_risk_mutual_funds_asia', 'low_risk_mutual_funds_europe', 'lumber_wood_production', 'luxury_goods', 'marine_shipping', 'medical_care_facilities', 'medical_devices', 'medical_distribution', 'medical_instruments_supplies', 'mega_cap_hc', 'metal_fabrication', 'morningstar_five_star_stocks', 'mortgage_finance', 'most_actives', 'most_actives_americas', 'most_actives_asia', 'most_actives_au', 'most_actives_br', 'most_actives_ca', 'most_actives_cn', 'most_actives_cryptocurrencies', 'most_actives_de', 'most_actives_dji', 'most_actives_es', 'most_actives_etfs', 'most_actives_etfs_asia', 'most_actives_etfs_europe', 'most_actives_europe', 'most_actives_fr', 'most_actives_gb', 'most_actives_hk', 'most_actives_in', 'most_actives_it', 'most_actives_ndx', 'most_actives_nz', 'most_actives_options', 'most_actives_sg', 'most_institutionally_bought_large_cap_stocks', 'most_institutionally_held_large_cap_stocks', 'most_institutionally_sold_large_cap_stocks', 'most_shorted_stocks', 'most_visited', 'most_visited_basic_materials', 'most_visited_communication_services', 'most_visited_consumer_cyclical', 'most_visited_consumer_defensive', 'most_visited_energy', 'most_visited_financial_services', 'most_visited_healthcare', 'most_visited_industrials', 'most_visited_real_estate', 'most_visited_technology', 'most_visited_utilities', 'most_watched_tickers', 'ms_basic_materials', 'ms_communication_services', 'ms_consumer_cyclical', 'ms_consumer_defensive', 'ms_energy', 'ms_financial_services', 'ms_healthcare', 'ms_industrials', 'ms_real_estate', 'ms_technology', 'ms_utilities', 'net_net_strategy', 'net_net_strategy_asia', 'net_net_strategy_europe', 'oil_gas_drilling', 'oil_gas_e_p', 'oil_gas_equipment_services', 'oil_gas_integrated', 'oil_gas_midstream', 'oil_gas_refining_marketing', 'other_industrial_metals_mining', 'other_precious_metals_mining', 'packaged_foods', 'packaging_containers', 'paper_paper_products', 'personal_services', 'pharmaceutical_retailers', 'pollution_treatment_controls', 'portfolio_actions_most_added', 'portfolio_actions_most_deleted', 'portfolio_anchors', 'precious_metal_etfs', 'precious_metal_mutual_funds', 'publishing', 'railroads', 'real_estate_development', 'real_estate_diversified', 'real_estate_services', 'recreational_vehicles', 'reit_diversified', 'reit_healthcare_facilities', 'reit_hotel_motel', 'reit_industrial', 'reit_mortgage', 'reit_office', 'reit_residential', 'reit_retail', 'reit_specialty', 'rental_leasing_services', 'residential_construction', 'resorts_casinos', 'restaurants', 'scientific_technical_instruments', 'security_protection_services', 'semiconductor_equipment_materials', 'semiconductors', 'shell_companies', 'silver', 'small_cap_gainers', 'software_application', 'software_infrastructure', 'solar', 'solid_large_growth_funds', 'solid_midcap_growth_funds', 'sp_500_etfs', 'sp_500_etfs_asia', 'sp_500_etfs_europe', 'specialty_business_services', 'specialty_chemicals', 'specialty_industrial_machinery', 'specialty_retail', 'staffing_employment_services', 'steel', 'stocks_most_bought_by_hedge_funds', 'stocks_most_bought_by_pension_fund', 'stocks_most_bought_by_private_equity', 'stocks_most_bought_by_sovereign_wealth_fund', 'stocks_with_most_institutional_buyers', 'stocks_with_most_institutional_sellers', 'strong_undervalued_stocks', 'technology_etfs', 'technology_mutual_funds', 'telecom_services', 'textile_manufacturing', 'the_acquirers_multiple', 'the_acquirers_multiple_asia', 'the_acquirers_multiple_europe', 'thermal_coal', 'tobacco', 'tools_accessories', 'top_energy_us', 'top_etfs', 'top_etfs_hk', 'top_etfs_in', 'top_etfs_us', 'top_mutual_funds', 'top_mutual_funds_au', 'top_mutual_funds_br', 'top_mutual_funds_ca', 'top_mutual_funds_de', 'top_mutual_funds_es', 'top_mutual_funds_fr', 'top_mutual_funds_gb', 'top_mutual_funds_hk', 'top_mutual_funds_in', 'top_mutual_funds_it', 'top_mutual_funds_nz', 'top_mutual_funds_sg', 'top_mutual_funds_us', 'top_options_implied_volatality', 'top_options_open_interest', 'top_performing_etfs', 'top_performing_etfs_asia', 'top_performing_etfs_europe', 'top_performing_mutual_funds', 'top_performing_mutual_funds_asia', 'top_performing_mutual_funds_europe', 'top_stocks_owned_by_cathie_wood', 'top_stocks_owned_by_goldman_sachs', 'top_stocks_owned_by_ray_dalio', 'top_stocks_owned_by_warren_buffet', 'travel_services', 'trucking', 'undervalued_growth_stocks', 'undervalued_large_caps', 'undervalued_wide_moat_stocks', 'upside_breakout_stocks_daily', 'uranium', 'utilities_diversified', 'utilities_independent_power_producers', 'utilities_regulated_electric', 'utilities_regulated_gas', 'utilities_regulated_water', 'utilities_renewable', 'waste_management']\n"
     ]
    },
    {
     "name": "stdout",
     "output_type": "stream",
     "text": [
      "[{'language': 'en-US', 'region': 'US', 'quoteType': 'EQUITY', 'typeDisp': 'Equity', 'quoteSourceName': 'Nasdaq Real Time Price', 'triggerable': False, 'customPriceAlertConfidence': 'LOW', 'currency': 'USD', 'trailingAnnualDividendYield': 0.0, 'marketState': 'REGULAR', 'epsTrailingTwelveMonths': -1.5, 'epsForward': 0.18, 'epsCurrentYear': -0.09, 'priceEpsCurrentYear': -491.23886, 'sharesOutstanding': 131330000, 'bookValue': 3.611, 'fiftyDayAverage': 42.5706, 'fiftyDayAverageChange': 1.6408997, 'fiftyDayAverageChangePercent': 0.038545374, 'twoHundredDayAverage': 36.0461, 'twoHundredDayAverageChange': 8.165398, 'twoHundredDayAverageChangePercent': 0.22652651, 'marketCap': 5806296064, 'forwardPE': 245.61943, 'priceToBook': 12.243561, 'sourceInterval': 15, 'exchangeDataDelayedBy': 0, 'exchangeTimezoneName': 'America/New_York', 'exchangeTimezoneShortName': 'EDT', 'gmtOffSetMilliseconds': -14400000, 'esgPopulated': False, 'tradeable': False, 'cryptoTradeable': False, 'exchange': 'NYQ', 'fiftyTwoWeekLow': 25.09, 'fiftyTwoWeekHigh': 58.22, 'shortName': 'Smartsheet Inc.', 'averageAnalystRating': '2.0 - Buy', 'regularMarketChangePercent': 15.374475, 'regularMarketDayLow': 41.94, 'regularMarketVolume': 4084534, 'regularMarketPreviousClose': 38.32, 'bid': 44.16, 'ask': 44.26, 'bidSize': 10, 'askSize': 13, 'market': 'us_market', 'messageBoardId': 'finmb_34978780', 'fullExchangeName': 'NYSE', 'longName': 'Smartsheet Inc.', 'financialCurrency': 'USD', 'regularMarketOpen': 43.28, 'averageDailyVolume3Month': 1299401, 'averageDailyVolume10Day': 1569300, 'fiftyTwoWeekLowChange': 19.121498, 'fiftyTwoWeekLowChangePercent': 0.7621163, 'fiftyTwoWeekRange': '25.09 - 58.22', 'fiftyTwoWeekHighChange': -14.008503, 'fiftyTwoWeekHighChangePercent': -0.24061324, 'earningsTimestamp': 1678825800, 'earningsTimestampStart': 1685962740, 'earningsTimestampEnd': 1686312000, 'trailingAnnualDividendRate': 0.0, 'firstTradeDateMilliseconds': 1524835800000, 'priceHint': 2, 'regularMarketChange': 5.8914986, 'regularMarketTime': 1678899630, 'regularMarketPrice': 44.2115, 'regularMarketDayHigh': 45.2616, 'regularMarketDayRange': '41.94 - 45.2616', 'displayName': 'Smartsheet', 'symbol': 'SMAR'}, {'language': 'en-US', 'region': 'US', 'quoteType': 'EQUITY', 'typeDisp': 'Equity', 'quoteSourceName': 'Nasdaq Real Time Price', 'triggerable': False, 'customPriceAlertConfidence': 'LOW', 'currency': 'USD', 'trailingAnnualDividendYield': 0.0, 'marketState': 'REGULAR', 'epsTrailingTwelveMonths': -1.07, 'epsForward': -0.03, 'epsCurrentYear': -0.5, 'priceEpsCurrentYear': -31.46, 'sharesOutstanding': 218931008, 'bookValue': 5.961, 'fiftyDayAverage': 15.1, 'fiftyDayAverageChange': 0.62999916, 'fiftyDayAverageChangePercent': 0.0417218, 'twoHundredDayAverage': 20.8122, 'twoHundredDayAverageChange': -5.082201, 'twoHundredDayAverageChangePercent': -0.24419335, 'marketCap': 4446524928, 'forwardPE': -524.3333, 'priceToBook': 2.638819, 'sourceInterval': 15, 'exchangeDataDelayedBy': 0, 'exchangeTimezoneName': 'America/New_York', 'exchangeTimezoneShortName': 'EDT', 'gmtOffSetMilliseconds': -14400000, 'ipoExpectedDate': '2021-06-30', 'esgPopulated': False, 'tradeable': False, 'cryptoTradeable': False, 'exchange': 'NYQ', 'fiftyTwoWeekLow': 12.69, 'fiftyTwoWeekHigh': 42.84, 'shortName': 'SentinelOne, Inc.', 'averageAnalystRating': '2.2 - Buy', 'regularMarketChangePercent': 8.707665, 'regularMarketDayLow': 15.2, 'regularMarketVolume': 8642700, 'regularMarketPreviousClose': 14.47, 'bid': 15.73, 'ask': 15.77, 'bidSize': 8, 'askSize': 9, 'market': 'us_market', 'messageBoardId': 'finmb_243722644', 'fullExchangeName': 'NYSE', 'longName': 'SentinelOne, Inc.', 'financialCurrency': 'USD', 'regularMarketOpen': 15.5, 'averageDailyVolume3Month': 5222754, 'averageDailyVolume10Day': 7617990, 'fiftyTwoWeekLowChange': 3.04, 'fiftyTwoWeekLowChangePercent': 0.23955871, 'fiftyTwoWeekRange': '12.69 - 42.84', 'fiftyTwoWeekHighChange': -27.11, 'fiftyTwoWeekHighChangePercent': -0.63281983, 'earningsTimestamp': 1678827600, 'earningsTimestampStart': 1678827600, 'earningsTimestampEnd': 1678827600, 'trailingAnnualDividendRate': 0.0, 'firstTradeDateMilliseconds': 1625059800000, 'priceHint': 2, 'regularMarketChange': 1.2599993, 'regularMarketTime': 1678899645, 'regularMarketPrice': 15.73, 'regularMarketDayHigh': 16.24, 'regularMarketDayRange': '15.2 - 16.24', 'symbol': 'S'}, {'language': 'en-US', 'region': 'US', 'quoteType': 'EQUITY', 'typeDisp': 'Equity', 'quoteSourceName': 'Nasdaq Real Time Price', 'triggerable': False, 'customPriceAlertConfidence': 'LOW', 'currency': 'USD', 'trailingAnnualDividendYield': 0.0, 'marketState': 'REGULAR', 'epsTrailingTwelveMonths': -1.72, 'epsForward': -1.35, 'epsCurrentYear': -1.66, 'priceEpsCurrentYear': -5.177711, 'sharesOutstanding': 758427008, 'bookValue': 1.315, 'fiftyDayAverage': 8.3656, 'fiftyDayAverageChange': 0.22940063, 'fiftyDayAverageChangePercent': 0.0274219, 'twoHundredDayAverage': 5.547125, 'twoHundredDayAverageChange': 3.0478754, 'twoHundredDayAverageChangePercent': 0.54945135, 'marketCap': 6518680576, 'forwardPE': -6.366667, 'priceToBook': 6.5361214, 'sourceInterval': 15, 'exchangeDataDelayedBy': 0, 'exchangeTimezoneName': 'America/New_York', 'exchangeTimezoneShortName': 'EDT', 'gmtOffSetMilliseconds': -14400000, 'ipoExpectedDate': '2021-10-01', 'esgPopulated': False, 'tradeable': False, 'cryptoTradeable': False, 'exchange': 'NGM', 'fiftyTwoWeekLow': 2.52, 'fiftyTwoWeekHigh': 10.0, 'shortName': 'Roivant Sciences Ltd.', 'averageAnalystRating': '1.7 - Buy', 'regularMarketChangePercent': 7.9773893, 'regularMarketDayLow': 7.8, 'regularMarketVolume': 4177632, 'regularMarketPreviousClose': 7.96, 'bid': 8.63, 'ask': 8.64, 'bidSize': 8, 'askSize': 8, 'market': 'us_market', 'messageBoardId': 'finmb_282015801', 'fullExchangeName': 'NasdaqGM', 'longName': 'Roivant Sciences Ltd.', 'financialCurrency': 'USD', 'regularMarketOpen': 8.2, 'averageDailyVolume3Month': 2415576, 'averageDailyVolume10Day': 1559290, 'fiftyTwoWeekLowChange': 6.0750003, 'fiftyTwoWeekLowChangePercent': 2.4107144, 'fiftyTwoWeekRange': '2.52 - 10.0', 'fiftyTwoWeekHighChange': -1.4049997, 'fiftyTwoWeekHighChangePercent': -0.14049998, 'earningsTimestamp': 1676293200, 'earningsTimestampStart': 1676293200, 'earningsTimestampEnd': 1676293200, 'trailingAnnualDividendRate': 0.0, 'firstTradeDateMilliseconds': 1607437800000, 'priceHint': 2, 'regularMarketChange': 0.6350002, 'regularMarketTime': 1678899640, 'regularMarketPrice': 8.595, 'regularMarketDayHigh': 8.9364, 'regularMarketDayRange': '7.8 - 8.9364', 'displayName': 'Roivant Sciences', 'symbol': 'ROIV'}, {'language': 'en-US', 'region': 'US', 'quoteType': 'EQUITY', 'typeDisp': 'Equity', 'quoteSourceName': 'Nasdaq Real Time Price', 'triggerable': False, 'customPriceAlertConfidence': 'LOW', 'currency': 'USD', 'trailingAnnualDividendYield': 0.10510047, 'marketState': 'REGULAR', 'epsTrailingTwelveMonths': 1.27, 'epsForward': 1.23, 'epsCurrentYear': 1.13, 'priceEpsCurrentYear': 6.026549, 'sharesOutstanding': 682900992, 'bookValue': 12.215, 'fiftyDayAverage': 9.1664, 'fiftyDayAverageChange': -2.3564, 'fiftyDayAverageChangePercent': -0.2570693, 'twoHundredDayAverage': 9.3085, 'twoHundredDayAverageChange': -2.4985003, 'twoHundredDayAverageChangePercent': -0.26841062, 'marketCap': 4650555904, 'forwardPE': 5.5365853, 'priceToBook': 0.55751127, 'sourceInterval': 15, 'exchangeDataDelayedBy': 0, 'exchangeTimezoneName': 'America/New_York', 'exchangeTimezoneShortName': 'EDT', 'gmtOffSetMilliseconds': -14400000, 'esgPopulated': False, 'tradeable': False, 'cryptoTradeable': False, 'exchange': 'NYQ', 'fiftyTwoWeekLow': 5.81, 'fiftyTwoWeekHigh': 11.37, 'shortName': 'New York Community Bancorp, Inc', 'averageAnalystRating': '2.4 - Buy', 'regularMarketChangePercent': 5.255026, 'regularMarketDayLow': 6.3, 'regularMarketVolume': 22104913, 'regularMarketPreviousClose': 6.47, 'bid': 6.82, 'ask': 6.83, 'bidSize': 9, 'askSize': 40, 'market': 'us_market', 'messageBoardId': 'finmb_334862', 'fullExchangeName': 'NYSE', 'longName': 'New York Community Bancorp, Inc.', 'financialCurrency': 'USD', 'regularMarketOpen': 6.43, 'averageDailyVolume3Month': 10212915, 'averageDailyVolume10Day': 20672900, 'fiftyTwoWeekLowChange': 1.0, 'fiftyTwoWeekLowChangePercent': 0.17211704, 'fiftyTwoWeekRange': '5.81 - 11.37', 'fiftyTwoWeekHighChange': -4.56, 'fiftyTwoWeekHighChangePercent': -0.4010554, 'dividendDate': 1676505600, 'earningsTimestamp': 1675171800, 'earningsTimestampStart': 1682425800, 'earningsTimestampEnd': 1682944200, 'trailingAnnualDividendRate': 0.68, 'trailingPE': 5.3622046, 'firstTradeDateMilliseconds': 754065000000, 'priceHint': 2, 'regularMarketChange': 0.34000015, 'regularMarketTime': 1678899644, 'regularMarketPrice': 6.81, 'regularMarketDayHigh': 6.945, 'regularMarketDayRange': '6.3 - 6.945', 'displayName': 'New York Community Bancorp', 'symbol': 'NYCB'}, {'language': 'en-US', 'region': 'US', 'quoteType': 'EQUITY', 'typeDisp': 'Equity', 'quoteSourceName': 'Delayed Quote', 'triggerable': False, 'customPriceAlertConfidence': 'LOW', 'currency': 'USD', 'trailingAnnualDividendYield': 0.0, 'marketState': 'REGULAR', 'epsTrailingTwelveMonths': 0.68, 'sharesOutstanding': 288315008, 'bookValue': 2.92, 'fiftyDayAverage': 14.2868, 'fiftyDayAverageChange': -1.0068007, 'fiftyDayAverageChangePercent': -0.07047069, 'twoHundredDayAverage': 12.3198, 'twoHundredDayAverageChange': 0.96019936, 'twoHundredDayAverageChangePercent': 0.077939525, 'marketCap': 3828823296, 'priceToBook': 4.547945, 'sourceInterval': 15, 'exchangeDataDelayedBy': 0, 'exchangeTimezoneName': 'America/New_York', 'exchangeTimezoneShortName': 'EDT', 'gmtOffSetMilliseconds': -14400000, 'esgPopulated': False, 'tradeable': False, 'cryptoTradeable': False, 'exchange': 'PNK', 'fiftyTwoWeekLow': 9.13, 'fiftyTwoWeekHigh': 15.25, 'shortName': 'SAMSONITE INTL SA UNSPON ADR EA', 'regularMarketChangePercent': 2.2324862, 'regularMarketDayLow': 13.21, 'regularMarketVolume': 38884, 'regularMarketPreviousClose': 12.99, 'bid': 0.0, 'ask': 0.0, 'bidSize': 0, 'askSize': 0, 'market': 'us_market', 'messageBoardId': 'finmb_34023', 'fullExchangeName': 'Other OTC', 'longName': 'Samsonite International S.A.', 'financialCurrency': 'USD', 'regularMarketOpen': 13.3, 'averageDailyVolume3Month': 17025, 'averageDailyVolume10Day': 12130, 'fiftyTwoWeekLowChange': 4.1499996, 'fiftyTwoWeekLowChangePercent': 0.4545454, 'fiftyTwoWeekRange': '9.13 - 15.25', 'fiftyTwoWeekHighChange': -1.9700003, 'fiftyTwoWeekHighChangePercent': -0.12918034, 'dividendDate': 1564531200, 'trailingAnnualDividendRate': 0.0, 'trailingPE': 19.529411, 'firstTradeDateMilliseconds': 1363613400000, 'priceHint': 2, 'regularMarketChange': 0.28999996, 'regularMarketTime': 1678898725, 'regularMarketPrice': 13.28, 'regularMarketDayHigh': 13.62, 'regularMarketDayRange': '13.21 - 13.62', 'displayName': 'Samsonite', 'symbol': 'SMSEY'}, {'language': 'en-US', 'region': 'US', 'quoteType': 'EQUITY', 'typeDisp': 'Equity', 'quoteSourceName': 'Nasdaq Real Time Price', 'triggerable': False, 'customPriceAlertConfidence': 'LOW', 'currency': 'USD', 'trailingAnnualDividendYield': 0.010413812, 'marketState': 'REGULAR', 'epsTrailingTwelveMonths': 2.72, 'epsForward': 3.76, 'epsCurrentYear': 3.29, 'priceEpsCurrentYear': 23.18237, 'sharesOutstanding': 930768000, 'bookValue': 41.79, 'fiftyDayAverage': 77.3238, 'fiftyDayAverageChange': -1.0538025, 'fiftyDayAverageChangePercent': -0.013628436, 'twoHundredDayAverage': 75.3559, 'twoHundredDayAverageChange': 0.914093, 'twoHundredDayAverageChangePercent': 0.012130343, 'marketCap': 70989668352, 'forwardPE': 20.284575, 'priceToBook': 1.8250777, 'sourceInterval': 15, 'exchangeDataDelayedBy': 0, 'exchangeTimezoneName': 'America/New_York', 'exchangeTimezoneShortName': 'EDT', 'gmtOffSetMilliseconds': -14400000, 'esgPopulated': False, 'tradeable': False, 'cryptoTradeable': False, 'exchange': 'NYQ', 'fiftyTwoWeekLow': 65.17, 'fiftyTwoWeekHigh': 84.22, 'shortName': 'Canadian Pacific Railway Limite', 'averageAnalystRating': '2.4 - Buy', 'regularMarketChangePercent': 4.508075, 'regularMarketDayLow': 75.75, 'regularMarketVolume': 5298214, 'regularMarketPreviousClose': 72.98, 'bid': 76.31, 'ask': 76.37, 'bidSize': 10, 'askSize': 10, 'market': 'us_market', 'messageBoardId': 'finmb_884393', 'fullExchangeName': 'NYSE', 'longName': 'Canadian Pacific Railway Limited', 'financialCurrency': 'CAD', 'regularMarketOpen': 77.55, 'averageDailyVolume3Month': 1806069, 'averageDailyVolume10Day': 2095430, 'fiftyTwoWeekLowChange': 11.099998, 'fiftyTwoWeekLowChangePercent': 0.17032374, 'fiftyTwoWeekRange': '65.17 - 84.22', 'fiftyTwoWeekHighChange': -7.9500046, 'fiftyTwoWeekHighChangePercent': -0.09439568, 'dividendDate': 1682294400, 'earningsTimestamp': 1675200600, 'earningsTimestampStart': 1682420340, 'earningsTimestampEnd': 1682942400, 'trailingAnnualDividendRate': 0.76, 'trailingPE': 28.04044, 'firstTradeDateMilliseconds': 441642600000, 'priceHint': 2, 'regularMarketChange': 3.2899933, 'regularMarketTime': 1678899638, 'regularMarketPrice': 76.27, 'regularMarketDayHigh': 78.5, 'regularMarketDayRange': '75.75 - 78.5', 'displayName': 'Canadian Pacific Railway', 'symbol': 'CP'}, {'language': 'en-US', 'region': 'US', 'quoteType': 'EQUITY', 'typeDisp': 'Equity', 'quoteSourceName': 'Nasdaq Real Time Price', 'triggerable': False, 'customPriceAlertConfidence': 'LOW', 'currency': 'USD', 'trailingAnnualDividendYield': 0.090909086, 'marketState': 'REGULAR', 'epsTrailingTwelveMonths': 2.18, 'epsForward': 1.64, 'epsCurrentYear': 1.58, 'priceEpsCurrentYear': 6.806962, 'sharesOutstanding': 373652000, 'bookValue': 1.279, 'fiftyDayAverage': 13.5768, 'fiftyDayAverageChange': -2.8218002, 'fiftyDayAverageChangePercent': -0.20783986, 'twoHundredDayAverage': 14.72235, 'twoHundredDayAverageChange': -3.96735, 'twoHundredDayAverageChangePercent': -0.26947802, 'marketCap': 4018627328, 'forwardPE': 6.557927, 'priceToBook': 8.408913, 'sourceInterval': 15, 'exchangeDataDelayedBy': 0, 'exchangeTimezoneName': 'America/New_York', 'exchangeTimezoneShortName': 'EDT', 'gmtOffSetMilliseconds': -14400000, 'esgPopulated': False, 'tradeable': False, 'cryptoTradeable': False, 'exchange': 'NYQ', 'fiftyTwoWeekLow': 10.07, 'fiftyTwoWeekHigh': 19.97, 'shortName': 'Western Union Company (The)', 'averageAnalystRating': '3.4 - Hold', 'regularMarketChangePercent': 4.0135393, 'regularMarketDayLow': 10.07, 'regularMarketVolume': 13069309, 'regularMarketPreviousClose': 10.34, 'bid': 10.79, 'ask': 10.79, 'bidSize': 40, 'askSize': 14, 'market': 'us_market', 'messageBoardId': 'finmb_909408', 'fullExchangeName': 'NYSE', 'longName': 'The Western Union Company', 'financialCurrency': 'USD', 'regularMarketOpen': 10.17, 'averageDailyVolume3Month': 7438772, 'averageDailyVolume10Day': 11801570, 'fiftyTwoWeekLowChange': 0.6850004, 'fiftyTwoWeekLowChangePercent': 0.068023875, 'fiftyTwoWeekRange': '10.07 - 19.97', 'fiftyTwoWeekHighChange': -9.214999, 'fiftyTwoWeekHighChangePercent': -0.46144214, 'dividendDate': 1680220800, 'earningsTimestamp': 1675805400, 'earningsTimestampStart': 1682506740, 'earningsTimestampEnd': 1682942400, 'trailingAnnualDividendRate': 0.94, 'trailingPE': 4.933486, 'firstTradeDateMilliseconds': 1159795800000, 'priceHint': 2, 'regularMarketChange': 0.41499996, 'regularMarketTime': 1678899646, 'regularMarketPrice': 10.755, 'regularMarketDayHigh': 10.94, 'regularMarketDayRange': '10.07 - 10.94', 'symbol': 'WU'}, {'language': 'en-US', 'region': 'US', 'quoteType': 'EQUITY', 'typeDisp': 'Equity', 'quoteSourceName': 'Delayed Quote', 'triggerable': False, 'customPriceAlertConfidence': 'LOW', 'currency': 'USD', 'trailingAnnualDividendYield': 0.010830325, 'marketState': 'REGULAR', 'epsTrailingTwelveMonths': -5.12, 'sharesOutstanding': 2932669952, 'bookValue': 6.369, 'fiftyDayAverage': 5.598, 'fiftyDayAverageChange': 0.16200018, 'fiftyDayAverageChangePercent': 0.028938938, 'twoHundredDayAverage': 5.13765, 'twoHundredDayAverageChange': 0.6223502, 'twoHundredDayAverageChangePercent': 0.12113519, 'marketCap': 16892179456, 'priceToBook': 0.9043806, 'sourceInterval': 15, 'exchangeDataDelayedBy': 0, 'exchangeTimezoneName': 'America/New_York', 'exchangeTimezoneShortName': 'EDT', 'gmtOffSetMilliseconds': -14400000, 'esgPopulated': False, 'tradeable': False, 'cryptoTradeable': False, 'exchange': 'PNK', 'fiftyTwoWeekLow': 4.26, 'fiftyTwoWeekHigh': 5.89, 'shortName': 'BOLLORE SE', 'regularMarketChangePercent': 3.9711242, 'regularMarketDayLow': 5.74, 'regularMarketVolume': 381815, 'regularMarketPreviousClose': 5.54, 'bid': 0.0, 'ask': 0.0, 'bidSize': 0, 'askSize': 0, 'market': 'us_market', 'messageBoardId': 'finmb_879501', 'fullExchangeName': 'Other OTC', 'longName': 'Bolloré SE', 'financialCurrency': 'EUR', 'regularMarketOpen': 5.8204, 'averageDailyVolume3Month': 45215, 'averageDailyVolume10Day': 56100, 'fiftyTwoWeekLowChange': 1.5, 'fiftyTwoWeekLowChangePercent': 0.35211265, 'fiftyTwoWeekRange': '4.26 - 5.89', 'fiftyTwoWeekHighChange': -0.12999964, 'fiftyTwoWeekHighChangePercent': -0.022071246, 'trailingAnnualDividendRate': 0.06, 'firstTradeDateMilliseconds': 1287149400000, 'priceHint': 2, 'regularMarketChange': 0.22000027, 'regularMarketTime': 1678898195, 'regularMarketPrice': 5.76, 'regularMarketDayHigh': 5.8792, 'regularMarketDayRange': '5.74 - 5.8792', 'symbol': 'BOIVF'}, {'language': 'en-US', 'region': 'US', 'quoteType': 'EQUITY', 'typeDisp': 'Equity', 'quoteSourceName': 'Nasdaq Real Time Price', 'triggerable': True, 'customPriceAlertConfidence': 'HIGH', 'currency': 'USD', 'trailingAnnualDividendYield': 0.0, 'marketState': 'REGULAR', 'epsTrailingTwelveMonths': -0.5, 'epsForward': 0.54, 'epsCurrentYear': 0.3, 'priceEpsCurrentYear': 44.166664, 'sharesOutstanding': 305240992, 'bookValue': 5.089, 'fiftyDayAverage': 12.7712, 'fiftyDayAverageChange': 0.47879982, 'fiftyDayAverageChangePercent': 0.037490588, 'twoHundredDayAverage': 21.8102, 'twoHundredDayAverageChange': -8.5602, 'twoHundredDayAverageChangePercent': -0.39248607, 'marketCap': 4987339776, 'forwardPE': 24.537037, 'priceToBook': 2.6036549, 'sourceInterval': 15, 'exchangeDataDelayedBy': 0, 'exchangeTimezoneName': 'America/New_York', 'exchangeTimezoneShortName': 'EDT', 'gmtOffSetMilliseconds': -14400000, 'ipoExpectedDate': '2021-04-15', 'esgPopulated': False, 'tradeable': False, 'cryptoTradeable': False, 'exchange': 'NMS', 'fiftyTwoWeekLow': 9.14, 'fiftyTwoWeekHigh': 58.27, 'shortName': 'Applovin Corporation', 'averageAnalystRating': '2.3 - Buy', 'regularMarketChangePercent': 3.758806, 'regularMarketDayLow': 12.36, 'regularMarketVolume': 1431493, 'regularMarketPreviousClose': 12.77, 'bid': 13.24, 'ask': 13.25, 'bidSize': 12, 'askSize': 12, 'market': 'us_market', 'messageBoardId': 'finmb_231651802', 'fullExchangeName': 'NasdaqGS', 'longName': 'AppLovin Corporation', 'financialCurrency': 'USD', 'regularMarketOpen': 12.4, 'averageDailyVolume3Month': 3085511, 'averageDailyVolume10Day': 1899100, 'fiftyTwoWeekLowChange': 4.1099997, 'fiftyTwoWeekLowChangePercent': 0.44967172, 'fiftyTwoWeekRange': '9.14 - 58.27', 'fiftyTwoWeekHighChange': -45.02, 'fiftyTwoWeekHighChangePercent': -0.77261025, 'earningsTimestamp': 1675893600, 'earningsTimestampStart': 1683662400, 'earningsTimestampEnd': 1684180800, 'trailingAnnualDividendRate': 0.0, 'firstTradeDateMilliseconds': 1618493400000, 'priceHint': 2, 'regularMarketChange': 0.47999954, 'regularMarketTime': 1678899640, 'regularMarketPrice': 13.25, 'regularMarketDayHigh': 13.32, 'regularMarketDayRange': '12.36 - 13.32', 'displayName': 'AppLovin', 'symbol': 'APP'}, {'language': 'en-US', 'region': 'US', 'quoteType': 'EQUITY', 'typeDisp': 'Equity', 'quoteSourceName': 'Delayed Quote', 'triggerable': False, 'customPriceAlertConfidence': 'LOW', 'currency': 'USD', 'trailingAnnualDividendYield': 0.0, 'marketState': 'REGULAR', 'epsTrailingTwelveMonths': 0.018, 'sharesOutstanding': 1848999936, 'bookValue': -0.724, 'fiftyDayAverage': 0.006562, 'fiftyDayAverageChange': 0.0019380003, 'fiftyDayAverageChangePercent': 0.29533684, 'twoHundredDayAverage': 0.0070725, 'twoHundredDayAverageChange': 0.0014275005, 'twoHundredDayAverageChangePercent': 0.20183818, 'marketCap': 185305956352, 'priceToBook': -0.0117403325, 'sourceInterval': 15, 'exchangeDataDelayedBy': 0, 'exchangeTimezoneName': 'America/New_York', 'exchangeTimezoneShortName': 'EDT', 'gmtOffSetMilliseconds': -14400000, 'esgPopulated': False, 'tradeable': False, 'cryptoTradeable': False, 'exchange': 'PNK', 'fiftyTwoWeekLow': 0.004, 'fiftyTwoWeekHigh': 0.016, 'shortName': 'ROLLS ROYCE HOLDINGS NON CUM RE', 'regularMarketChangePercent': 3.6585417, 'regularMarketDayLow': 0.007, 'regularMarketVolume': 358747, 'regularMarketPreviousClose': 0.0082, 'bid': 0.0, 'ask': 0.0, 'bidSize': 0, 'askSize': 0, 'market': 'us_market', 'messageBoardId': 'finmb_408374', 'fullExchangeName': 'Other OTC', 'longName': 'Rolls-Royce Holdings plc', 'financialCurrency': 'GBP', 'regularMarketOpen': 0.007, 'averageDailyVolume3Month': 3011274, 'averageDailyVolume10Day': 2703020, 'fiftyTwoWeekLowChange': 0.0045000003, 'fiftyTwoWeekLowChangePercent': 1.125, 'fiftyTwoWeekRange': '0.004 - 0.016', 'fiftyTwoWeekHighChange': -0.0075000003, 'fiftyTwoWeekHighChangePercent': -0.46875, 'dividendDate': 1530748800, 'trailingAnnualDividendRate': 0.0, 'trailingPE': 0.47222227, 'firstTradeDateMilliseconds': 1554125400000, 'priceHint': 4, 'regularMarketChange': 0.00030000042, 'regularMarketTime': 1678895637, 'regularMarketPrice': 0.0085, 'regularMarketDayHigh': 0.0088, 'regularMarketDayRange': '0.007 - 0.0088', 'displayName': 'Rolls-Royce', 'symbol': 'RLLCF'}, {'language': 'en-US', 'region': 'US', 'quoteType': 'EQUITY', 'typeDisp': 'Equity', 'quoteSourceName': 'Delayed Quote', 'triggerable': False, 'customPriceAlertConfidence': 'LOW', 'currency': 'USD', 'trailingAnnualDividendYield': 0.0, 'marketState': 'REGULAR', 'epsTrailingTwelveMonths': -0.45, 'epsForward': 0.05, 'epsCurrentYear': -0.06, 'priceEpsCurrentYear': -138.41667, 'sharesOutstanding': 83211600, 'bookValue': 0.712, 'fiftyDayAverage': 9.2514, 'fiftyDayAverageChange': -0.9463997, 'fiftyDayAverageChangePercent': -0.102298, 'twoHundredDayAverage': 9.94915, 'twoHundredDayAverageChange': -1.6441498, 'twoHundredDayAverageChangePercent': -0.1652553, 'marketCap': 4860742144, 'forwardPE': 166.1, 'priceToBook': 11.664326, 'sourceInterval': 15, 'exchangeDataDelayedBy': 0, 'exchangeTimezoneName': 'America/New_York', 'exchangeTimezoneShortName': 'EDT', 'gmtOffSetMilliseconds': -14400000, 'esgPopulated': False, 'tradeable': False, 'cryptoTradeable': False, 'exchange': 'NYQ', 'fiftyTwoWeekLow': 7.23, 'fiftyTwoWeekHigh': 14.209, 'shortName': 'Hagerty, Inc.', 'averageAnalystRating': '2.5 - Buy', 'regularMarketChangePercent': 3.1677034, 'regularMarketDayLow': 7.8701, 'regularMarketVolume': 28044, 'regularMarketPreviousClose': 8.05, 'bid': 8.27, 'ask': 8.34, 'bidSize': 11, 'askSize': 8, 'market': 'us_market', 'messageBoardId': 'finmb_534395224', 'fullExchangeName': 'NYSE', 'longName': 'Hagerty, Inc.', 'financialCurrency': 'USD', 'regularMarketOpen': 8.0, 'averageDailyVolume3Month': 126728, 'averageDailyVolume10Day': 121500, 'fiftyTwoWeekLowChange': 1.0750003, 'fiftyTwoWeekLowChangePercent': 0.14868607, 'fiftyTwoWeekRange': '7.23 - 14.209', 'fiftyTwoWeekHighChange': -5.9039993, 'fiftyTwoWeekHighChangePercent': -0.41551125, 'earningsTimestamp': 1678802400, 'earningsTimestampStart': 1683549000, 'earningsTimestampEnd': 1683894600, 'trailingAnnualDividendRate': 0.0, 'firstTradeDateMilliseconds': 1622554200000, 'priceHint': 2, 'regularMarketChange': 0.2550001, 'regularMarketTime': 1678898565, 'regularMarketPrice': 8.305, 'regularMarketDayHigh': 8.435, 'regularMarketDayRange': '7.8701 - 8.435', 'displayName': 'Hagerty', 'symbol': 'HGTY'}, {'language': 'en-US', 'region': 'US', 'quoteType': 'EQUITY', 'typeDisp': 'Equity', 'quoteSourceName': 'Delayed Quote', 'triggerable': False, 'customPriceAlertConfidence': 'LOW', 'currency': 'USD', 'trailingAnnualDividendYield': 0.0, 'marketState': 'REGULAR', 'epsTrailingTwelveMonths': 0.007, 'sharesOutstanding': 5738840064, 'bookValue': -13.886, 'fiftyDayAverage': 2.26108, 'fiftyDayAverageChange': -0.48108006, 'fiftyDayAverageChangePercent': -0.2127656, 'twoHundredDayAverage': 2.9367495, 'twoHundredDayAverageChange': -1.1567495, 'twoHundredDayAverageChangePercent': -0.3938877, 'marketCap': 2252981760, 'priceToBook': -0.12818666, 'sourceInterval': 15, 'exchangeDataDelayedBy': 0, 'exchangeTimezoneName': 'America/New_York', 'exchangeTimezoneShortName': 'EDT', 'gmtOffSetMilliseconds': -14400000, 'esgPopulated': False, 'tradeable': False, 'cryptoTradeable': False, 'exchange': 'PNK', 'fiftyTwoWeekLow': 1.7, 'fiftyTwoWeekHigh': 4.0, 'shortName': 'FEDERAL NATIONAL MORTGAGE ASSOC', 'regularMarketChangePercent': 0.0, 'regularMarketDayLow': 1.75, 'regularMarketVolume': 64016, 'regularMarketPreviousClose': 1.78, 'bid': 0.0, 'ask': 0.0, 'bidSize': 0, 'askSize': 0, 'market': 'us_market', 'messageBoardId': 'finmb_271135', 'fullExchangeName': 'Other OTC', 'longName': 'Federal National Mortgage Association', 'financialCurrency': 'USD', 'regularMarketOpen': 1.83, 'averageDailyVolume3Month': 481500, 'averageDailyVolume10Day': 1085722, 'fiftyTwoWeekLowChange': 0.07999992, 'fiftyTwoWeekLowChangePercent': 0.047058776, 'fiftyTwoWeekRange': '1.7 - 4.0', 'fiftyTwoWeekHighChange': -2.22, 'fiftyTwoWeekHighChangePercent': -0.555, 'dividendDate': 1222732800, 'trailingAnnualDividendRate': 0.0, 'trailingPE': 254.2857, 'firstTradeDateMilliseconds': 1197988200000, 'priceHint': 4, 'regularMarketChange': 0.0, 'regularMarketTime': 1678898744, 'regularMarketPrice': 1.78, 'regularMarketDayHigh': 1.85, 'regularMarketDayRange': '1.75 - 1.85', 'symbol': 'FNMAS'}, {'language': 'en-US', 'region': 'US', 'quoteType': 'EQUITY', 'typeDisp': 'Equity', 'quoteSourceName': 'Nasdaq Real Time Price', 'triggerable': True, 'customPriceAlertConfidence': 'HIGH', 'currency': 'USD', 'trailingAnnualDividendYield': 0.0, 'marketState': 'REGULAR', 'epsTrailingTwelveMonths': 10.39, 'epsForward': 13.55, 'epsCurrentYear': 13.88, 'priceEpsCurrentYear': 7.3789625, 'sharesOutstanding': 28633200, 'bookValue': 107.377, 'fiftyDayAverage': 101.4436, 'fiftyDayAverageChange': 0.97639465, 'fiftyDayAverageChangePercent': 0.009625, 'twoHundredDayAverage': 92.6106, 'twoHundredDayAverageChange': 9.809395, 'twoHundredDayAverageChangePercent': 0.10592086, 'marketCap': 2932612352, 'forwardPE': 7.5586715, 'priceToBook': 0.95383555, 'sourceInterval': 15, 'exchangeDataDelayedBy': 0, 'exchangeTimezoneName': 'America/New_York', 'exchangeTimezoneShortName': 'EDT', 'gmtOffSetMilliseconds': -14400000, 'esgPopulated': False, 'tradeable': False, 'cryptoTradeable': False, 'exchange': 'NMS', 'fiftyTwoWeekLow': 58.7, 'fiftyTwoWeekHigh': 102.43, 'shortName': 'Atlas Air Worldwide Holdings', 'averageAnalystRating': '2.6 - Hold', 'regularMarketChangePercent': 3.1419888, 'regularMarketDayLow': 102.39, 'regularMarketVolume': 1587070, 'regularMarketPreviousClose': 99.3, 'bid': 102.4, 'ask': 102.4, 'bidSize': 18, 'askSize': 22, 'market': 'us_market', 'messageBoardId': 'finmb_340272', 'fullExchangeName': 'NasdaqGS', 'longName': 'Atlas Air Worldwide Holdings, Inc.', 'financialCurrency': 'USD', 'regularMarketOpen': 102.42, 'averageDailyVolume3Month': 474637, 'averageDailyVolume10Day': 840520, 'fiftyTwoWeekLowChange': 43.719997, 'fiftyTwoWeekLowChangePercent': 0.744804, 'fiftyTwoWeekRange': '58.7 - 102.43', 'fiftyTwoWeekHighChange': -0.010002136, 'fiftyTwoWeekHighChangePercent': -9.76485e-05, 'earningsTimestamp': 1677157214, 'earningsTimestampStart': 1683117000, 'earningsTimestampEnd': 1683549000, 'trailingAnnualDividendRate': 0.0, 'trailingPE': 9.857554, 'firstTradeDateMilliseconds': 1131546600000, 'priceHint': 2, 'regularMarketChange': 3.119995, 'regularMarketTime': 1678899647, 'regularMarketPrice': 102.42, 'regularMarketDayHigh': 102.43, 'regularMarketDayRange': '102.39 - 102.43', 'displayName': 'Atlas Air Worldwide', 'symbol': 'AAWW'}, {'language': 'en-US', 'region': 'US', 'quoteType': 'EQUITY', 'typeDisp': 'Equity', 'quoteSourceName': 'Delayed Quote', 'triggerable': False, 'customPriceAlertConfidence': 'LOW', 'currency': 'USD', 'trailingAnnualDividendYield': 0.0, 'marketState': 'REGULAR', 'epsTrailingTwelveMonths': 0.007, 'sharesOutstanding': 5738840064, 'bookValue': -13.886, 'fiftyDayAverage': 1.90679, 'fiftyDayAverageChange': -0.36679006, 'fiftyDayAverageChangePercent': -0.19235997, 'twoHundredDayAverage': 2.5586376, 'twoHundredDayAverageChange': -1.0186377, 'twoHundredDayAverageChangePercent': -0.3981172, 'marketCap': 2037805056, 'priceToBook': -0.11090307, 'sourceInterval': 15, 'exchangeDataDelayedBy': 0, 'exchangeTimezoneName': 'America/New_York', 'exchangeTimezoneShortName': 'EDT', 'gmtOffSetMilliseconds': -14400000, 'esgPopulated': False, 'tradeable': False, 'cryptoTradeable': False, 'exchange': 'PNK', 'fiftyTwoWeekLow': 1.45, 'fiftyTwoWeekHigh': 3.63, 'shortName': 'FEDERAL NATIONAL MORTGAGE ASSOC', 'regularMarketChangePercent': 3.1134896, 'regularMarketDayLow': 1.45, 'regularMarketVolume': 32217, 'regularMarketPreviousClose': 1.4935, 'bid': 0.0, 'ask': 0.0, 'bidSize': 0, 'askSize': 0, 'market': 'us_market', 'messageBoardId': 'finmb_271135', 'fullExchangeName': 'Other OTC', 'longName': 'Federal National Mortgage Association', 'financialCurrency': 'USD', 'regularMarketOpen': 1.5, 'averageDailyVolume3Month': 69347, 'averageDailyVolume10Day': 106458, 'fiftyTwoWeekLowChange': 0.089999914, 'fiftyTwoWeekLowChangePercent': 0.062068906, 'fiftyTwoWeekRange': '1.45 - 3.63', 'fiftyTwoWeekHighChange': -2.0900002, 'fiftyTwoWeekHighChangePercent': -0.5757576, 'dividendDate': 1222732800, 'trailingAnnualDividendRate': 0.0, 'trailingPE': 219.99998, 'firstTradeDateMilliseconds': 1214400600000, 'priceHint': 4, 'regularMarketChange': 0.046499968, 'regularMarketTime': 1678897652, 'regularMarketPrice': 1.54, 'regularMarketDayHigh': 1.55, 'regularMarketDayRange': '1.45 - 1.55', 'symbol': 'FNMAT'}, {'language': 'en-US', 'region': 'US', 'quoteType': 'EQUITY', 'typeDisp': 'Equity', 'quoteSourceName': 'Nasdaq Real Time Price', 'triggerable': False, 'customPriceAlertConfidence': 'LOW', 'currency': 'USD', 'trailingAnnualDividendYield': 0.047539335, 'marketState': 'REGULAR', 'epsTrailingTwelveMonths': 4.64, 'epsForward': 11.4, 'epsCurrentYear': 10.31, 'priceEpsCurrentYear': 2.9747913, 'sharesOutstanding': 109615000, 'bookValue': 46.855, 'fiftyDayAverage': 68.4842, 'fiftyDayAverageChange': -37.814102, 'fiftyDayAverageChangePercent': -0.55215806, 'twoHundredDayAverage': 70.5683, 'twoHundredDayAverageChange': -39.8982, 'twoHundredDayAverageChangePercent': -0.5653842, 'marketCap': 3361902848, 'forwardPE': 2.6903596, 'priceToBook': 0.65457475, 'sourceInterval': 15, 'exchangeDataDelayedBy': 0, 'exchangeTimezoneName': 'America/New_York', 'exchangeTimezoneShortName': 'EDT', 'gmtOffSetMilliseconds': -14400000, 'esgPopulated': False, 'tradeable': False, 'cryptoTradeable': False, 'exchange': 'NYQ', 'fiftyTwoWeekLow': 7.46, 'fiftyTwoWeekHigh': 89.26, 'shortName': 'Western Alliance Bancorporation', 'averageAnalystRating': '1.8 - Buy', 'regularMarketChangePercent': 2.678602, 'regularMarketDayLow': 26.3332, 'regularMarketVolume': 21011627, 'regularMarketPreviousClose': 29.87, 'bid': 30.58, 'ask': 30.59, 'bidSize': 9, 'askSize': 10, 'market': 'us_market', 'messageBoardId': 'finmb_22211534', 'fullExchangeName': 'NYSE', 'longName': 'Western Alliance Bancorporation', 'financialCurrency': 'USD', 'regularMarketOpen': 27.77, 'averageDailyVolume3Month': 3238859, 'averageDailyVolume10Day': 14448400, 'fiftyTwoWeekLowChange': 23.210098, 'fiftyTwoWeekLowChangePercent': 3.1112733, 'fiftyTwoWeekRange': '7.46 - 89.26', 'fiftyTwoWeekHighChange': -58.589905, 'fiftyTwoWeekHighChangePercent': -0.656396, 'dividendDate': 1677801600, 'earningsTimestamp': 1674666000, 'earningsTimestampStart': 1681901940, 'earningsTimestampEnd': 1682337600, 'trailingAnnualDividendRate': 1.42, 'trailingPE': 6.6099353, 'firstTradeDateMilliseconds': 1120224600000, 'priceHint': 2, 'regularMarketChange': 0.8000984, 'regularMarketTime': 1678899642, 'regularMarketPrice': 30.6701, 'regularMarketDayHigh': 33.95, 'regularMarketDayRange': '26.3332 - 33.95', 'symbol': 'WAL'}]\n"
     ]
    }
   ],
   "source": [
    "from yahooquery import Screener\n",
    "\n",
    "s = Screener()\n",
    "# View available screeners along with description and nice name\n",
    "#s.SCREENERS\n",
    "\n",
    "# or just view list of keys\n",
    "print(s.available_screeners)\n",
    "\n",
    "# Stocks ordered in descending order by intraday trade volume \n",
    "data = s.get_screeners(['most_actives', 'day_gainers', 'day_losers','top_stocks_owned_by_cathie_wood'])\n",
    "#print(data)\n",
    "# is equivalent to\n",
    "data = s.get_screeners('most_actives day_gainers day_losers top_stocks_owned_by_cathie_wood')\n",
    "\n",
    "#print(data['most_actives']['quotes'])\n",
    "print(data['day_gainers']['quotes'])\n",
    "#print(data['top_stocks_owned_by_cathie_wood']['quotes'])\n",
    "#print(data['day_losers']['quotes'])"
   ]
  },
  {
   "cell_type": "code",
   "execution_count": null,
   "id": "318dfa95",
   "metadata": {},
   "outputs": [],
   "source": []
  }
 ],
 "metadata": {
  "kernelspec": {
   "display_name": "Python 3 (ipykernel)",
   "language": "python",
   "name": "python3"
  },
  "language_info": {
   "codemirror_mode": {
    "name": "ipython",
    "version": 3
   },
   "file_extension": ".py",
   "mimetype": "text/x-python",
   "name": "python",
   "nbconvert_exporter": "python",
   "pygments_lexer": "ipython3",
   "version": "3.7.2"
  }
 },
 "nbformat": 4,
 "nbformat_minor": 5
}
