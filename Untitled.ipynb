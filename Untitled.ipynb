{
 "cells": [
  {
   "cell_type": "code",
   "execution_count": 61,
   "id": "46542078",
   "metadata": {},
   "outputs": [
    {
     "name": "stdout",
     "output_type": "stream",
     "text": [
      "[1, 2, 5, -3]\n",
      "[1, -1, 5]\n",
      "[1, -1, 8, -3]\n",
      "[5]\n",
      "[8, -3]\n"
     ]
    }
   ],
   "source": [
    "array = [1,2,-1,5,10,22,8,-3]\n",
    "\n",
    "def sublist(array):\n",
    "    if len(array) == 0:\n",
    "        return [[]]\n",
    "    final = []\n",
    "    first = array[0]\n",
    "    rest = array[1:]\n",
    "    temp = sublist(rest)\n",
    "    for i in temp:\n",
    "        final.append([first] + i)\n",
    "    final.extend(temp)\n",
    "    return final\n",
    "\n",
    "subs = sublist(array)\n",
    "for sub in subs:\n",
    "    if sum(sub) == 5:\n",
    "        print(sub)\n",
    "    "
   ]
  },
  {
   "cell_type": "code",
   "execution_count": null,
   "id": "bd9178be",
   "metadata": {},
   "outputs": [],
   "source": [
    " "
   ]
  },
  {
   "cell_type": "code",
   "execution_count": 55,
   "id": "43a64fa0",
   "metadata": {},
   "outputs": [
    {
     "name": "stdout",
     "output_type": "stream",
     "text": [
      "[[1], [1, 2], [1, 2, -1], [1, 2, -1, 5], [1, 2, -1, 5, 10], [1, 2, -1, 5, 10, 22], [1, 2, -1, 5, 10, 22, 8], [1, 2, -1, 5, 10, 22, 8, -3], [2], [2, -1], [2, -1, 5], [2, -1, 5, 10], [2, -1, 5, 10, 22], [2, -1, 5, 10, 22, 8], [2, -1, 5, 10, 22, 8, -3], [-1], [-1, 5], [-1, 5, 10], [-1, 5, 10, 22], [-1, 5, 10, 22, 8], [-1, 5, 10, 22, 8, -3], [5], [5, 10], [5, 10, 22], [5, 10, 22, 8], [5, 10, 22, 8, -3], [10], [10, 22], [10, 22, 8], [10, 22, 8, -3], [22], [22, 8], [22, 8, -3], [8], [8, -3], [-3]]\n",
      "[5]\n",
      "[8, -3]\n"
     ]
    }
   ],
   "source": [
    " "
   ]
  },
  {
   "cell_type": "code",
   "execution_count": null,
   "id": "28ca128e",
   "metadata": {},
   "outputs": [],
   "source": []
  }
 ],
 "metadata": {
  "kernelspec": {
   "display_name": "Python 3 (ipykernel)",
   "language": "python",
   "name": "python3"
  },
  "language_info": {
   "codemirror_mode": {
    "name": "ipython",
    "version": 3
   },
   "file_extension": ".py",
   "mimetype": "text/x-python",
   "name": "python",
   "nbconvert_exporter": "python",
   "pygments_lexer": "ipython3",
   "version": "3.7.2"
  }
 },
 "nbformat": 4,
 "nbformat_minor": 5
}
